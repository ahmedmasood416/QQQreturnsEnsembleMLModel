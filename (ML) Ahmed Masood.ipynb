{
 "cells": [
  {
   "cell_type": "code",
   "execution_count": 1,
   "id": "57f0385f",
   "metadata": {
    "id": "57f0385f"
   },
   "outputs": [],
   "source": [
    "import os, random\n",
    "import pandas as pd\n",
    "import numpy as np\n",
    "import datetime as dt\n",
    "import pandas_ta as ta\n",
    "import yfinance as yf"
   ]
  },
  {
   "cell_type": "code",
   "execution_count": 2,
   "id": "027ef7d4",
   "metadata": {
    "id": "027ef7d4"
   },
   "outputs": [],
   "source": [
    "df = yf.download(\"QQQ\", start ='2013-12-22' , end ='2023-12-22' , progress=False)"
   ]
  },
  {
   "cell_type": "code",
   "execution_count": 3,
   "id": "d8aec0e4",
   "metadata": {
    "id": "d8aec0e4"
   },
   "outputs": [],
   "source": [
    "# add features\n",
    "df['o2c'] = df['Open'] - df['Close']\n",
    "df['h2l'] = df['High'] - df['Low']"
   ]
  },
  {
   "cell_type": "code",
   "execution_count": 4,
   "id": "d7e9586f",
   "metadata": {
    "id": "d7e9586f"
   },
   "outputs": [],
   "source": [
    "data = df.copy()"
   ]
  },
  {
   "cell_type": "code",
   "execution_count": 5,
   "id": "49189a3e",
   "metadata": {
    "colab": {
     "base_uri": "https://localhost:8080/"
    },
    "id": "49189a3e",
    "outputId": "c8113958-d483-4a20-ba6e-3a5e87b5825e"
   },
   "outputs": [
    {
     "name": "stderr",
     "output_type": "stream",
     "text": [
      "131it [00:02, 45.55it/s]\n"
     ]
    }
   ],
   "source": [
    "# add all factors\n",
    "data.ta.strategy('All')"
   ]
  },
  {
   "cell_type": "code",
   "execution_count": 6,
   "id": "5b5f5221",
   "metadata": {
    "colab": {
     "base_uri": "https://localhost:8080/",
     "height": 461
    },
    "id": "5b5f5221",
    "outputId": "b9d19de4-6e4c-48ce-c651-e39f72f394f4"
   },
   "outputs": [
    {
     "data": {
      "text/html": [
       "<div>\n",
       "<style scoped>\n",
       "    .dataframe tbody tr th:only-of-type {\n",
       "        vertical-align: middle;\n",
       "    }\n",
       "\n",
       "    .dataframe tbody tr th {\n",
       "        vertical-align: top;\n",
       "    }\n",
       "\n",
       "    .dataframe thead th {\n",
       "        text-align: right;\n",
       "    }\n",
       "</style>\n",
       "<table border=\"1\" class=\"dataframe\">\n",
       "  <thead>\n",
       "    <tr style=\"text-align: right;\">\n",
       "      <th></th>\n",
       "      <th>Adj Close</th>\n",
       "      <th>Volume</th>\n",
       "      <th>o2c</th>\n",
       "      <th>h2l</th>\n",
       "      <th>ABER_ZG_5_15</th>\n",
       "      <th>ABER_SG_5_15</th>\n",
       "      <th>ABER_XG_5_15</th>\n",
       "      <th>ABER_ATR_5_15</th>\n",
       "      <th>ACCBL_20</th>\n",
       "      <th>ACCBM_20</th>\n",
       "      <th>...</th>\n",
       "      <th>VTXP_14</th>\n",
       "      <th>VTXM_14</th>\n",
       "      <th>VWAP_D</th>\n",
       "      <th>VWMA_10</th>\n",
       "      <th>WCP</th>\n",
       "      <th>WILLR_14</th>\n",
       "      <th>WMA_10</th>\n",
       "      <th>ZL_EMA_10</th>\n",
       "      <th>ZS_30</th>\n",
       "      <th>predict</th>\n",
       "    </tr>\n",
       "    <tr>\n",
       "      <th>Date</th>\n",
       "      <th></th>\n",
       "      <th></th>\n",
       "      <th></th>\n",
       "      <th></th>\n",
       "      <th></th>\n",
       "      <th></th>\n",
       "      <th></th>\n",
       "      <th></th>\n",
       "      <th></th>\n",
       "      <th></th>\n",
       "      <th></th>\n",
       "      <th></th>\n",
       "      <th></th>\n",
       "      <th></th>\n",
       "      <th></th>\n",
       "      <th></th>\n",
       "      <th></th>\n",
       "      <th></th>\n",
       "      <th></th>\n",
       "      <th></th>\n",
       "      <th></th>\n",
       "    </tr>\n",
       "  </thead>\n",
       "  <tbody>\n",
       "    <tr>\n",
       "      <th>2014-05-13</th>\n",
       "      <td>81.474556</td>\n",
       "      <td>30311900</td>\n",
       "      <td>0.019997</td>\n",
       "      <td>0.489998</td>\n",
       "      <td>87.166001</td>\n",
       "      <td>88.416988</td>\n",
       "      <td>85.915014</td>\n",
       "      <td>1.250987</td>\n",
       "      <td>83.975365</td>\n",
       "      <td>86.9810</td>\n",
       "      <td>...</td>\n",
       "      <td>1.026792</td>\n",
       "      <td>0.927781</td>\n",
       "      <td>88.340001</td>\n",
       "      <td>87.265404</td>\n",
       "      <td>88.327501</td>\n",
       "      <td>-9.142848</td>\n",
       "      <td>87.401819</td>\n",
       "      <td>87.678440</td>\n",
       "      <td>1.117167</td>\n",
       "      <td>1</td>\n",
       "    </tr>\n",
       "    <tr>\n",
       "      <th>2014-05-14</th>\n",
       "      <td>81.050034</td>\n",
       "      <td>26483600</td>\n",
       "      <td>0.189995</td>\n",
       "      <td>0.729996</td>\n",
       "      <td>87.474668</td>\n",
       "      <td>88.690922</td>\n",
       "      <td>86.258414</td>\n",
       "      <td>1.216254</td>\n",
       "      <td>84.342643</td>\n",
       "      <td>87.1200</td>\n",
       "      <td>...</td>\n",
       "      <td>1.001225</td>\n",
       "      <td>0.979805</td>\n",
       "      <td>87.933334</td>\n",
       "      <td>87.291810</td>\n",
       "      <td>87.907501</td>\n",
       "      <td>-22.285679</td>\n",
       "      <td>87.486365</td>\n",
       "      <td>87.951451</td>\n",
       "      <td>0.825349</td>\n",
       "      <td>1</td>\n",
       "    </tr>\n",
       "    <tr>\n",
       "      <th>2014-05-15</th>\n",
       "      <td>80.413307</td>\n",
       "      <td>59680300</td>\n",
       "      <td>0.669998</td>\n",
       "      <td>1.379997</td>\n",
       "      <td>87.582668</td>\n",
       "      <td>88.809838</td>\n",
       "      <td>86.355497</td>\n",
       "      <td>1.227170</td>\n",
       "      <td>84.388542</td>\n",
       "      <td>87.1680</td>\n",
       "      <td>...</td>\n",
       "      <td>1.004346</td>\n",
       "      <td>0.965239</td>\n",
       "      <td>87.226667</td>\n",
       "      <td>87.236773</td>\n",
       "      <td>87.205000</td>\n",
       "      <td>-42.000035</td>\n",
       "      <td>87.437455</td>\n",
       "      <td>87.865732</td>\n",
       "      <td>0.333878</td>\n",
       "      <td>1</td>\n",
       "    </tr>\n",
       "    <tr>\n",
       "      <th>2014-05-16</th>\n",
       "      <td>80.939339</td>\n",
       "      <td>66804100</td>\n",
       "      <td>-0.470001</td>\n",
       "      <td>1.120003</td>\n",
       "      <td>87.756001</td>\n",
       "      <td>88.976027</td>\n",
       "      <td>86.535975</td>\n",
       "      <td>1.220026</td>\n",
       "      <td>84.427180</td>\n",
       "      <td>87.2435</td>\n",
       "      <td>...</td>\n",
       "      <td>1.065660</td>\n",
       "      <td>0.972423</td>\n",
       "      <td>87.370000</td>\n",
       "      <td>87.286350</td>\n",
       "      <td>87.455000</td>\n",
       "      <td>-29.220811</td>\n",
       "      <td>87.501455</td>\n",
       "      <td>87.742871</td>\n",
       "      <td>0.933547</td>\n",
       "      <td>1</td>\n",
       "    </tr>\n",
       "    <tr>\n",
       "      <th>2014-05-19</th>\n",
       "      <td>81.502228</td>\n",
       "      <td>32017000</td>\n",
       "      <td>-0.870003</td>\n",
       "      <td>1.159996</td>\n",
       "      <td>87.779334</td>\n",
       "      <td>88.995358</td>\n",
       "      <td>86.563310</td>\n",
       "      <td>1.216024</td>\n",
       "      <td>84.460538</td>\n",
       "      <td>87.3175</td>\n",
       "      <td>...</td>\n",
       "      <td>1.029910</td>\n",
       "      <td>0.940832</td>\n",
       "      <td>88.026667</td>\n",
       "      <td>87.319668</td>\n",
       "      <td>88.100000</td>\n",
       "      <td>-9.415609</td>\n",
       "      <td>87.672364</td>\n",
       "      <td>87.853257</td>\n",
       "      <td>1.412997</td>\n",
       "      <td>1</td>\n",
       "    </tr>\n",
       "    <tr>\n",
       "      <th>2014-05-20</th>\n",
       "      <td>81.206932</td>\n",
       "      <td>33716000</td>\n",
       "      <td>0.279999</td>\n",
       "      <td>0.959999</td>\n",
       "      <td>87.727334</td>\n",
       "      <td>88.926289</td>\n",
       "      <td>86.528378</td>\n",
       "      <td>1.198956</td>\n",
       "      <td>84.473231</td>\n",
       "      <td>87.3410</td>\n",
       "      <td>...</td>\n",
       "      <td>1.037013</td>\n",
       "      <td>0.942208</td>\n",
       "      <td>88.079999</td>\n",
       "      <td>87.411441</td>\n",
       "      <td>88.059999</td>\n",
       "      <td>-19.805203</td>\n",
       "      <td>87.778364</td>\n",
       "      <td>87.910847</td>\n",
       "      <td>1.042748</td>\n",
       "      <td>1</td>\n",
       "    </tr>\n",
       "    <tr>\n",
       "      <th>2014-05-21</th>\n",
       "      <td>81.982079</td>\n",
       "      <td>36837700</td>\n",
       "      <td>-0.679993</td>\n",
       "      <td>0.779999</td>\n",
       "      <td>87.863333</td>\n",
       "      <td>89.041692</td>\n",
       "      <td>86.684975</td>\n",
       "      <td>1.178358</td>\n",
       "      <td>84.550160</td>\n",
       "      <td>87.4450</td>\n",
       "      <td>...</td>\n",
       "      <td>1.010357</td>\n",
       "      <td>0.959871</td>\n",
       "      <td>88.613332</td>\n",
       "      <td>87.682300</td>\n",
       "      <td>88.669998</td>\n",
       "      <td>-1.488186</td>\n",
       "      <td>88.015454</td>\n",
       "      <td>88.388873</td>\n",
       "      <td>1.675559</td>\n",
       "      <td>1</td>\n",
       "    </tr>\n",
       "    <tr>\n",
       "      <th>2014-05-22</th>\n",
       "      <td>82.341980</td>\n",
       "      <td>30617100</td>\n",
       "      <td>-0.290001</td>\n",
       "      <td>0.680000</td>\n",
       "      <td>88.252000</td>\n",
       "      <td>89.397135</td>\n",
       "      <td>87.106866</td>\n",
       "      <td>1.145135</td>\n",
       "      <td>84.744527</td>\n",
       "      <td>87.5270</td>\n",
       "      <td>...</td>\n",
       "      <td>1.057517</td>\n",
       "      <td>0.918301</td>\n",
       "      <td>89.170003</td>\n",
       "      <td>87.946989</td>\n",
       "      <td>89.185003</td>\n",
       "      <td>-6.329107</td>\n",
       "      <td>88.282000</td>\n",
       "      <td>88.818170</td>\n",
       "      <td>1.877989</td>\n",
       "      <td>1</td>\n",
       "    </tr>\n",
       "    <tr>\n",
       "      <th>2014-05-23</th>\n",
       "      <td>82.941818</td>\n",
       "      <td>22687300</td>\n",
       "      <td>-0.559998</td>\n",
       "      <td>0.779999</td>\n",
       "      <td>88.704667</td>\n",
       "      <td>89.825459</td>\n",
       "      <td>87.583875</td>\n",
       "      <td>1.120792</td>\n",
       "      <td>84.942049</td>\n",
       "      <td>87.7115</td>\n",
       "      <td>...</td>\n",
       "      <td>1.115670</td>\n",
       "      <td>0.878278</td>\n",
       "      <td>89.633334</td>\n",
       "      <td>88.169394</td>\n",
       "      <td>89.695000</td>\n",
       "      <td>-0.457763</td>\n",
       "      <td>88.616727</td>\n",
       "      <td>89.294866</td>\n",
       "      <td>2.199106</td>\n",
       "      <td>1</td>\n",
       "    </tr>\n",
       "    <tr>\n",
       "      <th>2014-05-27</th>\n",
       "      <td>83.975365</td>\n",
       "      <td>29725200</td>\n",
       "      <td>-0.720001</td>\n",
       "      <td>0.820000</td>\n",
       "      <td>89.247333</td>\n",
       "      <td>90.369406</td>\n",
       "      <td>88.125261</td>\n",
       "      <td>1.122073</td>\n",
       "      <td>85.312597</td>\n",
       "      <td>87.9380</td>\n",
       "      <td>...</td>\n",
       "      <td>1.172624</td>\n",
       "      <td>0.819959</td>\n",
       "      <td>90.739998</td>\n",
       "      <td>88.391091</td>\n",
       "      <td>90.804998</td>\n",
       "      <td>-0.364238</td>\n",
       "      <td>89.099090</td>\n",
       "      <td>90.150345</td>\n",
       "      <td>2.815790</td>\n",
       "      <td>1</td>\n",
       "    </tr>\n",
       "  </tbody>\n",
       "</table>\n",
       "<p>10 rows × 274 columns</p>\n",
       "</div>"
      ],
      "text/plain": [
       "            Adj Close    Volume       o2c       h2l  ABER_ZG_5_15  \\\n",
       "Date                                                                \n",
       "2014-05-13  81.474556  30311900  0.019997  0.489998     87.166001   \n",
       "2014-05-14  81.050034  26483600  0.189995  0.729996     87.474668   \n",
       "2014-05-15  80.413307  59680300  0.669998  1.379997     87.582668   \n",
       "2014-05-16  80.939339  66804100 -0.470001  1.120003     87.756001   \n",
       "2014-05-19  81.502228  32017000 -0.870003  1.159996     87.779334   \n",
       "2014-05-20  81.206932  33716000  0.279999  0.959999     87.727334   \n",
       "2014-05-21  81.982079  36837700 -0.679993  0.779999     87.863333   \n",
       "2014-05-22  82.341980  30617100 -0.290001  0.680000     88.252000   \n",
       "2014-05-23  82.941818  22687300 -0.559998  0.779999     88.704667   \n",
       "2014-05-27  83.975365  29725200 -0.720001  0.820000     89.247333   \n",
       "\n",
       "            ABER_SG_5_15  ABER_XG_5_15  ABER_ATR_5_15   ACCBL_20  ACCBM_20  \\\n",
       "Date                                                                         \n",
       "2014-05-13     88.416988     85.915014       1.250987  83.975365   86.9810   \n",
       "2014-05-14     88.690922     86.258414       1.216254  84.342643   87.1200   \n",
       "2014-05-15     88.809838     86.355497       1.227170  84.388542   87.1680   \n",
       "2014-05-16     88.976027     86.535975       1.220026  84.427180   87.2435   \n",
       "2014-05-19     88.995358     86.563310       1.216024  84.460538   87.3175   \n",
       "2014-05-20     88.926289     86.528378       1.198956  84.473231   87.3410   \n",
       "2014-05-21     89.041692     86.684975       1.178358  84.550160   87.4450   \n",
       "2014-05-22     89.397135     87.106866       1.145135  84.744527   87.5270   \n",
       "2014-05-23     89.825459     87.583875       1.120792  84.942049   87.7115   \n",
       "2014-05-27     90.369406     88.125261       1.122073  85.312597   87.9380   \n",
       "\n",
       "            ...   VTXP_14   VTXM_14     VWAP_D    VWMA_10        WCP  \\\n",
       "Date        ...                                                        \n",
       "2014-05-13  ...  1.026792  0.927781  88.340001  87.265404  88.327501   \n",
       "2014-05-14  ...  1.001225  0.979805  87.933334  87.291810  87.907501   \n",
       "2014-05-15  ...  1.004346  0.965239  87.226667  87.236773  87.205000   \n",
       "2014-05-16  ...  1.065660  0.972423  87.370000  87.286350  87.455000   \n",
       "2014-05-19  ...  1.029910  0.940832  88.026667  87.319668  88.100000   \n",
       "2014-05-20  ...  1.037013  0.942208  88.079999  87.411441  88.059999   \n",
       "2014-05-21  ...  1.010357  0.959871  88.613332  87.682300  88.669998   \n",
       "2014-05-22  ...  1.057517  0.918301  89.170003  87.946989  89.185003   \n",
       "2014-05-23  ...  1.115670  0.878278  89.633334  88.169394  89.695000   \n",
       "2014-05-27  ...  1.172624  0.819959  90.739998  88.391091  90.804998   \n",
       "\n",
       "             WILLR_14     WMA_10  ZL_EMA_10     ZS_30  predict  \n",
       "Date                                                            \n",
       "2014-05-13  -9.142848  87.401819  87.678440  1.117167        1  \n",
       "2014-05-14 -22.285679  87.486365  87.951451  0.825349        1  \n",
       "2014-05-15 -42.000035  87.437455  87.865732  0.333878        1  \n",
       "2014-05-16 -29.220811  87.501455  87.742871  0.933547        1  \n",
       "2014-05-19  -9.415609  87.672364  87.853257  1.412997        1  \n",
       "2014-05-20 -19.805203  87.778364  87.910847  1.042748        1  \n",
       "2014-05-21  -1.488186  88.015454  88.388873  1.675559        1  \n",
       "2014-05-22  -6.329107  88.282000  88.818170  1.877989        1  \n",
       "2014-05-23  -0.457763  88.616727  89.294866  2.199106        1  \n",
       "2014-05-27  -0.364238  89.099090  90.150345  2.815790        1  \n",
       "\n",
       "[10 rows x 274 columns]"
      ]
     },
     "execution_count": 6,
     "metadata": {},
     "output_type": "execute_result"
    }
   ],
   "source": [
    "# define target (label)\n",
    "data['predict'] = np.where(.995*data['Adj Close'].shift(-10) > data['Adj Close'], 1, 0)\n",
    "\n",
    "# drop unwanted columns\n",
    "data.drop(['Open','High','Low','Close','HILOl_13_21', 'HILOs_13_21', 'PSARl_0.02_0.2', 'PSARs_0.02_0.2', 'PSARaf_0.02_0.2', 'QQEl_14_5_4.236', 'QQEs_14_5_4.236', 'SUPERTl_7_3.0', 'SUPERTs_7_3.0'], axis=1, inplace=True)\n",
    "data = data.dropna()\n",
    "\n",
    "data.head(10)"
   ]
  },
  {
   "cell_type": "code",
   "execution_count": 7,
   "id": "ba8ae4af",
   "metadata": {
    "colab": {
     "base_uri": "https://localhost:8080/"
    },
    "id": "ba8ae4af",
    "outputId": "2b0f8fb7-8297-4644-bea8-140b348ed8a5"
   },
   "outputs": [
    {
     "data": {
      "text/plain": [
       "1    1401\n",
       "0     994\n",
       "Name: predict, dtype: int64"
      ]
     },
     "execution_count": 7,
     "metadata": {},
     "output_type": "execute_result"
    }
   ],
   "source": [
    "c = data['predict'].value_counts()\n",
    "c"
   ]
  },
  {
   "cell_type": "code",
   "execution_count": 8,
   "id": "caafe003",
   "metadata": {
    "id": "caafe003"
   },
   "outputs": [],
   "source": [
    "# class weight function\n",
    "def cwts(dfs):\n",
    "    c0, c1 = np.bincount(dfs['predict'])\n",
    "    w0=(1/c0)*(len(df))/2\n",
    "    w1=(1/c1)*(len(df))/2\n",
    "    return {0: w0, 1: w1}"
   ]
  },
  {
   "cell_type": "code",
   "execution_count": 9,
   "id": "oHc_ft7LAES6",
   "metadata": {
    "colab": {
     "base_uri": "https://localhost:8080/"
    },
    "id": "oHc_ft7LAES6",
    "outputId": "77856191-1b2b-4e73-f966-c4a68b722c1c"
   },
   "outputs": [
    {
     "name": "stdout",
     "output_type": "stream",
     "text": [
      "CPU times: user 163 µs, sys: 45 µs, total: 208 µs\n",
      "Wall time: 228 µs\n"
     ]
    },
    {
     "data": {
      "text/plain": [
       "{0: 1.2660965794768613, 1: 0.8982869379014989}"
      ]
     },
     "execution_count": 9,
     "metadata": {},
     "output_type": "execute_result"
    }
   ],
   "source": [
    "%%time\n",
    "cwts(data)"
   ]
  },
  {
   "cell_type": "code",
   "execution_count": 10,
   "id": "MIs-5f3LtIiv",
   "metadata": {
    "id": "MIs-5f3LtIiv"
   },
   "outputs": [],
   "source": [
    "# class weight function\n",
    "def cwts(dfs):\n",
    "    c0, c1 = np.bincount(dfs['predict'])\n",
    "    w0 = df.shape[0] / (2 * c0)\n",
    "    w1 = df.shape[0] / (2 * c1)\n",
    "    return {0: np.power(w0, 1), 1: np.power(w1, 1)}"
   ]
  },
  {
   "cell_type": "code",
   "execution_count": 12,
   "id": "dajVZqXCAGH6",
   "metadata": {
    "colab": {
     "base_uri": "https://localhost:8080/"
    },
    "id": "dajVZqXCAGH6",
    "outputId": "140dc7fa-d820-454e-927b-4f7be3100bc8"
   },
   "outputs": [
    {
     "data": {
      "text/plain": [
       "{0: 1.2660965794768613, 1: 0.8982869379014989}"
      ]
     },
     "execution_count": 12,
     "metadata": {},
     "output_type": "execute_result"
    }
   ],
   "source": [
    "\n",
    "cwts(data)"
   ]
  },
  {
   "cell_type": "code",
   "execution_count": 13,
   "id": "yO6v7scfAZQp",
   "metadata": {
    "id": "yO6v7scfAZQp"
   },
   "outputs": [],
   "source": [
    "# class weight function\n",
    "def cwts(dfs):\n",
    "    c0, c1 = np.bincount(dfs['predict'])\n",
    "    w0 = df.shape[0] / (2 * c0)\n",
    "    w1 = df.shape[0] / (2 * c1)\n",
    "    return {0: np.power(w0, 5), 1: np.power(w1, 5)}"
   ]
  },
  {
   "cell_type": "code",
   "execution_count": 14,
   "id": "6dbde9e4",
   "metadata": {
    "colab": {
     "base_uri": "https://localhost:8080/"
    },
    "id": "6dbde9e4",
    "outputId": "5853c931-0122-4d65-89d2-b7f5f7dc6d11"
   },
   "outputs": [
    {
     "data": {
      "text/plain": [
       "{0: 3.2533753921685356, 1: 0.5848916522059089}"
      ]
     },
     "execution_count": 14,
     "metadata": {},
     "output_type": "execute_result"
    }
   ],
   "source": [
    "# check class weights\n",
    "class_weight = cwts(data)\n",
    "class_weight"
   ]
  },
  {
   "cell_type": "code",
   "execution_count": 15,
   "id": "5c0128cf",
   "metadata": {
    "colab": {
     "base_uri": "https://localhost:8080/",
     "height": 287
    },
    "id": "5c0128cf",
    "outputId": "a1cda294-e356-4f10-e78d-04afe65b18e6"
   },
   "outputs": [
    {
     "data": {
      "text/html": [
       "<div>\n",
       "<style scoped>\n",
       "    .dataframe tbody tr th:only-of-type {\n",
       "        vertical-align: middle;\n",
       "    }\n",
       "\n",
       "    .dataframe tbody tr th {\n",
       "        vertical-align: top;\n",
       "    }\n",
       "\n",
       "    .dataframe thead th {\n",
       "        text-align: right;\n",
       "    }\n",
       "</style>\n",
       "<table border=\"1\" class=\"dataframe\">\n",
       "  <thead>\n",
       "    <tr style=\"text-align: right;\">\n",
       "      <th></th>\n",
       "      <th>Volume</th>\n",
       "      <th>o2c</th>\n",
       "      <th>h2l</th>\n",
       "      <th>ABER_ZG_5_15</th>\n",
       "      <th>ABER_SG_5_15</th>\n",
       "      <th>ABER_XG_5_15</th>\n",
       "      <th>ABER_ATR_5_15</th>\n",
       "      <th>ACCBL_20</th>\n",
       "      <th>ACCBM_20</th>\n",
       "      <th>ACCBU_20</th>\n",
       "      <th>...</th>\n",
       "      <th>VIDYA_14</th>\n",
       "      <th>VTXP_14</th>\n",
       "      <th>VTXM_14</th>\n",
       "      <th>VWAP_D</th>\n",
       "      <th>VWMA_10</th>\n",
       "      <th>WCP</th>\n",
       "      <th>WILLR_14</th>\n",
       "      <th>WMA_10</th>\n",
       "      <th>ZL_EMA_10</th>\n",
       "      <th>ZS_30</th>\n",
       "    </tr>\n",
       "    <tr>\n",
       "      <th>Date</th>\n",
       "      <th></th>\n",
       "      <th></th>\n",
       "      <th></th>\n",
       "      <th></th>\n",
       "      <th></th>\n",
       "      <th></th>\n",
       "      <th></th>\n",
       "      <th></th>\n",
       "      <th></th>\n",
       "      <th></th>\n",
       "      <th></th>\n",
       "      <th></th>\n",
       "      <th></th>\n",
       "      <th></th>\n",
       "      <th></th>\n",
       "      <th></th>\n",
       "      <th></th>\n",
       "      <th></th>\n",
       "      <th></th>\n",
       "      <th></th>\n",
       "      <th></th>\n",
       "    </tr>\n",
       "  </thead>\n",
       "  <tbody>\n",
       "    <tr>\n",
       "      <th>2014-05-13</th>\n",
       "      <td>30311900</td>\n",
       "      <td>0.019997</td>\n",
       "      <td>0.489998</td>\n",
       "      <td>87.166001</td>\n",
       "      <td>88.416988</td>\n",
       "      <td>85.915014</td>\n",
       "      <td>1.250987</td>\n",
       "      <td>83.975365</td>\n",
       "      <td>86.9810</td>\n",
       "      <td>89.730368</td>\n",
       "      <td>...</td>\n",
       "      <td>79.947811</td>\n",
       "      <td>1.026792</td>\n",
       "      <td>0.927781</td>\n",
       "      <td>88.340001</td>\n",
       "      <td>87.265404</td>\n",
       "      <td>88.327501</td>\n",
       "      <td>-9.142848</td>\n",
       "      <td>87.401819</td>\n",
       "      <td>87.678440</td>\n",
       "      <td>1.117167</td>\n",
       "    </tr>\n",
       "    <tr>\n",
       "      <th>2014-05-14</th>\n",
       "      <td>26483600</td>\n",
       "      <td>0.189995</td>\n",
       "      <td>0.729996</td>\n",
       "      <td>87.474668</td>\n",
       "      <td>88.690922</td>\n",
       "      <td>86.258414</td>\n",
       "      <td>1.216254</td>\n",
       "      <td>84.342643</td>\n",
       "      <td>87.1200</td>\n",
       "      <td>89.715145</td>\n",
       "      <td>...</td>\n",
       "      <td>79.982747</td>\n",
       "      <td>1.001225</td>\n",
       "      <td>0.979805</td>\n",
       "      <td>87.933334</td>\n",
       "      <td>87.291810</td>\n",
       "      <td>87.907501</td>\n",
       "      <td>-22.285679</td>\n",
       "      <td>87.486365</td>\n",
       "      <td>87.951451</td>\n",
       "      <td>0.825349</td>\n",
       "    </tr>\n",
       "    <tr>\n",
       "      <th>2014-05-15</th>\n",
       "      <td>59680300</td>\n",
       "      <td>0.669998</td>\n",
       "      <td>1.379997</td>\n",
       "      <td>87.582668</td>\n",
       "      <td>88.809838</td>\n",
       "      <td>86.355497</td>\n",
       "      <td>1.227170</td>\n",
       "      <td>84.388542</td>\n",
       "      <td>87.1680</td>\n",
       "      <td>89.833541</td>\n",
       "      <td>...</td>\n",
       "      <td>80.122007</td>\n",
       "      <td>1.004346</td>\n",
       "      <td>0.965239</td>\n",
       "      <td>87.226667</td>\n",
       "      <td>87.236773</td>\n",
       "      <td>87.205000</td>\n",
       "      <td>-42.000035</td>\n",
       "      <td>87.437455</td>\n",
       "      <td>87.865732</td>\n",
       "      <td>0.333878</td>\n",
       "    </tr>\n",
       "    <tr>\n",
       "      <th>2014-05-16</th>\n",
       "      <td>66804100</td>\n",
       "      <td>-0.470001</td>\n",
       "      <td>1.120003</td>\n",
       "      <td>87.756001</td>\n",
       "      <td>88.976027</td>\n",
       "      <td>86.535975</td>\n",
       "      <td>1.220026</td>\n",
       "      <td>84.427180</td>\n",
       "      <td>87.2435</td>\n",
       "      <td>89.902181</td>\n",
       "      <td>...</td>\n",
       "      <td>80.306499</td>\n",
       "      <td>1.065660</td>\n",
       "      <td>0.972423</td>\n",
       "      <td>87.370000</td>\n",
       "      <td>87.286350</td>\n",
       "      <td>87.455000</td>\n",
       "      <td>-29.220811</td>\n",
       "      <td>87.501455</td>\n",
       "      <td>87.742871</td>\n",
       "      <td>0.933547</td>\n",
       "    </tr>\n",
       "    <tr>\n",
       "      <th>2014-05-19</th>\n",
       "      <td>32017000</td>\n",
       "      <td>-0.870003</td>\n",
       "      <td>1.159996</td>\n",
       "      <td>87.779334</td>\n",
       "      <td>88.995358</td>\n",
       "      <td>86.563310</td>\n",
       "      <td>1.216024</td>\n",
       "      <td>84.460538</td>\n",
       "      <td>87.3175</td>\n",
       "      <td>90.015538</td>\n",
       "      <td>...</td>\n",
       "      <td>80.490936</td>\n",
       "      <td>1.029910</td>\n",
       "      <td>0.940832</td>\n",
       "      <td>88.026667</td>\n",
       "      <td>87.319668</td>\n",
       "      <td>88.100000</td>\n",
       "      <td>-9.415609</td>\n",
       "      <td>87.672364</td>\n",
       "      <td>87.853257</td>\n",
       "      <td>1.412997</td>\n",
       "    </tr>\n",
       "  </tbody>\n",
       "</table>\n",
       "<p>5 rows × 272 columns</p>\n",
       "</div>"
      ],
      "text/plain": [
       "              Volume       o2c       h2l  ABER_ZG_5_15  ABER_SG_5_15  \\\n",
       "Date                                                                   \n",
       "2014-05-13  30311900  0.019997  0.489998     87.166001     88.416988   \n",
       "2014-05-14  26483600  0.189995  0.729996     87.474668     88.690922   \n",
       "2014-05-15  59680300  0.669998  1.379997     87.582668     88.809838   \n",
       "2014-05-16  66804100 -0.470001  1.120003     87.756001     88.976027   \n",
       "2014-05-19  32017000 -0.870003  1.159996     87.779334     88.995358   \n",
       "\n",
       "            ABER_XG_5_15  ABER_ATR_5_15   ACCBL_20  ACCBM_20   ACCBU_20  ...  \\\n",
       "Date                                                                     ...   \n",
       "2014-05-13     85.915014       1.250987  83.975365   86.9810  89.730368  ...   \n",
       "2014-05-14     86.258414       1.216254  84.342643   87.1200  89.715145  ...   \n",
       "2014-05-15     86.355497       1.227170  84.388542   87.1680  89.833541  ...   \n",
       "2014-05-16     86.535975       1.220026  84.427180   87.2435  89.902181  ...   \n",
       "2014-05-19     86.563310       1.216024  84.460538   87.3175  90.015538  ...   \n",
       "\n",
       "             VIDYA_14   VTXP_14   VTXM_14     VWAP_D    VWMA_10        WCP  \\\n",
       "Date                                                                         \n",
       "2014-05-13  79.947811  1.026792  0.927781  88.340001  87.265404  88.327501   \n",
       "2014-05-14  79.982747  1.001225  0.979805  87.933334  87.291810  87.907501   \n",
       "2014-05-15  80.122007  1.004346  0.965239  87.226667  87.236773  87.205000   \n",
       "2014-05-16  80.306499  1.065660  0.972423  87.370000  87.286350  87.455000   \n",
       "2014-05-19  80.490936  1.029910  0.940832  88.026667  87.319668  88.100000   \n",
       "\n",
       "             WILLR_14     WMA_10  ZL_EMA_10     ZS_30  \n",
       "Date                                                   \n",
       "2014-05-13  -9.142848  87.401819  87.678440  1.117167  \n",
       "2014-05-14 -22.285679  87.486365  87.951451  0.825349  \n",
       "2014-05-15 -42.000035  87.437455  87.865732  0.333878  \n",
       "2014-05-16 -29.220811  87.501455  87.742871  0.933547  \n",
       "2014-05-19  -9.415609  87.672364  87.853257  1.412997  \n",
       "\n",
       "[5 rows x 272 columns]"
      ]
     },
     "execution_count": 15,
     "metadata": {},
     "output_type": "execute_result"
    }
   ],
   "source": [
    "X = data.drop(['predict','Adj Close'], axis=1)\n",
    "feature_names = X.columns\n",
    "X.head()"
   ]
  },
  {
   "cell_type": "code",
   "execution_count": 16,
   "id": "3644323c",
   "metadata": {
    "colab": {
     "base_uri": "https://localhost:8080/"
    },
    "id": "3644323c",
    "outputId": "8ba4fb10-4b8d-4deb-cae5-b0fdb324d255"
   },
   "outputs": [
    {
     "data": {
      "text/plain": [
       "array([1, 1, 1, ..., 1, 1, 1])"
      ]
     },
     "execution_count": 16,
     "metadata": {},
     "output_type": "execute_result"
    }
   ],
   "source": [
    "y = data['predict'].values\n",
    "# pandas-ta converts all dtype to objects\n",
    "y = y.astype(int)\n",
    "y"
   ]
  },
  {
   "cell_type": "code",
   "execution_count": 17,
   "id": "TaaWueTwnv1t",
   "metadata": {
    "colab": {
     "base_uri": "https://localhost:8080/"
    },
    "id": "TaaWueTwnv1t",
    "outputId": "cb17e512-2a87-4ff2-8a76-549efeb5e8be"
   },
   "outputs": [
    {
     "data": {
      "text/plain": [
       "array([ 994, 1401])"
      ]
     },
     "execution_count": 17,
     "metadata": {},
     "output_type": "execute_result"
    }
   ],
   "source": [
    "np.bincount(y)"
   ]
  },
  {
   "cell_type": "code",
   "execution_count": 18,
   "id": "d3789e7e",
   "metadata": {
    "id": "d3789e7e"
   },
   "outputs": [],
   "source": [
    "from sklearn.preprocessing import MinMaxScaler\n",
    "from sklearn.pipeline import Pipeline\n",
    "from sklearn.model_selection import (train_test_split, RandomizedSearchCV,TimeSeriesSplit,cross_val_score)\n",
    "from sklearn.ensemble import RandomForestClassifier\n",
    "\n",
    "from sklearn.metrics import (precision_recall_curve,roc_curve,RocCurveDisplay,ConfusionMatrixDisplay)\n",
    "\n",
    "from sklearn.metrics import (accuracy_score,f1_score,recall_score,precision_score,roc_auc_score,auc)\n",
    "\n",
    "from sklearn.metrics import (classification_report,confusion_matrix)"
   ]
  },
  {
   "cell_type": "code",
   "execution_count": 19,
   "id": "c2bc4c1d",
   "metadata": {
    "colab": {
     "base_uri": "https://localhost:8080/"
    },
    "id": "c2bc4c1d",
    "outputId": "9d4b80e8-ab74-4572-872d-41caeeb6ab63"
   },
   "outputs": [
    {
     "name": "stdout",
     "output_type": "stream",
     "text": [
      "Train and Test Size 1916, 479\n"
     ]
    }
   ],
   "source": [
    "# Always keep shuffle = False for financial time series\n",
    "X_train, X_test, y_train, y_test = train_test_split(X, y, test_size=0.2, shuffle=False)\n",
    "\n",
    "# convert to array\n",
    "X_train, X_test, y_train, y_test = np.array(X_train), np.array(X_test), np.array(y_train), np.array(y_test)\n",
    "\n",
    "# Output the train and test data size\n",
    "print(f\"Train and Test Size {len(X_train)}, {len(X_test)}\")"
   ]
  },
  {
   "cell_type": "code",
   "execution_count": 20,
   "id": "mioTixAF92sk",
   "metadata": {
    "id": "mioTixAF92sk"
   },
   "outputs": [],
   "source": [
    "# class weight function\n",
    "def cwts(dfs):\n",
    "    c0, c1 = np.bincount(dfs['predict'])\n",
    "    w0 = df.shape[0] / (2 * c0)\n",
    "    w1 = df.shape[0] / (2 * c1)\n",
    "    return {0: np.power(w0, 3), 1: np.power(w1, 3)}"
   ]
  },
  {
   "cell_type": "code",
   "execution_count": 21,
   "id": "5554e206",
   "metadata": {
    "colab": {
     "base_uri": "https://localhost:8080/",
     "height": 109
    },
    "id": "5554e206",
    "outputId": "34812107-f30f-44ba-8f47-55c1231b62ee"
   },
   "outputs": [
    {
     "data": {
      "text/html": [
       "<style>#sk-container-id-1 {color: black;background-color: white;}#sk-container-id-1 pre{padding: 0;}#sk-container-id-1 div.sk-toggleable {background-color: white;}#sk-container-id-1 label.sk-toggleable__label {cursor: pointer;display: block;width: 100%;margin-bottom: 0;padding: 0.3em;box-sizing: border-box;text-align: center;}#sk-container-id-1 label.sk-toggleable__label-arrow:before {content: \"▸\";float: left;margin-right: 0.25em;color: #696969;}#sk-container-id-1 label.sk-toggleable__label-arrow:hover:before {color: black;}#sk-container-id-1 div.sk-estimator:hover label.sk-toggleable__label-arrow:before {color: black;}#sk-container-id-1 div.sk-toggleable__content {max-height: 0;max-width: 0;overflow: hidden;text-align: left;background-color: #f0f8ff;}#sk-container-id-1 div.sk-toggleable__content pre {margin: 0.2em;color: black;border-radius: 0.25em;background-color: #f0f8ff;}#sk-container-id-1 input.sk-toggleable__control:checked~div.sk-toggleable__content {max-height: 200px;max-width: 100%;overflow: auto;}#sk-container-id-1 input.sk-toggleable__control:checked~label.sk-toggleable__label-arrow:before {content: \"▾\";}#sk-container-id-1 div.sk-estimator input.sk-toggleable__control:checked~label.sk-toggleable__label {background-color: #d4ebff;}#sk-container-id-1 div.sk-label input.sk-toggleable__control:checked~label.sk-toggleable__label {background-color: #d4ebff;}#sk-container-id-1 input.sk-hidden--visually {border: 0;clip: rect(1px 1px 1px 1px);clip: rect(1px, 1px, 1px, 1px);height: 1px;margin: -1px;overflow: hidden;padding: 0;position: absolute;width: 1px;}#sk-container-id-1 div.sk-estimator {font-family: monospace;background-color: #f0f8ff;border: 1px dotted black;border-radius: 0.25em;box-sizing: border-box;margin-bottom: 0.5em;}#sk-container-id-1 div.sk-estimator:hover {background-color: #d4ebff;}#sk-container-id-1 div.sk-parallel-item::after {content: \"\";width: 100%;border-bottom: 1px solid gray;flex-grow: 1;}#sk-container-id-1 div.sk-label:hover label.sk-toggleable__label {background-color: #d4ebff;}#sk-container-id-1 div.sk-serial::before {content: \"\";position: absolute;border-left: 1px solid gray;box-sizing: border-box;top: 0;bottom: 0;left: 50%;z-index: 0;}#sk-container-id-1 div.sk-serial {display: flex;flex-direction: column;align-items: center;background-color: white;padding-right: 0.2em;padding-left: 0.2em;position: relative;}#sk-container-id-1 div.sk-item {position: relative;z-index: 1;}#sk-container-id-1 div.sk-parallel {display: flex;align-items: stretch;justify-content: center;background-color: white;position: relative;}#sk-container-id-1 div.sk-item::before, #sk-container-id-1 div.sk-parallel-item::before {content: \"\";position: absolute;border-left: 1px solid gray;box-sizing: border-box;top: 0;bottom: 0;left: 50%;z-index: -1;}#sk-container-id-1 div.sk-parallel-item {display: flex;flex-direction: column;z-index: 1;position: relative;background-color: white;}#sk-container-id-1 div.sk-parallel-item:first-child::after {align-self: flex-end;width: 50%;}#sk-container-id-1 div.sk-parallel-item:last-child::after {align-self: flex-start;width: 50%;}#sk-container-id-1 div.sk-parallel-item:only-child::after {width: 0;}#sk-container-id-1 div.sk-dashed-wrapped {border: 1px dashed gray;margin: 0 0.4em 0.5em 0.4em;box-sizing: border-box;padding-bottom: 0.4em;background-color: white;}#sk-container-id-1 div.sk-label label {font-family: monospace;font-weight: bold;display: inline-block;line-height: 1.2em;}#sk-container-id-1 div.sk-label-container {text-align: center;}#sk-container-id-1 div.sk-container {/* jupyter's `normalize.less` sets `[hidden] { display: none; }` but bootstrap.min.css set `[hidden] { display: none !important; }` so we also need the `!important` here to be able to override the default hidden behavior on the sphinx rendered scikit-learn.org. See: https://github.com/scikit-learn/scikit-learn/issues/21755 */display: inline-block !important;position: relative;}#sk-container-id-1 div.sk-text-repr-fallback {display: none;}</style><div id=\"sk-container-id-1\" class=\"sk-top-container\"><div class=\"sk-text-repr-fallback\"><pre>RandomForestClassifier(class_weight={0: 2.029553511435157,\n",
       "                                     1: 0.7248451774442556},\n",
       "                       max_depth=5, n_jobs=-1, random_state=42)</pre><b>In a Jupyter environment, please rerun this cell to show the HTML representation or trust the notebook. <br />On GitHub, the HTML representation is unable to render, please try loading this page with nbviewer.org.</b></div><div class=\"sk-container\" hidden><div class=\"sk-item\"><div class=\"sk-estimator sk-toggleable\"><input class=\"sk-toggleable__control sk-hidden--visually\" id=\"sk-estimator-id-1\" type=\"checkbox\" checked><label for=\"sk-estimator-id-1\" class=\"sk-toggleable__label sk-toggleable__label-arrow\">RandomForestClassifier</label><div class=\"sk-toggleable__content\"><pre>RandomForestClassifier(class_weight={0: 2.029553511435157,\n",
       "                                     1: 0.7248451774442556},\n",
       "                       max_depth=5, n_jobs=-1, random_state=42)</pre></div></div></div></div></div>"
      ],
      "text/plain": [
       "RandomForestClassifier(class_weight={0: 2.029553511435157,\n",
       "                                     1: 0.7248451774442556},\n",
       "                       max_depth=5, n_jobs=-1, random_state=42)"
      ]
     },
     "execution_count": 21,
     "metadata": {},
     "output_type": "execute_result"
    }
   ],
   "source": [
    "# define random forest classifier\n",
    "forest = RandomForestClassifier(n_jobs=-1,\n",
    "                                class_weight=cwts(data),\n",
    "                                random_state=42,\n",
    "                                max_depth=5\n",
    "                                )\n",
    "\n",
    "# train the model\n",
    "forest.fit(X_train, y_train)"
   ]
  },
  {
   "cell_type": "code",
   "execution_count": 22,
   "id": "b630b0bd",
   "metadata": {
    "colab": {
     "base_uri": "https://localhost:8080/"
    },
    "id": "b630b0bd",
    "outputId": "863dd862-f1bd-49b5-da98-827b856aeb7f"
   },
   "outputs": [
    {
     "name": "stdout",
     "output_type": "stream",
     "text": [
      "Accuracy Score \t\t 0.6577396519859121\n"
     ]
    }
   ],
   "source": [
    "from sklearn.metrics import balanced_accuracy_score\n",
    "\n",
    "# print scores\n",
    "print(\"Accuracy Score \\t\\t\", balanced_accuracy_score(y_test, forest.predict(X_test)))"
   ]
  },
  {
   "cell_type": "code",
   "execution_count": 23,
   "id": "zm4lXvuBhgnk",
   "metadata": {
    "id": "zm4lXvuBhgnk"
   },
   "outputs": [],
   "source": [
    "#roc_auc_score"
   ]
  },
  {
   "cell_type": "code",
   "execution_count": 24,
   "id": "eQRIBCrgsvB7",
   "metadata": {
    "colab": {
     "base_uri": "https://localhost:8080/"
    },
    "id": "eQRIBCrgsvB7",
    "outputId": "19bad198-c383-4afa-fcbc-2507ece80a07"
   },
   "outputs": [
    {
     "data": {
      "text/plain": [
       "array([139, 340])"
      ]
     },
     "execution_count": 24,
     "metadata": {},
     "output_type": "execute_result"
    }
   ],
   "source": [
    "np.bincount(forest.predict(X_test))"
   ]
  },
  {
   "cell_type": "code",
   "execution_count": 25,
   "id": "RHebEeF1rrDK",
   "metadata": {
    "colab": {
     "base_uri": "https://localhost:8080/"
    },
    "id": "RHebEeF1rrDK",
    "outputId": "1625bdb0-c098-4581-9379-08111420aadc"
   },
   "outputs": [
    {
     "data": {
      "text/plain": [
       "array([242, 237])"
      ]
     },
     "execution_count": 25,
     "metadata": {},
     "output_type": "execute_result"
    }
   ],
   "source": [
    "np.bincount(y_test)"
   ]
  },
  {
   "cell_type": "code",
   "execution_count": 27,
   "id": "f160f18a",
   "metadata": {
    "id": "f160f18a"
   },
   "outputs": [],
   "source": [
    "from boruta import BorutaPy"
   ]
  },
  {
   "cell_type": "code",
   "execution_count": 28,
   "id": "ea3c81c4",
   "metadata": {
    "colab": {
     "base_uri": "https://localhost:8080/"
    },
    "id": "ea3c81c4",
    "outputId": "d2b2ffc6-3c60-4483-92d7-668e33b96af3"
   },
   "outputs": [
    {
     "name": "stdout",
     "output_type": "stream",
     "text": [
      "Iteration: \t1 / 100\n",
      "Confirmed: \t0\n",
      "Tentative: \t272\n",
      "Rejected: \t0\n",
      "Iteration: \t2 / 100\n",
      "Confirmed: \t0\n",
      "Tentative: \t272\n",
      "Rejected: \t0\n",
      "Iteration: \t3 / 100\n",
      "Confirmed: \t0\n",
      "Tentative: \t272\n",
      "Rejected: \t0\n",
      "Iteration: \t4 / 100\n",
      "Confirmed: \t0\n",
      "Tentative: \t272\n",
      "Rejected: \t0\n",
      "Iteration: \t5 / 100\n",
      "Confirmed: \t0\n",
      "Tentative: \t272\n",
      "Rejected: \t0\n",
      "Iteration: \t6 / 100\n",
      "Confirmed: \t0\n",
      "Tentative: \t272\n",
      "Rejected: \t0\n",
      "Iteration: \t7 / 100\n",
      "Confirmed: \t0\n",
      "Tentative: \t272\n",
      "Rejected: \t0\n",
      "Iteration: \t8 / 100\n",
      "Confirmed: \t103\n",
      "Tentative: \t74\n",
      "Rejected: \t95\n",
      "Iteration: \t9 / 100\n",
      "Confirmed: \t103\n",
      "Tentative: \t74\n",
      "Rejected: \t95\n",
      "Iteration: \t10 / 100\n",
      "Confirmed: \t103\n",
      "Tentative: \t74\n",
      "Rejected: \t95\n",
      "Iteration: \t11 / 100\n",
      "Confirmed: \t103\n",
      "Tentative: \t74\n",
      "Rejected: \t95\n",
      "Iteration: \t12 / 100\n",
      "Confirmed: \t136\n",
      "Tentative: \t41\n",
      "Rejected: \t95\n",
      "Iteration: \t13 / 100\n",
      "Confirmed: \t136\n",
      "Tentative: \t41\n",
      "Rejected: \t95\n",
      "Iteration: \t14 / 100\n",
      "Confirmed: \t136\n",
      "Tentative: \t41\n",
      "Rejected: \t95\n",
      "Iteration: \t15 / 100\n",
      "Confirmed: \t136\n",
      "Tentative: \t41\n",
      "Rejected: \t95\n",
      "Iteration: \t16 / 100\n",
      "Confirmed: \t142\n",
      "Tentative: \t35\n",
      "Rejected: \t95\n",
      "Iteration: \t17 / 100\n",
      "Confirmed: \t142\n",
      "Tentative: \t35\n",
      "Rejected: \t95\n",
      "Iteration: \t18 / 100\n",
      "Confirmed: \t142\n",
      "Tentative: \t35\n",
      "Rejected: \t95\n",
      "Iteration: \t19 / 100\n",
      "Confirmed: \t147\n",
      "Tentative: \t30\n",
      "Rejected: \t95\n",
      "Iteration: \t20 / 100\n",
      "Confirmed: \t147\n",
      "Tentative: \t30\n",
      "Rejected: \t95\n",
      "Iteration: \t21 / 100\n",
      "Confirmed: \t147\n",
      "Tentative: \t30\n",
      "Rejected: \t95\n",
      "Iteration: \t22 / 100\n",
      "Confirmed: \t149\n",
      "Tentative: \t28\n",
      "Rejected: \t95\n",
      "Iteration: \t23 / 100\n",
      "Confirmed: \t149\n",
      "Tentative: \t28\n",
      "Rejected: \t95\n",
      "Iteration: \t24 / 100\n",
      "Confirmed: \t149\n",
      "Tentative: \t28\n",
      "Rejected: \t95\n",
      "Iteration: \t25 / 100\n",
      "Confirmed: \t149\n",
      "Tentative: \t28\n",
      "Rejected: \t95\n",
      "Iteration: \t26 / 100\n",
      "Confirmed: \t151\n",
      "Tentative: \t26\n",
      "Rejected: \t95\n",
      "Iteration: \t27 / 100\n",
      "Confirmed: \t151\n",
      "Tentative: \t26\n",
      "Rejected: \t95\n",
      "Iteration: \t28 / 100\n",
      "Confirmed: \t151\n",
      "Tentative: \t26\n",
      "Rejected: \t95\n",
      "Iteration: \t29 / 100\n",
      "Confirmed: \t151\n",
      "Tentative: \t25\n",
      "Rejected: \t96\n",
      "Iteration: \t30 / 100\n",
      "Confirmed: \t151\n",
      "Tentative: \t25\n",
      "Rejected: \t96\n",
      "Iteration: \t31 / 100\n",
      "Confirmed: \t151\n",
      "Tentative: \t25\n",
      "Rejected: \t96\n",
      "Iteration: \t32 / 100\n",
      "Confirmed: \t152\n",
      "Tentative: \t24\n",
      "Rejected: \t96\n",
      "Iteration: \t33 / 100\n",
      "Confirmed: \t152\n",
      "Tentative: \t24\n",
      "Rejected: \t96\n",
      "Iteration: \t34 / 100\n",
      "Confirmed: \t153\n",
      "Tentative: \t23\n",
      "Rejected: \t96\n",
      "Iteration: \t35 / 100\n",
      "Confirmed: \t153\n",
      "Tentative: \t23\n",
      "Rejected: \t96\n",
      "Iteration: \t36 / 100\n",
      "Confirmed: \t153\n",
      "Tentative: \t23\n",
      "Rejected: \t96\n",
      "Iteration: \t37 / 100\n",
      "Confirmed: \t153\n",
      "Tentative: \t23\n",
      "Rejected: \t96\n",
      "Iteration: \t38 / 100\n",
      "Confirmed: \t153\n",
      "Tentative: \t23\n",
      "Rejected: \t96\n",
      "Iteration: \t39 / 100\n",
      "Confirmed: \t153\n",
      "Tentative: \t23\n",
      "Rejected: \t96\n",
      "Iteration: \t40 / 100\n",
      "Confirmed: \t154\n",
      "Tentative: \t22\n",
      "Rejected: \t96\n",
      "Iteration: \t41 / 100\n",
      "Confirmed: \t154\n",
      "Tentative: \t22\n",
      "Rejected: \t96\n",
      "Iteration: \t42 / 100\n",
      "Confirmed: \t154\n",
      "Tentative: \t22\n",
      "Rejected: \t96\n",
      "Iteration: \t43 / 100\n",
      "Confirmed: \t155\n",
      "Tentative: \t21\n",
      "Rejected: \t96\n",
      "Iteration: \t44 / 100\n",
      "Confirmed: \t155\n",
      "Tentative: \t21\n",
      "Rejected: \t96\n",
      "Iteration: \t45 / 100\n",
      "Confirmed: \t155\n",
      "Tentative: \t21\n",
      "Rejected: \t96\n",
      "Iteration: \t46 / 100\n",
      "Confirmed: \t155\n",
      "Tentative: \t21\n",
      "Rejected: \t96\n",
      "Iteration: \t47 / 100\n",
      "Confirmed: \t155\n",
      "Tentative: \t21\n",
      "Rejected: \t96\n",
      "Iteration: \t48 / 100\n",
      "Confirmed: \t155\n",
      "Tentative: \t21\n",
      "Rejected: \t96\n",
      "Iteration: \t49 / 100\n",
      "Confirmed: \t157\n",
      "Tentative: \t19\n",
      "Rejected: \t96\n",
      "Iteration: \t50 / 100\n",
      "Confirmed: \t157\n",
      "Tentative: \t19\n",
      "Rejected: \t96\n",
      "Iteration: \t51 / 100\n",
      "Confirmed: \t157\n",
      "Tentative: \t19\n",
      "Rejected: \t96\n",
      "Iteration: \t52 / 100\n",
      "Confirmed: \t157\n",
      "Tentative: \t19\n",
      "Rejected: \t96\n",
      "Iteration: \t53 / 100\n",
      "Confirmed: \t157\n",
      "Tentative: \t19\n",
      "Rejected: \t96\n",
      "Iteration: \t54 / 100\n",
      "Confirmed: \t157\n",
      "Tentative: \t19\n",
      "Rejected: \t96\n",
      "Iteration: \t55 / 100\n",
      "Confirmed: \t157\n",
      "Tentative: \t19\n",
      "Rejected: \t96\n",
      "Iteration: \t56 / 100\n",
      "Confirmed: \t157\n",
      "Tentative: \t19\n",
      "Rejected: \t96\n",
      "Iteration: \t57 / 100\n",
      "Confirmed: \t157\n",
      "Tentative: \t19\n",
      "Rejected: \t96\n",
      "Iteration: \t58 / 100\n",
      "Confirmed: \t157\n",
      "Tentative: \t19\n",
      "Rejected: \t96\n",
      "Iteration: \t59 / 100\n",
      "Confirmed: \t157\n",
      "Tentative: \t19\n",
      "Rejected: \t96\n",
      "Iteration: \t60 / 100\n",
      "Confirmed: \t157\n",
      "Tentative: \t19\n",
      "Rejected: \t96\n",
      "Iteration: \t61 / 100\n",
      "Confirmed: \t157\n",
      "Tentative: \t19\n",
      "Rejected: \t96\n",
      "Iteration: \t62 / 100\n",
      "Confirmed: \t157\n",
      "Tentative: \t19\n",
      "Rejected: \t96\n",
      "Iteration: \t63 / 100\n",
      "Confirmed: \t157\n",
      "Tentative: \t19\n",
      "Rejected: \t96\n",
      "Iteration: \t64 / 100\n",
      "Confirmed: \t157\n",
      "Tentative: \t19\n",
      "Rejected: \t96\n",
      "Iteration: \t65 / 100\n",
      "Confirmed: \t157\n",
      "Tentative: \t19\n",
      "Rejected: \t96\n",
      "Iteration: \t66 / 100\n",
      "Confirmed: \t157\n",
      "Tentative: \t19\n",
      "Rejected: \t96\n",
      "Iteration: \t67 / 100\n",
      "Confirmed: \t157\n",
      "Tentative: \t19\n",
      "Rejected: \t96\n",
      "Iteration: \t68 / 100\n",
      "Confirmed: \t157\n",
      "Tentative: \t19\n",
      "Rejected: \t96\n",
      "Iteration: \t69 / 100\n",
      "Confirmed: \t157\n",
      "Tentative: \t19\n",
      "Rejected: \t96\n",
      "Iteration: \t70 / 100\n",
      "Confirmed: \t157\n",
      "Tentative: \t18\n",
      "Rejected: \t97\n",
      "Iteration: \t71 / 100\n",
      "Confirmed: \t157\n",
      "Tentative: \t18\n",
      "Rejected: \t97\n",
      "Iteration: \t72 / 100\n",
      "Confirmed: \t157\n",
      "Tentative: \t18\n",
      "Rejected: \t97\n",
      "Iteration: \t73 / 100\n",
      "Confirmed: \t157\n",
      "Tentative: \t18\n",
      "Rejected: \t97\n",
      "Iteration: \t74 / 100\n",
      "Confirmed: \t157\n",
      "Tentative: \t18\n",
      "Rejected: \t97\n",
      "Iteration: \t75 / 100\n",
      "Confirmed: \t157\n",
      "Tentative: \t18\n",
      "Rejected: \t97\n",
      "Iteration: \t76 / 100\n",
      "Confirmed: \t157\n",
      "Tentative: \t18\n",
      "Rejected: \t97\n",
      "Iteration: \t77 / 100\n",
      "Confirmed: \t158\n",
      "Tentative: \t17\n",
      "Rejected: \t97\n",
      "Iteration: \t78 / 100\n",
      "Confirmed: \t158\n",
      "Tentative: \t17\n",
      "Rejected: \t97\n",
      "Iteration: \t79 / 100\n",
      "Confirmed: \t158\n",
      "Tentative: \t17\n",
      "Rejected: \t97\n",
      "Iteration: \t80 / 100\n",
      "Confirmed: \t158\n",
      "Tentative: \t17\n",
      "Rejected: \t97\n",
      "Iteration: \t81 / 100\n",
      "Confirmed: \t158\n",
      "Tentative: \t17\n",
      "Rejected: \t97\n",
      "Iteration: \t82 / 100\n",
      "Confirmed: \t158\n",
      "Tentative: \t17\n",
      "Rejected: \t97\n",
      "Iteration: \t83 / 100\n",
      "Confirmed: \t159\n",
      "Tentative: \t16\n",
      "Rejected: \t97\n",
      "Iteration: \t84 / 100\n",
      "Confirmed: \t159\n",
      "Tentative: \t16\n",
      "Rejected: \t97\n",
      "Iteration: \t85 / 100\n",
      "Confirmed: \t159\n",
      "Tentative: \t16\n",
      "Rejected: \t97\n",
      "Iteration: \t86 / 100\n",
      "Confirmed: \t159\n",
      "Tentative: \t16\n",
      "Rejected: \t97\n",
      "Iteration: \t87 / 100\n",
      "Confirmed: \t159\n",
      "Tentative: \t16\n",
      "Rejected: \t97\n",
      "Iteration: \t88 / 100\n",
      "Confirmed: \t161\n",
      "Tentative: \t14\n",
      "Rejected: \t97\n",
      "Iteration: \t89 / 100\n",
      "Confirmed: \t161\n",
      "Tentative: \t14\n",
      "Rejected: \t97\n",
      "Iteration: \t90 / 100\n",
      "Confirmed: \t161\n",
      "Tentative: \t14\n",
      "Rejected: \t97\n",
      "Iteration: \t91 / 100\n",
      "Confirmed: \t161\n",
      "Tentative: \t14\n",
      "Rejected: \t97\n",
      "Iteration: \t92 / 100\n",
      "Confirmed: \t161\n",
      "Tentative: \t14\n",
      "Rejected: \t97\n",
      "Iteration: \t93 / 100\n",
      "Confirmed: \t161\n",
      "Tentative: \t14\n",
      "Rejected: \t97\n",
      "Iteration: \t94 / 100\n",
      "Confirmed: \t161\n",
      "Tentative: \t14\n",
      "Rejected: \t97\n",
      "Iteration: \t95 / 100\n",
      "Confirmed: \t161\n",
      "Tentative: \t14\n",
      "Rejected: \t97\n",
      "Iteration: \t96 / 100\n",
      "Confirmed: \t161\n",
      "Tentative: \t14\n",
      "Rejected: \t97\n",
      "Iteration: \t97 / 100\n",
      "Confirmed: \t161\n",
      "Tentative: \t14\n",
      "Rejected: \t97\n",
      "Iteration: \t98 / 100\n",
      "Confirmed: \t161\n",
      "Tentative: \t14\n",
      "Rejected: \t97\n",
      "Iteration: \t99 / 100\n",
      "Confirmed: \t161\n",
      "Tentative: \t14\n",
      "Rejected: \t97\n",
      "\n",
      "\n",
      "BorutaPy finished running.\n",
      "\n",
      "Iteration: \t100 / 100\n",
      "Confirmed: \t161\n",
      "Tentative: \t6\n",
      "Rejected: \t97\n",
      "[False False False  True  True  True  True  True  True  True  True  True\n",
      "  True  True  True  True False False False  True  True  True  True  True\n",
      " False False  True False False  True  True  True  True  True  True False\n",
      "  True False  True  True  True False False False False False False False\n",
      " False False False False False False False False False False False False\n",
      " False False False False False False False False False False False False\n",
      " False False False False False False False False False False False False\n",
      " False False False False False False False False False False False False\n",
      " False False False False False False False False False  True  True False\n",
      " False  True  True  True  True  True  True  True  True False  True  True\n",
      "  True  True  True  True  True  True False  True False  True  True  True\n",
      " False  True  True  True  True  True  True  True  True  True  True  True\n",
      "  True  True  True  True  True  True  True False  True  True  True  True\n",
      "  True  True  True  True  True  True  True  True  True  True  True False\n",
      "  True  True  True  True  True  True  True  True  True  True  True  True\n",
      "  True  True False False  True  True  True  True False False  True  True\n",
      "  True  True False False  True  True  True  True  True  True  True  True\n",
      "  True False False  True False  True  True False  True  True  True  True\n",
      " False False False False False False False False False False  True  True\n",
      "  True  True  True  True  True  True  True  True False  True  True  True\n",
      " False  True False False  True  True  True  True  True  True  True  True\n",
      "  True  True False  True  True False  True  True  True  True  True False\n",
      "  True  True  True  True  True  True  True  True]\n",
      "[13 24 14  1  1  1  1  1  1  1  1  1  1  1  1  1 30 26  2  1  1  1  1  1\n",
      " 28 29  1 22 24  1  1  1  1  1  1  2  1 15  1  1  1 95 95 67 95 41 95 78\n",
      " 95 78 39 95 44 95 82 64 57 60 60 37 71 71 82 51 71 39 59 54 37 43 95 71\n",
      " 95 95 46 71 95 95 95 78 46 55 63 95 95 95 95 78 53 95 95 49 51 48 78 78\n",
      " 66 71 71 78 95 95 62  6  6  1  1 18  2  1  1  1  1  1  1  1  1 50  1  1\n",
      "  1  1  1  1  1  1  3  1 11  1  1  1 11  1  1  1  1  1  1  1  1  1  1  1\n",
      "  1  1  1  1  1  1  1 34  1  1  1  1  1  1  1  1  1  1  1  1  1  1  1 20\n",
      "  1  1  1  1  1  1  1  1  1  1  1  1  1  1  6 20  1  1  1  1 57 19  1  1\n",
      "  1  1  2 35  1  1  1  1  1  1  1  1  1  2  2  1  6  1  1 17  1  1  1  1\n",
      "  6 42 33 95  6 36 44 95 32 95  1  1  1  1  1  1  1  1  1  1 31  1  1  1\n",
      " 22  1 64 55  1  1  1  1  1  1  1  1  1  1 16  1  1 26  1  1  1  1  1 10\n",
      "  1  1  1  1  1  1  1  1]\n"
     ]
    }
   ],
   "source": [
    "# define Boruta feature selection method\n",
    "feat_selector = BorutaPy(forest, n_estimators='auto', verbose=2, random_state=0)\n",
    "\n",
    "# find all relevant features\n",
    "# takes input in array format not as dataframe\n",
    "feat_selector.fit(X_train, y_train)\n",
    "\n",
    "# check selected features\n",
    "print(feat_selector.support_)\n",
    "\n",
    "# check ranking of features\n",
    "print(feat_selector.ranking_)\n",
    "\n",
    "# call transform() on X to filter it down to selected features\n",
    "X_filtered = feat_selector.transform(X_train)"
   ]
  },
  {
   "cell_type": "code",
   "execution_count": 29,
   "id": "2778a129",
   "metadata": {
    "colab": {
     "base_uri": "https://localhost:8080/"
    },
    "id": "2778a129",
    "outputId": "d0661f38-3a1a-4893-84d2-503cf21e846b"
   },
   "outputs": [
    {
     "name": "stdout",
     "output_type": "stream",
     "text": [
      "Feature: Volume                         Rank: 13    Keep: False\n",
      "Feature: o2c                            Rank: 24    Keep: False\n",
      "Feature: h2l                            Rank: 14    Keep: False\n",
      "Feature: ABER_ZG_5_15                   Rank: 1     Keep: True\n",
      "Feature: ABER_SG_5_15                   Rank: 1     Keep: True\n",
      "Feature: ABER_XG_5_15                   Rank: 1     Keep: True\n",
      "Feature: ABER_ATR_5_15                  Rank: 1     Keep: True\n",
      "Feature: ACCBL_20                       Rank: 1     Keep: True\n",
      "Feature: ACCBM_20                       Rank: 1     Keep: True\n",
      "Feature: ACCBU_20                       Rank: 1     Keep: True\n",
      "Feature: AD                             Rank: 1     Keep: True\n",
      "Feature: ADOSC_3_10                     Rank: 1     Keep: True\n",
      "Feature: ADX_14                         Rank: 1     Keep: True\n",
      "Feature: DMP_14                         Rank: 1     Keep: True\n",
      "Feature: DMN_14                         Rank: 1     Keep: True\n",
      "Feature: ALMA_10_6.0_0.85               Rank: 1     Keep: True\n",
      "Feature: AMATe_LR_8_21_2                Rank: 30    Keep: False\n",
      "Feature: AMATe_SR_8_21_2                Rank: 26    Keep: False\n",
      "Feature: AO_5_34                        Rank: 2     Keep: False\n",
      "Feature: OBV                            Rank: 1     Keep: True\n",
      "Feature: OBV_min_2                      Rank: 1     Keep: True\n",
      "Feature: OBV_max_2                      Rank: 1     Keep: True\n",
      "Feature: OBVe_4                         Rank: 1     Keep: True\n",
      "Feature: OBVe_12                        Rank: 1     Keep: True\n",
      "Feature: AOBV_LR_2                      Rank: 28    Keep: False\n",
      "Feature: AOBV_SR_2                      Rank: 29    Keep: False\n",
      "Feature: APO_12_26                      Rank: 1     Keep: True\n",
      "Feature: AROOND_14                      Rank: 22    Keep: False\n",
      "Feature: AROONU_14                      Rank: 24    Keep: False\n",
      "Feature: AROONOSC_14                    Rank: 1     Keep: True\n",
      "Feature: ATRr_14                        Rank: 1     Keep: True\n",
      "Feature: BBL_5_2.0                      Rank: 1     Keep: True\n",
      "Feature: BBM_5_2.0                      Rank: 1     Keep: True\n",
      "Feature: BBU_5_2.0                      Rank: 1     Keep: True\n",
      "Feature: BBB_5_2.0                      Rank: 1     Keep: True\n",
      "Feature: BBP_5_2.0                      Rank: 2     Keep: False\n",
      "Feature: BIAS_SMA_26                    Rank: 1     Keep: True\n",
      "Feature: BOP                            Rank: 15    Keep: False\n",
      "Feature: AR_26                          Rank: 1     Keep: True\n",
      "Feature: BR_26                          Rank: 1     Keep: True\n",
      "Feature: CCI_14_0.015                   Rank: 1     Keep: True\n",
      "Feature: CDL_2CROWS                     Rank: 95    Keep: False\n",
      "Feature: CDL_3BLACKCROWS                Rank: 95    Keep: False\n",
      "Feature: CDL_3INSIDE                    Rank: 67    Keep: False\n",
      "Feature: CDL_3LINESTRIKE                Rank: 95    Keep: False\n",
      "Feature: CDL_3OUTSIDE                   Rank: 41    Keep: False\n",
      "Feature: CDL_3STARSINSOUTH              Rank: 95    Keep: False\n",
      "Feature: CDL_3WHITESOLDIERS             Rank: 78    Keep: False\n",
      "Feature: CDL_ABANDONEDBABY              Rank: 95    Keep: False\n",
      "Feature: CDL_ADVANCEBLOCK               Rank: 78    Keep: False\n",
      "Feature: CDL_BELTHOLD                   Rank: 39    Keep: False\n",
      "Feature: CDL_BREAKAWAY                  Rank: 95    Keep: False\n",
      "Feature: CDL_CLOSINGMARUBOZU            Rank: 44    Keep: False\n",
      "Feature: CDL_CONCEALBABYSWALL           Rank: 95    Keep: False\n",
      "Feature: CDL_COUNTERATTACK              Rank: 82    Keep: False\n",
      "Feature: CDL_DARKCLOUDCOVER             Rank: 64    Keep: False\n",
      "Feature: CDL_DOJI_10_0.1                Rank: 57    Keep: False\n",
      "Feature: CDL_DOJISTAR                   Rank: 60    Keep: False\n",
      "Feature: CDL_DRAGONFLYDOJI              Rank: 60    Keep: False\n",
      "Feature: CDL_ENGULFING                  Rank: 37    Keep: False\n",
      "Feature: CDL_EVENINGDOJISTAR            Rank: 71    Keep: False\n",
      "Feature: CDL_EVENINGSTAR                Rank: 71    Keep: False\n",
      "Feature: CDL_GAPSIDESIDEWHITE           Rank: 82    Keep: False\n",
      "Feature: CDL_GRAVESTONEDOJI             Rank: 51    Keep: False\n",
      "Feature: CDL_HAMMER                     Rank: 71    Keep: False\n",
      "Feature: CDL_HANGINGMAN                 Rank: 39    Keep: False\n",
      "Feature: CDL_HARAMI                     Rank: 59    Keep: False\n",
      "Feature: CDL_HARAMICROSS                Rank: 54    Keep: False\n",
      "Feature: CDL_HIGHWAVE                   Rank: 37    Keep: False\n",
      "Feature: CDL_HIKKAKE                    Rank: 43    Keep: False\n",
      "Feature: CDL_HIKKAKEMOD                 Rank: 95    Keep: False\n",
      "Feature: CDL_HOMINGPIGEON               Rank: 71    Keep: False\n",
      "Feature: CDL_IDENTICAL3CROWS            Rank: 95    Keep: False\n",
      "Feature: CDL_INNECK                     Rank: 95    Keep: False\n",
      "Feature: CDL_INSIDE                     Rank: 46    Keep: False\n",
      "Feature: CDL_INVERTEDHAMMER             Rank: 71    Keep: False\n",
      "Feature: CDL_KICKING                    Rank: 95    Keep: False\n",
      "Feature: CDL_KICKINGBYLENGTH            Rank: 95    Keep: False\n",
      "Feature: CDL_LADDERBOTTOM               Rank: 95    Keep: False\n",
      "Feature: CDL_LONGLEGGEDDOJI             Rank: 78    Keep: False\n",
      "Feature: CDL_LONGLINE                   Rank: 46    Keep: False\n",
      "Feature: CDL_MARUBOZU                   Rank: 55    Keep: False\n",
      "Feature: CDL_MATCHINGLOW                Rank: 63    Keep: False\n",
      "Feature: CDL_MATHOLD                    Rank: 95    Keep: False\n",
      "Feature: CDL_MORNINGDOJISTAR            Rank: 95    Keep: False\n",
      "Feature: CDL_MORNINGSTAR                Rank: 95    Keep: False\n",
      "Feature: CDL_ONNECK                     Rank: 95    Keep: False\n",
      "Feature: CDL_PIERCING                   Rank: 78    Keep: False\n",
      "Feature: CDL_RICKSHAWMAN                Rank: 53    Keep: False\n",
      "Feature: CDL_RISEFALL3METHODS           Rank: 95    Keep: False\n",
      "Feature: CDL_SEPARATINGLINES            Rank: 95    Keep: False\n",
      "Feature: CDL_SHOOTINGSTAR               Rank: 49    Keep: False\n",
      "Feature: CDL_SHORTLINE                  Rank: 51    Keep: False\n",
      "Feature: CDL_SPINNINGTOP                Rank: 48    Keep: False\n",
      "Feature: CDL_STALLEDPATTERN             Rank: 78    Keep: False\n",
      "Feature: CDL_STICKSANDWICH              Rank: 78    Keep: False\n",
      "Feature: CDL_TAKURI                     Rank: 66    Keep: False\n",
      "Feature: CDL_TASUKIGAP                  Rank: 71    Keep: False\n",
      "Feature: CDL_THRUSTING                  Rank: 71    Keep: False\n",
      "Feature: CDL_TRISTAR                    Rank: 78    Keep: False\n",
      "Feature: CDL_UNIQUE3RIVER               Rank: 95    Keep: False\n",
      "Feature: CDL_UPSIDEGAP2CROWS            Rank: 95    Keep: False\n",
      "Feature: CDL_XSIDEGAP3METHODS           Rank: 62    Keep: False\n",
      "Feature: open_Z_30_1                    Rank: 6     Keep: False\n",
      "Feature: high_Z_30_1                    Rank: 6     Keep: False\n",
      "Feature: low_Z_30_1                     Rank: 1     Keep: True\n",
      "Feature: close_Z_30_1                   Rank: 1     Keep: True\n",
      "Feature: CFO_9                          Rank: 18    Keep: False\n",
      "Feature: CG_10                          Rank: 2     Keep: False\n",
      "Feature: CHOP_14_1_100                  Rank: 1     Keep: True\n",
      "Feature: CKSPl_10_3_20                  Rank: 1     Keep: True\n",
      "Feature: CKSPs_10_3_20                  Rank: 1     Keep: True\n",
      "Feature: CMF_20                         Rank: 1     Keep: True\n",
      "Feature: CMO_14                         Rank: 1     Keep: True\n",
      "Feature: COPC_11_14_10                  Rank: 1     Keep: True\n",
      "Feature: CTI_12                         Rank: 1     Keep: True\n",
      "Feature: LDECAY_5                       Rank: 1     Keep: True\n",
      "Feature: DEC_1                          Rank: 50    Keep: False\n",
      "Feature: DEMA_10                        Rank: 1     Keep: True\n",
      "Feature: DCL_20_20                      Rank: 1     Keep: True\n",
      "Feature: DCM_20_20                      Rank: 1     Keep: True\n",
      "Feature: DCU_20_20                      Rank: 1     Keep: True\n",
      "Feature: DPO_20                         Rank: 1     Keep: True\n",
      "Feature: EBSW_40_10                     Rank: 1     Keep: True\n",
      "Feature: EFI_13                         Rank: 1     Keep: True\n",
      "Feature: EMA_10                         Rank: 1     Keep: True\n",
      "Feature: ENTP_10                        Rank: 3     Keep: False\n",
      "Feature: EOM_14_100000000               Rank: 1     Keep: True\n",
      "Feature: ER_10                          Rank: 11    Keep: False\n",
      "Feature: BULLP_13                       Rank: 1     Keep: True\n",
      "Feature: BEARP_13                       Rank: 1     Keep: True\n",
      "Feature: FISHERT_9_1                    Rank: 1     Keep: True\n",
      "Feature: FISHERTs_9_1                   Rank: 11    Keep: False\n",
      "Feature: FWMA_10                        Rank: 1     Keep: True\n",
      "Feature: HA_open                        Rank: 1     Keep: True\n",
      "Feature: HA_high                        Rank: 1     Keep: True\n",
      "Feature: HA_low                         Rank: 1     Keep: True\n",
      "Feature: HA_close                       Rank: 1     Keep: True\n",
      "Feature: HILO_13_21                     Rank: 1     Keep: True\n",
      "Feature: HL2                            Rank: 1     Keep: True\n",
      "Feature: HLC3                           Rank: 1     Keep: True\n",
      "Feature: HMA_10                         Rank: 1     Keep: True\n",
      "Feature: HWM                            Rank: 1     Keep: True\n",
      "Feature: HWU                            Rank: 1     Keep: True\n",
      "Feature: HWL                            Rank: 1     Keep: True\n",
      "Feature: HWMA_0.2_0.1_0.1               Rank: 1     Keep: True\n",
      "Feature: ISA_9                          Rank: 1     Keep: True\n",
      "Feature: ISB_26                         Rank: 1     Keep: True\n",
      "Feature: ITS_9                          Rank: 1     Keep: True\n",
      "Feature: IKS_26                         Rank: 1     Keep: True\n",
      "Feature: ICS_26                         Rank: 1     Keep: True\n",
      "Feature: INC_1                          Rank: 34    Keep: False\n",
      "Feature: INERTIA_20_14                  Rank: 1     Keep: True\n",
      "Feature: JMA_7_0                        Rank: 1     Keep: True\n",
      "Feature: KAMA_10_2_30                   Rank: 1     Keep: True\n",
      "Feature: KCLe_20_2                      Rank: 1     Keep: True\n",
      "Feature: KCBe_20_2                      Rank: 1     Keep: True\n",
      "Feature: KCUe_20_2                      Rank: 1     Keep: True\n",
      "Feature: K_9_3                          Rank: 1     Keep: True\n",
      "Feature: D_9_3                          Rank: 1     Keep: True\n",
      "Feature: J_9_3                          Rank: 1     Keep: True\n",
      "Feature: KST_10_15_20_30_10_10_10_15    Rank: 1     Keep: True\n",
      "Feature: KSTs_9                         Rank: 1     Keep: True\n",
      "Feature: KURT_30                        Rank: 1     Keep: True\n",
      "Feature: KVO_34_55_13                   Rank: 1     Keep: True\n",
      "Feature: KVOs_34_55_13                  Rank: 1     Keep: True\n",
      "Feature: LR_14                          Rank: 1     Keep: True\n",
      "Feature: LOGRET_1                       Rank: 20    Keep: False\n",
      "Feature: MACD_12_26_9                   Rank: 1     Keep: True\n",
      "Feature: MACDh_12_26_9                  Rank: 1     Keep: True\n",
      "Feature: MACDs_12_26_9                  Rank: 1     Keep: True\n",
      "Feature: MAD_30                         Rank: 1     Keep: True\n",
      "Feature: MASSI_9_25                     Rank: 1     Keep: True\n",
      "Feature: MCGD_10                        Rank: 1     Keep: True\n",
      "Feature: MEDIAN_30                      Rank: 1     Keep: True\n",
      "Feature: MFI_14                         Rank: 1     Keep: True\n",
      "Feature: MIDPOINT_2                     Rank: 1     Keep: True\n",
      "Feature: MIDPRICE_2                     Rank: 1     Keep: True\n",
      "Feature: MOM_10                         Rank: 1     Keep: True\n",
      "Feature: NATR_14                        Rank: 1     Keep: True\n",
      "Feature: NVI_1                          Rank: 1     Keep: True\n",
      "Feature: OHLC4                          Rank: 1     Keep: True\n",
      "Feature: PDIST                          Rank: 6     Keep: False\n",
      "Feature: PCTRET_1                       Rank: 20    Keep: False\n",
      "Feature: PGO_14                         Rank: 1     Keep: True\n",
      "Feature: PPO_12_26_9                    Rank: 1     Keep: True\n",
      "Feature: PPOh_12_26_9                   Rank: 1     Keep: True\n",
      "Feature: PPOs_12_26_9                   Rank: 1     Keep: True\n",
      "Feature: PSARr_0.02_0.2                 Rank: 57    Keep: False\n",
      "Feature: PSL_12                         Rank: 19    Keep: False\n",
      "Feature: PVI_1                          Rank: 1     Keep: True\n",
      "Feature: PVO_12_26_9                    Rank: 1     Keep: True\n",
      "Feature: PVOh_12_26_9                   Rank: 1     Keep: True\n",
      "Feature: PVOs_12_26_9                   Rank: 1     Keep: True\n",
      "Feature: PVOL                           Rank: 2     Keep: False\n",
      "Feature: PVR                            Rank: 35    Keep: False\n",
      "Feature: PVT                            Rank: 1     Keep: True\n",
      "Feature: PWMA_10                        Rank: 1     Keep: True\n",
      "Feature: QQE_14_5_4.236                 Rank: 1     Keep: True\n",
      "Feature: QQE_14_5_4.236_RSIMA           Rank: 1     Keep: True\n",
      "Feature: QS_10                          Rank: 1     Keep: True\n",
      "Feature: QTL_30_0.5                     Rank: 1     Keep: True\n",
      "Feature: RMA_10                         Rank: 1     Keep: True\n",
      "Feature: ROC_10                         Rank: 1     Keep: True\n",
      "Feature: RSI_14                         Rank: 1     Keep: True\n",
      "Feature: RSX_14                         Rank: 2     Keep: False\n",
      "Feature: RVGI_14_4                      Rank: 2     Keep: False\n",
      "Feature: RVGIs_14_4                     Rank: 1     Keep: True\n",
      "Feature: RVI_14                         Rank: 6     Keep: False\n",
      "Feature: SINWMA_14                      Rank: 1     Keep: True\n",
      "Feature: SKEW_30                        Rank: 1     Keep: True\n",
      "Feature: SLOPE_1                        Rank: 17    Keep: False\n",
      "Feature: SMA_10                         Rank: 1     Keep: True\n",
      "Feature: SMI_5_20_5                     Rank: 1     Keep: True\n",
      "Feature: SMIs_5_20_5                    Rank: 1     Keep: True\n",
      "Feature: SMIo_5_20_5                    Rank: 1     Keep: True\n",
      "Feature: SQZ_20_2.0_20_1.5              Rank: 6     Keep: False\n",
      "Feature: SQZ_ON                         Rank: 42    Keep: False\n",
      "Feature: SQZ_OFF                        Rank: 33    Keep: False\n",
      "Feature: SQZ_NO                         Rank: 95    Keep: False\n",
      "Feature: SQZPRO_20_2.0_20_2_1.5_1       Rank: 6     Keep: False\n",
      "Feature: SQZPRO_ON_WIDE                 Rank: 36    Keep: False\n",
      "Feature: SQZPRO_ON_NORMAL               Rank: 44    Keep: False\n",
      "Feature: SQZPRO_ON_NARROW               Rank: 95    Keep: False\n",
      "Feature: SQZPRO_OFF                     Rank: 32    Keep: False\n",
      "Feature: SQZPRO_NO                      Rank: 95    Keep: False\n",
      "Feature: SSF_10_2                       Rank: 1     Keep: True\n",
      "Feature: STC_10_12_26_0.5               Rank: 1     Keep: True\n",
      "Feature: STCmacd_10_12_26_0.5           Rank: 1     Keep: True\n",
      "Feature: STCstoch_10_12_26_0.5          Rank: 1     Keep: True\n",
      "Feature: STDEV_30                       Rank: 1     Keep: True\n",
      "Feature: STOCHk_14_3_3                  Rank: 1     Keep: True\n",
      "Feature: STOCHd_14_3_3                  Rank: 1     Keep: True\n",
      "Feature: STOCHRSIk_14_14_3_3            Rank: 1     Keep: True\n",
      "Feature: STOCHRSId_14_14_3_3            Rank: 1     Keep: True\n",
      "Feature: SUPERT_7_3.0                   Rank: 1     Keep: True\n",
      "Feature: SUPERTd_7_3.0                  Rank: 31    Keep: False\n",
      "Feature: SWMA_10                        Rank: 1     Keep: True\n",
      "Feature: T3_10_0.7                      Rank: 1     Keep: True\n",
      "Feature: TEMA_10                        Rank: 1     Keep: True\n",
      "Feature: THERMO_20_2_0.5                Rank: 22    Keep: False\n",
      "Feature: THERMOma_20_2_0.5              Rank: 1     Keep: True\n",
      "Feature: THERMOl_20_2_0.5               Rank: 64    Keep: False\n",
      "Feature: THERMOs_20_2_0.5               Rank: 55    Keep: False\n",
      "Feature: TOS_STDEVALL_LR                Rank: 1     Keep: True\n",
      "Feature: TOS_STDEVALL_L_1               Rank: 1     Keep: True\n",
      "Feature: TOS_STDEVALL_U_1               Rank: 1     Keep: True\n",
      "Feature: TOS_STDEVALL_L_2               Rank: 1     Keep: True\n",
      "Feature: TOS_STDEVALL_U_2               Rank: 1     Keep: True\n",
      "Feature: TOS_STDEVALL_L_3               Rank: 1     Keep: True\n",
      "Feature: TOS_STDEVALL_U_3               Rank: 1     Keep: True\n",
      "Feature: TRIMA_10                       Rank: 1     Keep: True\n",
      "Feature: TRIX_30_9                      Rank: 1     Keep: True\n",
      "Feature: TRIXs_30_9                     Rank: 1     Keep: True\n",
      "Feature: TRUERANGE_1                    Rank: 16    Keep: False\n",
      "Feature: TSI_13_25_13                   Rank: 1     Keep: True\n",
      "Feature: TSIs_13_25_13                  Rank: 1     Keep: True\n",
      "Feature: TTM_TRND_6                     Rank: 26    Keep: False\n",
      "Feature: UI_14                          Rank: 1     Keep: True\n",
      "Feature: UO_7_14_28                     Rank: 1     Keep: True\n",
      "Feature: VAR_30                         Rank: 1     Keep: True\n",
      "Feature: VHF_28                         Rank: 1     Keep: True\n",
      "Feature: VIDYA_14                       Rank: 1     Keep: True\n",
      "Feature: VTXP_14                        Rank: 10    Keep: False\n",
      "Feature: VTXM_14                        Rank: 1     Keep: True\n",
      "Feature: VWAP_D                         Rank: 1     Keep: True\n",
      "Feature: VWMA_10                        Rank: 1     Keep: True\n",
      "Feature: WCP                            Rank: 1     Keep: True\n",
      "Feature: WILLR_14                       Rank: 1     Keep: True\n",
      "Feature: WMA_10                         Rank: 1     Keep: True\n",
      "Feature: ZL_EMA_10                      Rank: 1     Keep: True\n",
      "Feature: ZS_30                          Rank: 1     Keep: True\n"
     ]
    }
   ],
   "source": [
    "# zip my names, ranks, and decisions in a single iterable\n",
    "feature_ranks = list(zip(feature_names,\n",
    "                         feat_selector.ranking_,\n",
    "                         feat_selector.support_))\n",
    "\n",
    "# iterate through and print out the results\n",
    "for feat in feature_ranks:\n",
    "    print(f'Feature: {feat[0]:<30} Rank: {feat[1]:<5} Keep: {feat[2]}')"
   ]
  },
  {
   "cell_type": "code",
   "execution_count": 30,
   "id": "e689215c",
   "metadata": {
    "colab": {
     "base_uri": "https://localhost:8080/",
     "height": 424
    },
    "id": "e689215c",
    "outputId": "6e82a1a5-9c22-460d-d393-6f536737e7c4"
   },
   "outputs": [
    {
     "data": {
      "text/html": [
       "<div>\n",
       "<style scoped>\n",
       "    .dataframe tbody tr th:only-of-type {\n",
       "        vertical-align: middle;\n",
       "    }\n",
       "\n",
       "    .dataframe tbody tr th {\n",
       "        vertical-align: top;\n",
       "    }\n",
       "\n",
       "    .dataframe thead th {\n",
       "        text-align: right;\n",
       "    }\n",
       "</style>\n",
       "<table border=\"1\" class=\"dataframe\">\n",
       "  <thead>\n",
       "    <tr style=\"text-align: right;\">\n",
       "      <th></th>\n",
       "      <th>Feature</th>\n",
       "      <th>Ranking</th>\n",
       "    </tr>\n",
       "  </thead>\n",
       "  <tbody>\n",
       "    <tr>\n",
       "      <th>3</th>\n",
       "      <td>ABER_ZG_5_15</td>\n",
       "      <td>1</td>\n",
       "    </tr>\n",
       "    <tr>\n",
       "      <th>4</th>\n",
       "      <td>ABER_SG_5_15</td>\n",
       "      <td>1</td>\n",
       "    </tr>\n",
       "    <tr>\n",
       "      <th>5</th>\n",
       "      <td>ABER_XG_5_15</td>\n",
       "      <td>1</td>\n",
       "    </tr>\n",
       "    <tr>\n",
       "      <th>6</th>\n",
       "      <td>ABER_ATR_5_15</td>\n",
       "      <td>1</td>\n",
       "    </tr>\n",
       "    <tr>\n",
       "      <th>7</th>\n",
       "      <td>ACCBL_20</td>\n",
       "      <td>1</td>\n",
       "    </tr>\n",
       "    <tr>\n",
       "      <th>...</th>\n",
       "      <td>...</td>\n",
       "      <td>...</td>\n",
       "    </tr>\n",
       "    <tr>\n",
       "      <th>267</th>\n",
       "      <td>WCP</td>\n",
       "      <td>1</td>\n",
       "    </tr>\n",
       "    <tr>\n",
       "      <th>268</th>\n",
       "      <td>WILLR_14</td>\n",
       "      <td>1</td>\n",
       "    </tr>\n",
       "    <tr>\n",
       "      <th>269</th>\n",
       "      <td>WMA_10</td>\n",
       "      <td>1</td>\n",
       "    </tr>\n",
       "    <tr>\n",
       "      <th>270</th>\n",
       "      <td>ZL_EMA_10</td>\n",
       "      <td>1</td>\n",
       "    </tr>\n",
       "    <tr>\n",
       "      <th>271</th>\n",
       "      <td>ZS_30</td>\n",
       "      <td>1</td>\n",
       "    </tr>\n",
       "  </tbody>\n",
       "</table>\n",
       "<p>168 rows × 2 columns</p>\n",
       "</div>"
      ],
      "text/plain": [
       "           Feature  Ranking\n",
       "3     ABER_ZG_5_15        1\n",
       "4     ABER_SG_5_15        1\n",
       "5     ABER_XG_5_15        1\n",
       "6    ABER_ATR_5_15        1\n",
       "7         ACCBL_20        1\n",
       "..             ...      ...\n",
       "267            WCP        1\n",
       "268       WILLR_14        1\n",
       "269         WMA_10        1\n",
       "270      ZL_EMA_10        1\n",
       "271          ZS_30        1\n",
       "\n",
       "[168 rows x 2 columns]"
      ]
     },
     "execution_count": 30,
     "metadata": {},
     "output_type": "execute_result"
    }
   ],
   "source": [
    "selected_rf_features = pd.DataFrame({'Feature':feature_names,\n",
    "                                     'Ranking':feat_selector.ranking_})\n",
    "\n",
    "# selected_rf_features#.sort_values(by='Ranking')\n",
    "\n",
    "selected_rf_features[selected_rf_features['Ranking']<=5]"
   ]
  },
  {
   "cell_type": "code",
   "execution_count": 31,
   "id": "4e45d4ea",
   "metadata": {
    "colab": {
     "base_uri": "https://localhost:8080/"
    },
    "id": "4e45d4ea",
    "outputId": "7fa7f8db-6ece-4e45-bd2d-c84489a82ee3"
   },
   "outputs": [
    {
     "data": {
      "text/plain": [
       "(1916, 161)"
      ]
     },
     "execution_count": 31,
     "metadata": {},
     "output_type": "execute_result"
    }
   ],
   "source": [
    "# check the shape\n",
    "X_filtered.shape"
   ]
  },
  {
   "cell_type": "code",
   "execution_count": 32,
   "id": "93737a2a",
   "metadata": {
    "colab": {
     "base_uri": "https://localhost:8080/",
     "height": 127
    },
    "id": "93737a2a",
    "outputId": "a07bef10-3987-4fe6-a724-066f73c7b250"
   },
   "outputs": [
    {
     "data": {
      "text/html": [
       "<style>#sk-container-id-2 {color: black;background-color: white;}#sk-container-id-2 pre{padding: 0;}#sk-container-id-2 div.sk-toggleable {background-color: white;}#sk-container-id-2 label.sk-toggleable__label {cursor: pointer;display: block;width: 100%;margin-bottom: 0;padding: 0.3em;box-sizing: border-box;text-align: center;}#sk-container-id-2 label.sk-toggleable__label-arrow:before {content: \"▸\";float: left;margin-right: 0.25em;color: #696969;}#sk-container-id-2 label.sk-toggleable__label-arrow:hover:before {color: black;}#sk-container-id-2 div.sk-estimator:hover label.sk-toggleable__label-arrow:before {color: black;}#sk-container-id-2 div.sk-toggleable__content {max-height: 0;max-width: 0;overflow: hidden;text-align: left;background-color: #f0f8ff;}#sk-container-id-2 div.sk-toggleable__content pre {margin: 0.2em;color: black;border-radius: 0.25em;background-color: #f0f8ff;}#sk-container-id-2 input.sk-toggleable__control:checked~div.sk-toggleable__content {max-height: 200px;max-width: 100%;overflow: auto;}#sk-container-id-2 input.sk-toggleable__control:checked~label.sk-toggleable__label-arrow:before {content: \"▾\";}#sk-container-id-2 div.sk-estimator input.sk-toggleable__control:checked~label.sk-toggleable__label {background-color: #d4ebff;}#sk-container-id-2 div.sk-label input.sk-toggleable__control:checked~label.sk-toggleable__label {background-color: #d4ebff;}#sk-container-id-2 input.sk-hidden--visually {border: 0;clip: rect(1px 1px 1px 1px);clip: rect(1px, 1px, 1px, 1px);height: 1px;margin: -1px;overflow: hidden;padding: 0;position: absolute;width: 1px;}#sk-container-id-2 div.sk-estimator {font-family: monospace;background-color: #f0f8ff;border: 1px dotted black;border-radius: 0.25em;box-sizing: border-box;margin-bottom: 0.5em;}#sk-container-id-2 div.sk-estimator:hover {background-color: #d4ebff;}#sk-container-id-2 div.sk-parallel-item::after {content: \"\";width: 100%;border-bottom: 1px solid gray;flex-grow: 1;}#sk-container-id-2 div.sk-label:hover label.sk-toggleable__label {background-color: #d4ebff;}#sk-container-id-2 div.sk-serial::before {content: \"\";position: absolute;border-left: 1px solid gray;box-sizing: border-box;top: 0;bottom: 0;left: 50%;z-index: 0;}#sk-container-id-2 div.sk-serial {display: flex;flex-direction: column;align-items: center;background-color: white;padding-right: 0.2em;padding-left: 0.2em;position: relative;}#sk-container-id-2 div.sk-item {position: relative;z-index: 1;}#sk-container-id-2 div.sk-parallel {display: flex;align-items: stretch;justify-content: center;background-color: white;position: relative;}#sk-container-id-2 div.sk-item::before, #sk-container-id-2 div.sk-parallel-item::before {content: \"\";position: absolute;border-left: 1px solid gray;box-sizing: border-box;top: 0;bottom: 0;left: 50%;z-index: -1;}#sk-container-id-2 div.sk-parallel-item {display: flex;flex-direction: column;z-index: 1;position: relative;background-color: white;}#sk-container-id-2 div.sk-parallel-item:first-child::after {align-self: flex-end;width: 50%;}#sk-container-id-2 div.sk-parallel-item:last-child::after {align-self: flex-start;width: 50%;}#sk-container-id-2 div.sk-parallel-item:only-child::after {width: 0;}#sk-container-id-2 div.sk-dashed-wrapped {border: 1px dashed gray;margin: 0 0.4em 0.5em 0.4em;box-sizing: border-box;padding-bottom: 0.4em;background-color: white;}#sk-container-id-2 div.sk-label label {font-family: monospace;font-weight: bold;display: inline-block;line-height: 1.2em;}#sk-container-id-2 div.sk-label-container {text-align: center;}#sk-container-id-2 div.sk-container {/* jupyter's `normalize.less` sets `[hidden] { display: none; }` but bootstrap.min.css set `[hidden] { display: none !important; }` so we also need the `!important` here to be able to override the default hidden behavior on the sphinx rendered scikit-learn.org. See: https://github.com/scikit-learn/scikit-learn/issues/21755 */display: inline-block !important;position: relative;}#sk-container-id-2 div.sk-text-repr-fallback {display: none;}</style><div id=\"sk-container-id-2\" class=\"sk-top-container\"><div class=\"sk-text-repr-fallback\"><pre>RandomForestClassifier(class_weight={0: 2.029553511435157,\n",
       "                                     1: 0.7248451774442556},\n",
       "                       max_depth=5, n_estimators=374, n_jobs=-1,\n",
       "                       random_state=RandomState(MT19937) at 0x7F97797C4740)</pre><b>In a Jupyter environment, please rerun this cell to show the HTML representation or trust the notebook. <br />On GitHub, the HTML representation is unable to render, please try loading this page with nbviewer.org.</b></div><div class=\"sk-container\" hidden><div class=\"sk-item\"><div class=\"sk-estimator sk-toggleable\"><input class=\"sk-toggleable__control sk-hidden--visually\" id=\"sk-estimator-id-2\" type=\"checkbox\" checked><label for=\"sk-estimator-id-2\" class=\"sk-toggleable__label sk-toggleable__label-arrow\">RandomForestClassifier</label><div class=\"sk-toggleable__content\"><pre>RandomForestClassifier(class_weight={0: 2.029553511435157,\n",
       "                                     1: 0.7248451774442556},\n",
       "                       max_depth=5, n_estimators=374, n_jobs=-1,\n",
       "                       random_state=RandomState(MT19937) at 0x7F97797C4740)</pre></div></div></div></div></div>"
      ],
      "text/plain": [
       "RandomForestClassifier(class_weight={0: 2.029553511435157,\n",
       "                                     1: 0.7248451774442556},\n",
       "                       max_depth=5, n_estimators=374, n_jobs=-1,\n",
       "                       random_state=RandomState(MT19937) at 0x7F97797C4740)"
      ]
     },
     "execution_count": 32,
     "metadata": {},
     "output_type": "execute_result"
    }
   ],
   "source": [
    "# fit with selected features\n",
    "forest.fit(X_filtered, y_train)"
   ]
  },
  {
   "cell_type": "code",
   "execution_count": 33,
   "id": "a1bd007d",
   "metadata": {
    "colab": {
     "base_uri": "https://localhost:8080/"
    },
    "id": "a1bd007d",
    "outputId": "1810c7b9-fc78-4596-a43d-b9ab549120e0"
   },
   "outputs": [
    {
     "data": {
      "text/plain": [
       "array([[ 3.87088668e+02,  3.94892694e+02,  3.79284641e+02, ...,\n",
       "         3.89198911e+02,  3.85431675e+02, -2.24674606e+00],\n",
       "       [ 3.86890000e+02,  3.94795758e+02,  3.78984243e+02, ...,\n",
       "         3.88707455e+02,  3.84693188e+02, -7.18755272e-01],\n",
       "       [ 3.86756002e+02,  3.94530041e+02,  3.78981962e+02, ...,\n",
       "         3.89234548e+02,  3.87668977e+02,  1.12500866e-01],\n",
       "       ...,\n",
       "       [ 3.72082001e+02,  3.77846315e+02,  3.66317686e+02, ...,\n",
       "         3.69751640e+02,  3.75384906e+02,  1.89833767e+00],\n",
       "       [ 3.73737333e+02,  3.79327361e+02,  3.68147305e+02, ...,\n",
       "         3.71944547e+02,  3.76536736e+02,  1.62071902e+00],\n",
       "       [ 3.76366667e+02,  3.82187361e+02,  3.70545972e+02, ...,\n",
       "         3.75104545e+02,  3.80388233e+02,  2.22232857e+00]])"
      ]
     },
     "execution_count": 33,
     "metadata": {},
     "output_type": "execute_result"
    }
   ],
   "source": [
    "# first apply feature selector transform to make sure same features are selected\n",
    "X_test_filtered = feat_selector.transform(X_test)\n",
    "X_test_filtered"
   ]
  },
  {
   "cell_type": "code",
   "execution_count": 34,
   "id": "7f961820",
   "metadata": {
    "colab": {
     "base_uri": "https://localhost:8080/"
    },
    "id": "7f961820",
    "outputId": "81c68b9b-17ad-49bd-d8ed-1ff86b599c1f"
   },
   "outputs": [
    {
     "data": {
      "text/plain": [
       "(479, 161)"
      ]
     },
     "execution_count": 34,
     "metadata": {},
     "output_type": "execute_result"
    }
   ],
   "source": [
    "# check the shape\n",
    "X_test_filtered.shape"
   ]
  },
  {
   "cell_type": "code",
   "execution_count": 35,
   "id": "d0108946",
   "metadata": {
    "id": "d0108946"
   },
   "outputs": [],
   "source": [
    "# predict labels with unseen dataset\n",
    "prediction = forest.predict(X_test_filtered)"
   ]
  },
  {
   "cell_type": "code",
   "execution_count": 36,
   "id": "36b39836",
   "metadata": {
    "colab": {
     "base_uri": "https://localhost:8080/"
    },
    "id": "36b39836",
    "outputId": "10cdf59a-02f3-4d2b-c5d6-41baee3b005f"
   },
   "outputs": [
    {
     "name": "stdout",
     "output_type": "stream",
     "text": [
      "Accuracy Score \t\t 0.631098092548035\n"
     ]
    }
   ],
   "source": [
    "# print scores\n",
    "print(\"Accuracy Score \\t\\t\", balanced_accuracy_score(y_test, prediction))"
   ]
  },
  {
   "cell_type": "code",
   "execution_count": 37,
   "id": "266d36b1",
   "metadata": {
    "colab": {
     "base_uri": "https://localhost:8080/"
    },
    "id": "266d36b1",
    "outputId": "68a8c394-1de5-4325-f5f0-5bc0eec655a0"
   },
   "outputs": [
    {
     "name": "stdout",
     "output_type": "stream",
     "text": [
      "              precision    recall  f1-score   support\n",
      "\n",
      "           0       0.78      0.37      0.50       242\n",
      "           1       0.58      0.89      0.70       237\n",
      "\n",
      "    accuracy                           0.63       479\n",
      "   macro avg       0.68      0.63      0.60       479\n",
      "weighted avg       0.68      0.63      0.60       479\n",
      "\n"
     ]
    }
   ],
   "source": [
    "# Classification Report\n",
    "print(classification_report(y_test, prediction))"
   ]
  },
  {
   "cell_type": "code",
   "execution_count": 38,
   "id": "NvhiTJAxrhLK",
   "metadata": {
    "colab": {
     "base_uri": "https://localhost:8080/"
    },
    "id": "NvhiTJAxrhLK",
    "outputId": "1ebcf65a-692f-4095-9d9f-2d29c6bc10c6"
   },
   "outputs": [
    {
     "data": {
      "text/plain": [
       "array([242, 237])"
      ]
     },
     "execution_count": 38,
     "metadata": {},
     "output_type": "execute_result"
    }
   ],
   "source": [
    "np.bincount(y_test)"
   ]
  },
  {
   "cell_type": "code",
   "execution_count": 39,
   "id": "XOLtXgXIrWS3",
   "metadata": {
    "colab": {
     "base_uri": "https://localhost:8080/"
    },
    "id": "XOLtXgXIrWS3",
    "outputId": "e7e294e7-1352-4f66-f187-35825c1559dc"
   },
   "outputs": [
    {
     "data": {
      "text/plain": [
       "array([116, 363])"
      ]
     },
     "execution_count": 39,
     "metadata": {},
     "output_type": "execute_result"
    }
   ],
   "source": [
    "np.bincount(prediction)"
   ]
  },
  {
   "cell_type": "code",
   "execution_count": 40,
   "id": "49bc7856",
   "metadata": {
    "id": "49bc7856"
   },
   "outputs": [],
   "source": [
    "BadFeatures = selected_rf_features[selected_rf_features['Ranking']!=1].index"
   ]
  },
  {
   "cell_type": "code",
   "execution_count": 41,
   "id": "60269efd",
   "metadata": {
    "id": "60269efd"
   },
   "outputs": [],
   "source": [
    "selected_rf_features.drop(BadFeatures, inplace=True)"
   ]
  },
  {
   "cell_type": "code",
   "execution_count": 42,
   "id": "90a7efd0",
   "metadata": {
    "colab": {
     "base_uri": "https://localhost:8080/",
     "height": 424
    },
    "id": "90a7efd0",
    "outputId": "2024e501-4ef4-4d52-e657-e31a825b0744"
   },
   "outputs": [
    {
     "data": {
      "text/html": [
       "<div>\n",
       "<style scoped>\n",
       "    .dataframe tbody tr th:only-of-type {\n",
       "        vertical-align: middle;\n",
       "    }\n",
       "\n",
       "    .dataframe tbody tr th {\n",
       "        vertical-align: top;\n",
       "    }\n",
       "\n",
       "    .dataframe thead th {\n",
       "        text-align: right;\n",
       "    }\n",
       "</style>\n",
       "<table border=\"1\" class=\"dataframe\">\n",
       "  <thead>\n",
       "    <tr style=\"text-align: right;\">\n",
       "      <th></th>\n",
       "      <th>Feature</th>\n",
       "      <th>Ranking</th>\n",
       "    </tr>\n",
       "  </thead>\n",
       "  <tbody>\n",
       "    <tr>\n",
       "      <th>3</th>\n",
       "      <td>ABER_ZG_5_15</td>\n",
       "      <td>1</td>\n",
       "    </tr>\n",
       "    <tr>\n",
       "      <th>4</th>\n",
       "      <td>ABER_SG_5_15</td>\n",
       "      <td>1</td>\n",
       "    </tr>\n",
       "    <tr>\n",
       "      <th>5</th>\n",
       "      <td>ABER_XG_5_15</td>\n",
       "      <td>1</td>\n",
       "    </tr>\n",
       "    <tr>\n",
       "      <th>6</th>\n",
       "      <td>ABER_ATR_5_15</td>\n",
       "      <td>1</td>\n",
       "    </tr>\n",
       "    <tr>\n",
       "      <th>7</th>\n",
       "      <td>ACCBL_20</td>\n",
       "      <td>1</td>\n",
       "    </tr>\n",
       "    <tr>\n",
       "      <th>...</th>\n",
       "      <td>...</td>\n",
       "      <td>...</td>\n",
       "    </tr>\n",
       "    <tr>\n",
       "      <th>267</th>\n",
       "      <td>WCP</td>\n",
       "      <td>1</td>\n",
       "    </tr>\n",
       "    <tr>\n",
       "      <th>268</th>\n",
       "      <td>WILLR_14</td>\n",
       "      <td>1</td>\n",
       "    </tr>\n",
       "    <tr>\n",
       "      <th>269</th>\n",
       "      <td>WMA_10</td>\n",
       "      <td>1</td>\n",
       "    </tr>\n",
       "    <tr>\n",
       "      <th>270</th>\n",
       "      <td>ZL_EMA_10</td>\n",
       "      <td>1</td>\n",
       "    </tr>\n",
       "    <tr>\n",
       "      <th>271</th>\n",
       "      <td>ZS_30</td>\n",
       "      <td>1</td>\n",
       "    </tr>\n",
       "  </tbody>\n",
       "</table>\n",
       "<p>161 rows × 2 columns</p>\n",
       "</div>"
      ],
      "text/plain": [
       "           Feature  Ranking\n",
       "3     ABER_ZG_5_15        1\n",
       "4     ABER_SG_5_15        1\n",
       "5     ABER_XG_5_15        1\n",
       "6    ABER_ATR_5_15        1\n",
       "7         ACCBL_20        1\n",
       "..             ...      ...\n",
       "267            WCP        1\n",
       "268       WILLR_14        1\n",
       "269         WMA_10        1\n",
       "270      ZL_EMA_10        1\n",
       "271          ZS_30        1\n",
       "\n",
       "[161 rows x 2 columns]"
      ]
     },
     "execution_count": 42,
     "metadata": {},
     "output_type": "execute_result"
    }
   ],
   "source": [
    "selected_rf_features"
   ]
  },
  {
   "cell_type": "code",
   "execution_count": 43,
   "id": "c3b288d6",
   "metadata": {
    "id": "c3b288d6"
   },
   "outputs": [],
   "source": [
    "GoodFeatures = selected_rf_features['Feature'].tolist()"
   ]
  },
  {
   "cell_type": "code",
   "execution_count": 44,
   "id": "e453e5d4",
   "metadata": {
    "colab": {
     "base_uri": "https://localhost:8080/",
     "height": 475
    },
    "id": "e453e5d4",
    "outputId": "975c9ed8-6828-4399-ce62-69f05722bf1b"
   },
   "outputs": [
    {
     "data": {
      "text/html": [
       "<div>\n",
       "<style scoped>\n",
       "    .dataframe tbody tr th:only-of-type {\n",
       "        vertical-align: middle;\n",
       "    }\n",
       "\n",
       "    .dataframe tbody tr th {\n",
       "        vertical-align: top;\n",
       "    }\n",
       "\n",
       "    .dataframe thead th {\n",
       "        text-align: right;\n",
       "    }\n",
       "</style>\n",
       "<table border=\"1\" class=\"dataframe\">\n",
       "  <thead>\n",
       "    <tr style=\"text-align: right;\">\n",
       "      <th></th>\n",
       "      <th>ABER_ZG_5_15</th>\n",
       "      <th>ABER_SG_5_15</th>\n",
       "      <th>ABER_XG_5_15</th>\n",
       "      <th>ABER_ATR_5_15</th>\n",
       "      <th>ACCBL_20</th>\n",
       "      <th>ACCBM_20</th>\n",
       "      <th>ACCBU_20</th>\n",
       "      <th>AD</th>\n",
       "      <th>ADOSC_3_10</th>\n",
       "      <th>ADX_14</th>\n",
       "      <th>...</th>\n",
       "      <th>VHF_28</th>\n",
       "      <th>VIDYA_14</th>\n",
       "      <th>VTXM_14</th>\n",
       "      <th>VWAP_D</th>\n",
       "      <th>VWMA_10</th>\n",
       "      <th>WCP</th>\n",
       "      <th>WILLR_14</th>\n",
       "      <th>WMA_10</th>\n",
       "      <th>ZL_EMA_10</th>\n",
       "      <th>ZS_30</th>\n",
       "    </tr>\n",
       "    <tr>\n",
       "      <th>Date</th>\n",
       "      <th></th>\n",
       "      <th></th>\n",
       "      <th></th>\n",
       "      <th></th>\n",
       "      <th></th>\n",
       "      <th></th>\n",
       "      <th></th>\n",
       "      <th></th>\n",
       "      <th></th>\n",
       "      <th></th>\n",
       "      <th></th>\n",
       "      <th></th>\n",
       "      <th></th>\n",
       "      <th></th>\n",
       "      <th></th>\n",
       "      <th></th>\n",
       "      <th></th>\n",
       "      <th></th>\n",
       "      <th></th>\n",
       "      <th></th>\n",
       "      <th></th>\n",
       "    </tr>\n",
       "  </thead>\n",
       "  <tbody>\n",
       "    <tr>\n",
       "      <th>2014-05-13</th>\n",
       "      <td>87.166001</td>\n",
       "      <td>88.416988</td>\n",
       "      <td>85.915014</td>\n",
       "      <td>1.250987</td>\n",
       "      <td>83.975365</td>\n",
       "      <td>86.981000</td>\n",
       "      <td>89.730368</td>\n",
       "      <td>1.585709e+08</td>\n",
       "      <td>2.594460e+07</td>\n",
       "      <td>17.134584</td>\n",
       "      <td>...</td>\n",
       "      <td>0.213395</td>\n",
       "      <td>79.947811</td>\n",
       "      <td>0.927781</td>\n",
       "      <td>88.340001</td>\n",
       "      <td>87.265404</td>\n",
       "      <td>88.327501</td>\n",
       "      <td>-9.142848</td>\n",
       "      <td>87.401819</td>\n",
       "      <td>87.678440</td>\n",
       "      <td>1.117167</td>\n",
       "    </tr>\n",
       "    <tr>\n",
       "      <th>2014-05-14</th>\n",
       "      <td>87.474668</td>\n",
       "      <td>88.690922</td>\n",
       "      <td>86.258414</td>\n",
       "      <td>1.216254</td>\n",
       "      <td>84.342643</td>\n",
       "      <td>87.120000</td>\n",
       "      <td>89.715145</td>\n",
       "      <td>1.473245e+08</td>\n",
       "      <td>2.004845e+07</td>\n",
       "      <td>16.155232</td>\n",
       "      <td>...</td>\n",
       "      <td>0.195327</td>\n",
       "      <td>79.982747</td>\n",
       "      <td>0.979805</td>\n",
       "      <td>87.933334</td>\n",
       "      <td>87.291810</td>\n",
       "      <td>87.907501</td>\n",
       "      <td>-22.285679</td>\n",
       "      <td>87.486365</td>\n",
       "      <td>87.951451</td>\n",
       "      <td>0.825349</td>\n",
       "    </tr>\n",
       "    <tr>\n",
       "      <th>2014-05-15</th>\n",
       "      <td>87.582668</td>\n",
       "      <td>88.809838</td>\n",
       "      <td>86.355497</td>\n",
       "      <td>1.227170</td>\n",
       "      <td>84.388542</td>\n",
       "      <td>87.168000</td>\n",
       "      <td>89.833541</td>\n",
       "      <td>1.360802e+08</td>\n",
       "      <td>1.223609e+07</td>\n",
       "      <td>16.094198</td>\n",
       "      <td>...</td>\n",
       "      <td>0.211860</td>\n",
       "      <td>80.122007</td>\n",
       "      <td>0.965239</td>\n",
       "      <td>87.226667</td>\n",
       "      <td>87.236773</td>\n",
       "      <td>87.205000</td>\n",
       "      <td>-42.000035</td>\n",
       "      <td>87.437455</td>\n",
       "      <td>87.865732</td>\n",
       "      <td>0.333878</td>\n",
       "    </tr>\n",
       "    <tr>\n",
       "      <th>2014-05-16</th>\n",
       "      <td>87.756001</td>\n",
       "      <td>88.976027</td>\n",
       "      <td>86.535975</td>\n",
       "      <td>1.220026</td>\n",
       "      <td>84.427180</td>\n",
       "      <td>87.243500</td>\n",
       "      <td>89.902181</td>\n",
       "      <td>1.969193e+08</td>\n",
       "      <td>2.728565e+07</td>\n",
       "      <td>16.037539</td>\n",
       "      <td>...</td>\n",
       "      <td>0.214579</td>\n",
       "      <td>80.306499</td>\n",
       "      <td>0.972423</td>\n",
       "      <td>87.370000</td>\n",
       "      <td>87.286350</td>\n",
       "      <td>87.455000</td>\n",
       "      <td>-29.220811</td>\n",
       "      <td>87.501455</td>\n",
       "      <td>87.742871</td>\n",
       "      <td>0.933547</td>\n",
       "    </tr>\n",
       "    <tr>\n",
       "      <th>2014-05-19</th>\n",
       "      <td>87.779334</td>\n",
       "      <td>88.995358</td>\n",
       "      <td>86.563310</td>\n",
       "      <td>1.216024</td>\n",
       "      <td>84.460538</td>\n",
       "      <td>87.317500</td>\n",
       "      <td>90.015538</td>\n",
       "      <td>2.212081e+08</td>\n",
       "      <td>3.869002e+07</td>\n",
       "      <td>15.263639</td>\n",
       "      <td>...</td>\n",
       "      <td>0.218135</td>\n",
       "      <td>80.490936</td>\n",
       "      <td>0.940832</td>\n",
       "      <td>88.026667</td>\n",
       "      <td>87.319668</td>\n",
       "      <td>88.100000</td>\n",
       "      <td>-9.415609</td>\n",
       "      <td>87.672364</td>\n",
       "      <td>87.853257</td>\n",
       "      <td>1.412997</td>\n",
       "    </tr>\n",
       "    <tr>\n",
       "      <th>...</th>\n",
       "      <td>...</td>\n",
       "      <td>...</td>\n",
       "      <td>...</td>\n",
       "      <td>...</td>\n",
       "      <td>...</td>\n",
       "      <td>...</td>\n",
       "      <td>...</td>\n",
       "      <td>...</td>\n",
       "      <td>...</td>\n",
       "      <td>...</td>\n",
       "      <td>...</td>\n",
       "      <td>...</td>\n",
       "      <td>...</td>\n",
       "      <td>...</td>\n",
       "      <td>...</td>\n",
       "      <td>...</td>\n",
       "      <td>...</td>\n",
       "      <td>...</td>\n",
       "      <td>...</td>\n",
       "      <td>...</td>\n",
       "      <td>...</td>\n",
       "    </tr>\n",
       "    <tr>\n",
       "      <th>2023-11-08</th>\n",
       "      <td>368.483329</td>\n",
       "      <td>374.078742</td>\n",
       "      <td>362.887916</td>\n",
       "      <td>5.595413</td>\n",
       "      <td>347.179496</td>\n",
       "      <td>360.395001</td>\n",
       "      <td>373.974517</td>\n",
       "      <td>7.889332e+09</td>\n",
       "      <td>5.888099e+07</td>\n",
       "      <td>22.783119</td>\n",
       "      <td>...</td>\n",
       "      <td>0.287312</td>\n",
       "      <td>361.544376</td>\n",
       "      <td>0.885235</td>\n",
       "      <td>372.450002</td>\n",
       "      <td>357.495625</td>\n",
       "      <td>372.572502</td>\n",
       "      <td>-2.703582</td>\n",
       "      <td>364.766364</td>\n",
       "      <td>372.732005</td>\n",
       "      <td>1.507375</td>\n",
       "    </tr>\n",
       "    <tr>\n",
       "      <th>2023-11-09</th>\n",
       "      <td>370.284664</td>\n",
       "      <td>375.855715</td>\n",
       "      <td>364.713613</td>\n",
       "      <td>5.571051</td>\n",
       "      <td>347.382419</td>\n",
       "      <td>360.402002</td>\n",
       "      <td>373.924937</td>\n",
       "      <td>7.845770e+09</td>\n",
       "      <td>4.160143e+07</td>\n",
       "      <td>22.234544</td>\n",
       "      <td>...</td>\n",
       "      <td>0.287651</td>\n",
       "      <td>361.881587</td>\n",
       "      <td>0.796732</td>\n",
       "      <td>371.480001</td>\n",
       "      <td>360.916280</td>\n",
       "      <td>371.127502</td>\n",
       "      <td>-14.576219</td>\n",
       "      <td>366.742728</td>\n",
       "      <td>372.677099</td>\n",
       "      <td>1.075053</td>\n",
       "    </tr>\n",
       "    <tr>\n",
       "      <th>2023-11-10</th>\n",
       "      <td>372.082001</td>\n",
       "      <td>377.846315</td>\n",
       "      <td>366.317686</td>\n",
       "      <td>5.764314</td>\n",
       "      <td>347.757199</td>\n",
       "      <td>361.057503</td>\n",
       "      <td>374.289716</td>\n",
       "      <td>7.901671e+09</td>\n",
       "      <td>4.853706e+07</td>\n",
       "      <td>22.298325</td>\n",
       "      <td>...</td>\n",
       "      <td>0.334683</td>\n",
       "      <td>362.723498</td>\n",
       "      <td>0.725839</td>\n",
       "      <td>376.070007</td>\n",
       "      <td>364.850175</td>\n",
       "      <td>376.650009</td>\n",
       "      <td>-0.414462</td>\n",
       "      <td>369.751640</td>\n",
       "      <td>375.384906</td>\n",
       "      <td>1.898338</td>\n",
       "    </tr>\n",
       "    <tr>\n",
       "      <th>2023-11-13</th>\n",
       "      <td>373.737333</td>\n",
       "      <td>379.327361</td>\n",
       "      <td>368.147305</td>\n",
       "      <td>5.590028</td>\n",
       "      <td>348.291743</td>\n",
       "      <td>361.447502</td>\n",
       "      <td>374.581759</td>\n",
       "      <td>7.913730e+09</td>\n",
       "      <td>5.079891e+07</td>\n",
       "      <td>22.357550</td>\n",
       "      <td>...</td>\n",
       "      <td>0.346884</td>\n",
       "      <td>363.334879</td>\n",
       "      <td>0.733722</td>\n",
       "      <td>376.909993</td>\n",
       "      <td>367.608596</td>\n",
       "      <td>376.984993</td>\n",
       "      <td>-3.675095</td>\n",
       "      <td>371.944547</td>\n",
       "      <td>376.536736</td>\n",
       "      <td>1.620719</td>\n",
       "    </tr>\n",
       "    <tr>\n",
       "      <th>2023-11-14</th>\n",
       "      <td>376.366667</td>\n",
       "      <td>382.187361</td>\n",
       "      <td>370.545972</td>\n",
       "      <td>5.820694</td>\n",
       "      <td>349.581633</td>\n",
       "      <td>362.304001</td>\n",
       "      <td>375.076651</td>\n",
       "      <td>7.940582e+09</td>\n",
       "      <td>5.564998e+07</td>\n",
       "      <td>23.453386</td>\n",
       "      <td>...</td>\n",
       "      <td>0.388785</td>\n",
       "      <td>365.152672</td>\n",
       "      <td>0.669768</td>\n",
       "      <td>384.923330</td>\n",
       "      <td>371.480442</td>\n",
       "      <td>385.024994</td>\n",
       "      <td>-2.118021</td>\n",
       "      <td>375.104545</td>\n",
       "      <td>380.388233</td>\n",
       "      <td>2.222329</td>\n",
       "    </tr>\n",
       "  </tbody>\n",
       "</table>\n",
       "<p>2395 rows × 161 columns</p>\n",
       "</div>"
      ],
      "text/plain": [
       "            ABER_ZG_5_15  ABER_SG_5_15  ABER_XG_5_15  ABER_ATR_5_15  \\\n",
       "Date                                                                  \n",
       "2014-05-13     87.166001     88.416988     85.915014       1.250987   \n",
       "2014-05-14     87.474668     88.690922     86.258414       1.216254   \n",
       "2014-05-15     87.582668     88.809838     86.355497       1.227170   \n",
       "2014-05-16     87.756001     88.976027     86.535975       1.220026   \n",
       "2014-05-19     87.779334     88.995358     86.563310       1.216024   \n",
       "...                  ...           ...           ...            ...   \n",
       "2023-11-08    368.483329    374.078742    362.887916       5.595413   \n",
       "2023-11-09    370.284664    375.855715    364.713613       5.571051   \n",
       "2023-11-10    372.082001    377.846315    366.317686       5.764314   \n",
       "2023-11-13    373.737333    379.327361    368.147305       5.590028   \n",
       "2023-11-14    376.366667    382.187361    370.545972       5.820694   \n",
       "\n",
       "              ACCBL_20    ACCBM_20    ACCBU_20            AD    ADOSC_3_10  \\\n",
       "Date                                                                         \n",
       "2014-05-13   83.975365   86.981000   89.730368  1.585709e+08  2.594460e+07   \n",
       "2014-05-14   84.342643   87.120000   89.715145  1.473245e+08  2.004845e+07   \n",
       "2014-05-15   84.388542   87.168000   89.833541  1.360802e+08  1.223609e+07   \n",
       "2014-05-16   84.427180   87.243500   89.902181  1.969193e+08  2.728565e+07   \n",
       "2014-05-19   84.460538   87.317500   90.015538  2.212081e+08  3.869002e+07   \n",
       "...                ...         ...         ...           ...           ...   \n",
       "2023-11-08  347.179496  360.395001  373.974517  7.889332e+09  5.888099e+07   \n",
       "2023-11-09  347.382419  360.402002  373.924937  7.845770e+09  4.160143e+07   \n",
       "2023-11-10  347.757199  361.057503  374.289716  7.901671e+09  4.853706e+07   \n",
       "2023-11-13  348.291743  361.447502  374.581759  7.913730e+09  5.079891e+07   \n",
       "2023-11-14  349.581633  362.304001  375.076651  7.940582e+09  5.564998e+07   \n",
       "\n",
       "               ADX_14  ...    VHF_28    VIDYA_14   VTXM_14      VWAP_D  \\\n",
       "Date                   ...                                               \n",
       "2014-05-13  17.134584  ...  0.213395   79.947811  0.927781   88.340001   \n",
       "2014-05-14  16.155232  ...  0.195327   79.982747  0.979805   87.933334   \n",
       "2014-05-15  16.094198  ...  0.211860   80.122007  0.965239   87.226667   \n",
       "2014-05-16  16.037539  ...  0.214579   80.306499  0.972423   87.370000   \n",
       "2014-05-19  15.263639  ...  0.218135   80.490936  0.940832   88.026667   \n",
       "...               ...  ...       ...         ...       ...         ...   \n",
       "2023-11-08  22.783119  ...  0.287312  361.544376  0.885235  372.450002   \n",
       "2023-11-09  22.234544  ...  0.287651  361.881587  0.796732  371.480001   \n",
       "2023-11-10  22.298325  ...  0.334683  362.723498  0.725839  376.070007   \n",
       "2023-11-13  22.357550  ...  0.346884  363.334879  0.733722  376.909993   \n",
       "2023-11-14  23.453386  ...  0.388785  365.152672  0.669768  384.923330   \n",
       "\n",
       "               VWMA_10         WCP   WILLR_14      WMA_10   ZL_EMA_10  \\\n",
       "Date                                                                    \n",
       "2014-05-13   87.265404   88.327501  -9.142848   87.401819   87.678440   \n",
       "2014-05-14   87.291810   87.907501 -22.285679   87.486365   87.951451   \n",
       "2014-05-15   87.236773   87.205000 -42.000035   87.437455   87.865732   \n",
       "2014-05-16   87.286350   87.455000 -29.220811   87.501455   87.742871   \n",
       "2014-05-19   87.319668   88.100000  -9.415609   87.672364   87.853257   \n",
       "...                ...         ...        ...         ...         ...   \n",
       "2023-11-08  357.495625  372.572502  -2.703582  364.766364  372.732005   \n",
       "2023-11-09  360.916280  371.127502 -14.576219  366.742728  372.677099   \n",
       "2023-11-10  364.850175  376.650009  -0.414462  369.751640  375.384906   \n",
       "2023-11-13  367.608596  376.984993  -3.675095  371.944547  376.536736   \n",
       "2023-11-14  371.480442  385.024994  -2.118021  375.104545  380.388233   \n",
       "\n",
       "               ZS_30  \n",
       "Date                  \n",
       "2014-05-13  1.117167  \n",
       "2014-05-14  0.825349  \n",
       "2014-05-15  0.333878  \n",
       "2014-05-16  0.933547  \n",
       "2014-05-19  1.412997  \n",
       "...              ...  \n",
       "2023-11-08  1.507375  \n",
       "2023-11-09  1.075053  \n",
       "2023-11-10  1.898338  \n",
       "2023-11-13  1.620719  \n",
       "2023-11-14  2.222329  \n",
       "\n",
       "[2395 rows x 161 columns]"
      ]
     },
     "execution_count": 44,
     "metadata": {},
     "output_type": "execute_result"
    }
   ],
   "source": [
    "data.drop(columns=[col for col in data if col not in GoodFeatures], inplace=True)\n",
    "data"
   ]
  },
  {
   "cell_type": "code",
   "execution_count": 45,
   "id": "25b0d36b",
   "metadata": {
    "id": "25b0d36b"
   },
   "outputs": [],
   "source": [
    "X = data"
   ]
  },
  {
   "cell_type": "code",
   "execution_count": 46,
   "id": "19b863cb",
   "metadata": {
    "id": "19b863cb"
   },
   "outputs": [],
   "source": [
    "# Splitting the datasets into training, testing and validation sets with updated features.\n",
    "Xtrain, Xtest, ytrain, ytest = train_test_split(X, y, test_size=0.2, shuffle=False)\n",
    "Xtest, Xval, ytest, yval = train_test_split(Xtest, ytest, test_size=0.5, shuffle=False)"
   ]
  },
  {
   "cell_type": "code",
   "execution_count": 47,
   "id": "c669ca81",
   "metadata": {
    "id": "c669ca81"
   },
   "outputs": [],
   "source": [
    "# perform normalization to scale features\n",
    "scaler = MinMaxScaler()\n",
    "scaledtrain = scaler.fit_transform(Xtrain)\n",
    "scaledtest = scaler.transform(Xtest)\n",
    "scaledval = scaler.transform(Xval)"
   ]
  },
  {
   "cell_type": "code",
   "execution_count": 48,
   "id": "c303f90d",
   "metadata": {
    "id": "c303f90d"
   },
   "outputs": [],
   "source": [
    "from sklearn.neighbors import KNeighborsClassifier\n",
    "from sklearn.linear_model import LogisticRegression\n",
    "from sklearn.svm import SVC"
   ]
  },
  {
   "cell_type": "code",
   "execution_count": 50,
   "id": "38956f1d",
   "metadata": {
    "id": "38956f1d"
   },
   "outputs": [],
   "source": [
    "#Base Models (Support Vector Machine, K Nearest Neighbor, Logistic Regression, Random Forest) before tuning hyperparameters\n",
    "SVM = SVC(class_weight='balanced', probability=True, random_state=42)\n",
    "KNN = KNeighborsClassifier()\n",
    "LR = LogisticRegression(solver='lbfgs',max_iter=1000,class_weight='balanced', random_state=42, n_jobs=-1)\n",
    "forest = RandomForestClassifier(n_jobs=-1,\n",
    "                                class_weight='balanced',\n",
    "                                random_state=42,\n",
    "                                max_depth=5\n",
    "                                )"
   ]
  },
  {
   "cell_type": "code",
   "execution_count": 51,
   "id": "f45fbab3",
   "metadata": {
    "colab": {
     "base_uri": "https://localhost:8080/",
     "height": 92
    },
    "id": "f45fbab3",
    "outputId": "842f8db0-8d2f-4c3c-c4cd-f83fad9cc5ce"
   },
   "outputs": [
    {
     "data": {
      "text/html": [
       "<style>#sk-container-id-3 {color: black;background-color: white;}#sk-container-id-3 pre{padding: 0;}#sk-container-id-3 div.sk-toggleable {background-color: white;}#sk-container-id-3 label.sk-toggleable__label {cursor: pointer;display: block;width: 100%;margin-bottom: 0;padding: 0.3em;box-sizing: border-box;text-align: center;}#sk-container-id-3 label.sk-toggleable__label-arrow:before {content: \"▸\";float: left;margin-right: 0.25em;color: #696969;}#sk-container-id-3 label.sk-toggleable__label-arrow:hover:before {color: black;}#sk-container-id-3 div.sk-estimator:hover label.sk-toggleable__label-arrow:before {color: black;}#sk-container-id-3 div.sk-toggleable__content {max-height: 0;max-width: 0;overflow: hidden;text-align: left;background-color: #f0f8ff;}#sk-container-id-3 div.sk-toggleable__content pre {margin: 0.2em;color: black;border-radius: 0.25em;background-color: #f0f8ff;}#sk-container-id-3 input.sk-toggleable__control:checked~div.sk-toggleable__content {max-height: 200px;max-width: 100%;overflow: auto;}#sk-container-id-3 input.sk-toggleable__control:checked~label.sk-toggleable__label-arrow:before {content: \"▾\";}#sk-container-id-3 div.sk-estimator input.sk-toggleable__control:checked~label.sk-toggleable__label {background-color: #d4ebff;}#sk-container-id-3 div.sk-label input.sk-toggleable__control:checked~label.sk-toggleable__label {background-color: #d4ebff;}#sk-container-id-3 input.sk-hidden--visually {border: 0;clip: rect(1px 1px 1px 1px);clip: rect(1px, 1px, 1px, 1px);height: 1px;margin: -1px;overflow: hidden;padding: 0;position: absolute;width: 1px;}#sk-container-id-3 div.sk-estimator {font-family: monospace;background-color: #f0f8ff;border: 1px dotted black;border-radius: 0.25em;box-sizing: border-box;margin-bottom: 0.5em;}#sk-container-id-3 div.sk-estimator:hover {background-color: #d4ebff;}#sk-container-id-3 div.sk-parallel-item::after {content: \"\";width: 100%;border-bottom: 1px solid gray;flex-grow: 1;}#sk-container-id-3 div.sk-label:hover label.sk-toggleable__label {background-color: #d4ebff;}#sk-container-id-3 div.sk-serial::before {content: \"\";position: absolute;border-left: 1px solid gray;box-sizing: border-box;top: 0;bottom: 0;left: 50%;z-index: 0;}#sk-container-id-3 div.sk-serial {display: flex;flex-direction: column;align-items: center;background-color: white;padding-right: 0.2em;padding-left: 0.2em;position: relative;}#sk-container-id-3 div.sk-item {position: relative;z-index: 1;}#sk-container-id-3 div.sk-parallel {display: flex;align-items: stretch;justify-content: center;background-color: white;position: relative;}#sk-container-id-3 div.sk-item::before, #sk-container-id-3 div.sk-parallel-item::before {content: \"\";position: absolute;border-left: 1px solid gray;box-sizing: border-box;top: 0;bottom: 0;left: 50%;z-index: -1;}#sk-container-id-3 div.sk-parallel-item {display: flex;flex-direction: column;z-index: 1;position: relative;background-color: white;}#sk-container-id-3 div.sk-parallel-item:first-child::after {align-self: flex-end;width: 50%;}#sk-container-id-3 div.sk-parallel-item:last-child::after {align-self: flex-start;width: 50%;}#sk-container-id-3 div.sk-parallel-item:only-child::after {width: 0;}#sk-container-id-3 div.sk-dashed-wrapped {border: 1px dashed gray;margin: 0 0.4em 0.5em 0.4em;box-sizing: border-box;padding-bottom: 0.4em;background-color: white;}#sk-container-id-3 div.sk-label label {font-family: monospace;font-weight: bold;display: inline-block;line-height: 1.2em;}#sk-container-id-3 div.sk-label-container {text-align: center;}#sk-container-id-3 div.sk-container {/* jupyter's `normalize.less` sets `[hidden] { display: none; }` but bootstrap.min.css set `[hidden] { display: none !important; }` so we also need the `!important` here to be able to override the default hidden behavior on the sphinx rendered scikit-learn.org. See: https://github.com/scikit-learn/scikit-learn/issues/21755 */display: inline-block !important;position: relative;}#sk-container-id-3 div.sk-text-repr-fallback {display: none;}</style><div id=\"sk-container-id-3\" class=\"sk-top-container\"><div class=\"sk-text-repr-fallback\"><pre>RandomForestClassifier(class_weight=&#x27;balanced&#x27;, max_depth=5, n_jobs=-1,\n",
       "                       random_state=42)</pre><b>In a Jupyter environment, please rerun this cell to show the HTML representation or trust the notebook. <br />On GitHub, the HTML representation is unable to render, please try loading this page with nbviewer.org.</b></div><div class=\"sk-container\" hidden><div class=\"sk-item\"><div class=\"sk-estimator sk-toggleable\"><input class=\"sk-toggleable__control sk-hidden--visually\" id=\"sk-estimator-id-3\" type=\"checkbox\" checked><label for=\"sk-estimator-id-3\" class=\"sk-toggleable__label sk-toggleable__label-arrow\">RandomForestClassifier</label><div class=\"sk-toggleable__content\"><pre>RandomForestClassifier(class_weight=&#x27;balanced&#x27;, max_depth=5, n_jobs=-1,\n",
       "                       random_state=42)</pre></div></div></div></div></div>"
      ],
      "text/plain": [
       "RandomForestClassifier(class_weight='balanced', max_depth=5, n_jobs=-1,\n",
       "                       random_state=42)"
      ]
     },
     "execution_count": 51,
     "metadata": {},
     "output_type": "execute_result"
    }
   ],
   "source": [
    "#Fit the base models using the training set\n",
    "\n",
    "SVM.fit(Xtrain, ytrain)\n",
    "KNN.fit(Xtrain, ytrain)\n",
    "LR.fit(Xtrain, ytrain)\n",
    "forest.fit(Xtrain, ytrain)"
   ]
  },
  {
   "cell_type": "code",
   "execution_count": 52,
   "id": "wqDzrS7TZXWb",
   "metadata": {
    "id": "wqDzrS7TZXWb"
   },
   "outputs": [],
   "source": [
    "from sklearn.metrics import (\n",
    "    accuracy_score, precision_score, recall_score, f1_score,\n",
    "    roc_auc_score, confusion_matrix, classification_report\n",
    ")\n",
    "\n",
    "def evaluate_model(model, X_test, y_test):\n",
    "    # Making predictions\n",
    "    print(model)\n",
    "    y_pred = model.predict(X_test)\n",
    "\n",
    "    # Calculating metrics\n",
    "    accuracy = accuracy_score(y_test, y_pred)\n",
    "    precision = precision_score(y_test, y_pred)\n",
    "    recall = recall_score(y_test, y_pred)\n",
    "    f1 = f1_score(y_test, y_pred)\n",
    "    roc_auc = roc_auc_score(y_test, model.predict_proba(X_test)[:, 1])\n",
    "    conf_matrix = confusion_matrix(y_test, y_pred)\n",
    "\n",
    "    # Printing metrics\n",
    "    print(\"Accuracy:\", accuracy)\n",
    "    print(\"Precision:\", precision)\n",
    "    print(\"Recall:\", recall)\n",
    "    print(\"F1 Score:\", f1)\n",
    "    print(\"ROC AUC Score:\", roc_auc)\n",
    "    print(\"\\nConfusion Matrix:\\n\", conf_matrix)\n",
    "    print(\"\\nClassification Report:\\n\", classification_report(y_test, y_pred))"
   ]
  },
  {
   "cell_type": "code",
   "execution_count": 53,
   "id": "w79Jhfw98NBH",
   "metadata": {
    "colab": {
     "base_uri": "https://localhost:8080/"
    },
    "id": "w79Jhfw98NBH",
    "outputId": "f8c7f8f5-fb87-46f4-ce7d-8b0924aabd6a"
   },
   "outputs": [
    {
     "name": "stdout",
     "output_type": "stream",
     "text": [
      "SVC(class_weight='balanced', probability=True, random_state=42)\n",
      "Accuracy: 0.6041666666666666\n",
      "Precision: 0.6041666666666666\n",
      "Recall: 1.0\n",
      "F1 Score: 0.7532467532467533\n",
      "ROC AUC Score: 0.547803992740472\n",
      "\n",
      "Confusion Matrix:\n",
      " [[  0  95]\n",
      " [  0 145]]\n",
      "\n",
      "Classification Report:\n",
      "               precision    recall  f1-score   support\n",
      "\n",
      "           0       0.00      0.00      0.00        95\n",
      "           1       0.60      1.00      0.75       145\n",
      "\n",
      "    accuracy                           0.60       240\n",
      "   macro avg       0.30      0.50      0.38       240\n",
      "weighted avg       0.37      0.60      0.46       240\n",
      "\n",
      "KNeighborsClassifier()\n"
     ]
    },
    {
     "name": "stderr",
     "output_type": "stream",
     "text": [
      "/opt/anaconda3/lib/python3.9/site-packages/sklearn/metrics/_classification.py:1344: UndefinedMetricWarning: Precision and F-score are ill-defined and being set to 0.0 in labels with no predicted samples. Use `zero_division` parameter to control this behavior.\n",
      "  _warn_prf(average, modifier, msg_start, len(result))\n",
      "/opt/anaconda3/lib/python3.9/site-packages/sklearn/metrics/_classification.py:1344: UndefinedMetricWarning: Precision and F-score are ill-defined and being set to 0.0 in labels with no predicted samples. Use `zero_division` parameter to control this behavior.\n",
      "  _warn_prf(average, modifier, msg_start, len(result))\n",
      "/opt/anaconda3/lib/python3.9/site-packages/sklearn/metrics/_classification.py:1344: UndefinedMetricWarning: Precision and F-score are ill-defined and being set to 0.0 in labels with no predicted samples. Use `zero_division` parameter to control this behavior.\n",
      "  _warn_prf(average, modifier, msg_start, len(result))\n"
     ]
    },
    {
     "name": "stdout",
     "output_type": "stream",
     "text": [
      "Accuracy: 0.6041666666666666\n",
      "Precision: 0.6041666666666666\n",
      "Recall: 1.0\n",
      "F1 Score: 0.7532467532467533\n",
      "ROC AUC Score: 0.5\n",
      "\n",
      "Confusion Matrix:\n",
      " [[  0  95]\n",
      " [  0 145]]\n",
      "\n",
      "Classification Report:\n",
      "               precision    recall  f1-score   support\n",
      "\n",
      "           0       0.00      0.00      0.00        95\n",
      "           1       0.60      1.00      0.75       145\n",
      "\n",
      "    accuracy                           0.60       240\n",
      "   macro avg       0.30      0.50      0.38       240\n",
      "weighted avg       0.37      0.60      0.46       240\n",
      "\n",
      "LogisticRegression(class_weight='balanced', max_iter=1000, n_jobs=-1,\n",
      "                   random_state=42)\n",
      "Accuracy: 0.6041666666666666\n",
      "Precision: 0.6041666666666666\n",
      "Recall: 1.0\n",
      "F1 Score: 0.7532467532467533\n",
      "ROC AUC Score: 0.624464609800363\n",
      "\n",
      "Confusion Matrix:\n",
      " [[  0  95]\n",
      " [  0 145]]\n",
      "\n",
      "Classification Report:\n",
      "               precision    recall  f1-score   support\n",
      "\n",
      "           0       0.00      0.00      0.00        95\n",
      "           1       0.60      1.00      0.75       145\n",
      "\n",
      "    accuracy                           0.60       240\n",
      "   macro avg       0.30      0.50      0.38       240\n",
      "weighted avg       0.37      0.60      0.46       240\n",
      "\n",
      "RandomForestClassifier(class_weight='balanced', max_depth=5, n_jobs=-1,\n",
      "                       random_state=42)\n",
      "Accuracy: 0.6625\n",
      "Precision: 0.6538461538461539\n",
      "Recall: 0.9379310344827586\n",
      "F1 Score: 0.7705382436260623\n",
      "ROC AUC Score: 0.8223593466424682\n",
      "\n",
      "Confusion Matrix:\n",
      " [[ 23  72]\n",
      " [  9 136]]\n",
      "\n",
      "Classification Report:\n",
      "               precision    recall  f1-score   support\n",
      "\n",
      "           0       0.72      0.24      0.36        95\n",
      "           1       0.65      0.94      0.77       145\n",
      "\n",
      "    accuracy                           0.66       240\n",
      "   macro avg       0.69      0.59      0.57       240\n",
      "weighted avg       0.68      0.66      0.61       240\n",
      "\n"
     ]
    },
    {
     "name": "stderr",
     "output_type": "stream",
     "text": [
      "/opt/anaconda3/lib/python3.9/site-packages/sklearn/metrics/_classification.py:1344: UndefinedMetricWarning: Precision and F-score are ill-defined and being set to 0.0 in labels with no predicted samples. Use `zero_division` parameter to control this behavior.\n",
      "  _warn_prf(average, modifier, msg_start, len(result))\n",
      "/opt/anaconda3/lib/python3.9/site-packages/sklearn/metrics/_classification.py:1344: UndefinedMetricWarning: Precision and F-score are ill-defined and being set to 0.0 in labels with no predicted samples. Use `zero_division` parameter to control this behavior.\n",
      "  _warn_prf(average, modifier, msg_start, len(result))\n",
      "/opt/anaconda3/lib/python3.9/site-packages/sklearn/metrics/_classification.py:1344: UndefinedMetricWarning: Precision and F-score are ill-defined and being set to 0.0 in labels with no predicted samples. Use `zero_division` parameter to control this behavior.\n",
      "  _warn_prf(average, modifier, msg_start, len(result))\n",
      "/opt/anaconda3/lib/python3.9/site-packages/sklearn/metrics/_classification.py:1344: UndefinedMetricWarning: Precision and F-score are ill-defined and being set to 0.0 in labels with no predicted samples. Use `zero_division` parameter to control this behavior.\n",
      "  _warn_prf(average, modifier, msg_start, len(result))\n",
      "/opt/anaconda3/lib/python3.9/site-packages/sklearn/metrics/_classification.py:1344: UndefinedMetricWarning: Precision and F-score are ill-defined and being set to 0.0 in labels with no predicted samples. Use `zero_division` parameter to control this behavior.\n",
      "  _warn_prf(average, modifier, msg_start, len(result))\n",
      "/opt/anaconda3/lib/python3.9/site-packages/sklearn/metrics/_classification.py:1344: UndefinedMetricWarning: Precision and F-score are ill-defined and being set to 0.0 in labels with no predicted samples. Use `zero_division` parameter to control this behavior.\n",
      "  _warn_prf(average, modifier, msg_start, len(result))\n"
     ]
    }
   ],
   "source": [
    "evaluate_model(SVM, Xval, yval)\n",
    "evaluate_model(KNN, Xval, yval)\n",
    "evaluate_model(LR, Xval, yval)\n",
    "evaluate_model(forest, Xval, yval)"
   ]
  },
  {
   "cell_type": "code",
   "execution_count": 54,
   "id": "d7773ec8",
   "metadata": {
    "id": "d7773ec8"
   },
   "outputs": [],
   "source": [
    "svm_probs = SVM.predict_proba(Xval)#[:, 1]\n",
    "knn_probs = KNN.predict_proba(Xval)#[:, 1]\n",
    "lr_probs = LR.predict_proba(Xval)#[:, 1]\n",
    "forest_probs = forest.predict_proba(Xval)#[:, 1]\n",
    "\n",
    "#Make predictions on validation set\n",
    "#SVM_Pred = (svm_probs > np.bincount(ytrain)[0] / np.bincount(ytrain)[1]).astype(int)\n",
    "#KNN_Pred = (knn_probs > np.bincount(ytrain)[0] / np.bincount(ytrain)[1]).astype(int)\n",
    "#LR_Pred = (lr_probs > np.bincount(ytrain)[0] / np.bincount(ytrain)[1]).astype(int)"
   ]
  },
  {
   "cell_type": "code",
   "execution_count": 55,
   "id": "b90f77ad",
   "metadata": {
    "id": "b90f77ad"
   },
   "outputs": [],
   "source": [
    "from xgboost import XGBClassifier"
   ]
  },
  {
   "cell_type": "code",
   "execution_count": 56,
   "id": "6e20d08c",
   "metadata": {
    "id": "6e20d08c"
   },
   "outputs": [],
   "source": [
    "#Combine the predictions into a matrix\n",
    "Xval_meta = np.column_stack((svm_probs, knn_probs, lr_probs, forest_probs))"
   ]
  },
  {
   "cell_type": "code",
   "execution_count": 57,
   "id": "e407171c",
   "metadata": {
    "colab": {
     "base_uri": "https://localhost:8080/",
     "height": 248
    },
    "id": "e407171c",
    "outputId": "1547a0bb-458e-40b9-80b8-44eaec6917aa"
   },
   "outputs": [
    {
     "data": {
      "text/html": [
       "<style>#sk-container-id-4 {color: black;background-color: white;}#sk-container-id-4 pre{padding: 0;}#sk-container-id-4 div.sk-toggleable {background-color: white;}#sk-container-id-4 label.sk-toggleable__label {cursor: pointer;display: block;width: 100%;margin-bottom: 0;padding: 0.3em;box-sizing: border-box;text-align: center;}#sk-container-id-4 label.sk-toggleable__label-arrow:before {content: \"▸\";float: left;margin-right: 0.25em;color: #696969;}#sk-container-id-4 label.sk-toggleable__label-arrow:hover:before {color: black;}#sk-container-id-4 div.sk-estimator:hover label.sk-toggleable__label-arrow:before {color: black;}#sk-container-id-4 div.sk-toggleable__content {max-height: 0;max-width: 0;overflow: hidden;text-align: left;background-color: #f0f8ff;}#sk-container-id-4 div.sk-toggleable__content pre {margin: 0.2em;color: black;border-radius: 0.25em;background-color: #f0f8ff;}#sk-container-id-4 input.sk-toggleable__control:checked~div.sk-toggleable__content {max-height: 200px;max-width: 100%;overflow: auto;}#sk-container-id-4 input.sk-toggleable__control:checked~label.sk-toggleable__label-arrow:before {content: \"▾\";}#sk-container-id-4 div.sk-estimator input.sk-toggleable__control:checked~label.sk-toggleable__label {background-color: #d4ebff;}#sk-container-id-4 div.sk-label input.sk-toggleable__control:checked~label.sk-toggleable__label {background-color: #d4ebff;}#sk-container-id-4 input.sk-hidden--visually {border: 0;clip: rect(1px 1px 1px 1px);clip: rect(1px, 1px, 1px, 1px);height: 1px;margin: -1px;overflow: hidden;padding: 0;position: absolute;width: 1px;}#sk-container-id-4 div.sk-estimator {font-family: monospace;background-color: #f0f8ff;border: 1px dotted black;border-radius: 0.25em;box-sizing: border-box;margin-bottom: 0.5em;}#sk-container-id-4 div.sk-estimator:hover {background-color: #d4ebff;}#sk-container-id-4 div.sk-parallel-item::after {content: \"\";width: 100%;border-bottom: 1px solid gray;flex-grow: 1;}#sk-container-id-4 div.sk-label:hover label.sk-toggleable__label {background-color: #d4ebff;}#sk-container-id-4 div.sk-serial::before {content: \"\";position: absolute;border-left: 1px solid gray;box-sizing: border-box;top: 0;bottom: 0;left: 50%;z-index: 0;}#sk-container-id-4 div.sk-serial {display: flex;flex-direction: column;align-items: center;background-color: white;padding-right: 0.2em;padding-left: 0.2em;position: relative;}#sk-container-id-4 div.sk-item {position: relative;z-index: 1;}#sk-container-id-4 div.sk-parallel {display: flex;align-items: stretch;justify-content: center;background-color: white;position: relative;}#sk-container-id-4 div.sk-item::before, #sk-container-id-4 div.sk-parallel-item::before {content: \"\";position: absolute;border-left: 1px solid gray;box-sizing: border-box;top: 0;bottom: 0;left: 50%;z-index: -1;}#sk-container-id-4 div.sk-parallel-item {display: flex;flex-direction: column;z-index: 1;position: relative;background-color: white;}#sk-container-id-4 div.sk-parallel-item:first-child::after {align-self: flex-end;width: 50%;}#sk-container-id-4 div.sk-parallel-item:last-child::after {align-self: flex-start;width: 50%;}#sk-container-id-4 div.sk-parallel-item:only-child::after {width: 0;}#sk-container-id-4 div.sk-dashed-wrapped {border: 1px dashed gray;margin: 0 0.4em 0.5em 0.4em;box-sizing: border-box;padding-bottom: 0.4em;background-color: white;}#sk-container-id-4 div.sk-label label {font-family: monospace;font-weight: bold;display: inline-block;line-height: 1.2em;}#sk-container-id-4 div.sk-label-container {text-align: center;}#sk-container-id-4 div.sk-container {/* jupyter's `normalize.less` sets `[hidden] { display: none; }` but bootstrap.min.css set `[hidden] { display: none !important; }` so we also need the `!important` here to be able to override the default hidden behavior on the sphinx rendered scikit-learn.org. See: https://github.com/scikit-learn/scikit-learn/issues/21755 */display: inline-block !important;position: relative;}#sk-container-id-4 div.sk-text-repr-fallback {display: none;}</style><div id=\"sk-container-id-4\" class=\"sk-top-container\"><div class=\"sk-text-repr-fallback\"><pre>XGBClassifier(base_score=None, booster=None, callbacks=None,\n",
       "              colsample_bylevel=None, colsample_bynode=None,\n",
       "              colsample_bytree=None, early_stopping_rounds=None,\n",
       "              enable_categorical=False, eval_metric=None, feature_types=None,\n",
       "              gamma=None, gpu_id=None, grow_policy=None, importance_type=None,\n",
       "              interaction_constraints=None, learning_rate=None, max_bin=None,\n",
       "              max_cat_threshold=None, max_cat_to_onehot=None,\n",
       "              max_delta_step=None, max_depth=None, max_leaves=None,\n",
       "              min_child_weight=None, missing=nan, monotone_constraints=None,\n",
       "              n_estimators=100, n_jobs=None, num_parallel_tree=None,\n",
       "              predictor=None, random_state=None, ...)</pre><b>In a Jupyter environment, please rerun this cell to show the HTML representation or trust the notebook. <br />On GitHub, the HTML representation is unable to render, please try loading this page with nbviewer.org.</b></div><div class=\"sk-container\" hidden><div class=\"sk-item\"><div class=\"sk-estimator sk-toggleable\"><input class=\"sk-toggleable__control sk-hidden--visually\" id=\"sk-estimator-id-4\" type=\"checkbox\" checked><label for=\"sk-estimator-id-4\" class=\"sk-toggleable__label sk-toggleable__label-arrow\">XGBClassifier</label><div class=\"sk-toggleable__content\"><pre>XGBClassifier(base_score=None, booster=None, callbacks=None,\n",
       "              colsample_bylevel=None, colsample_bynode=None,\n",
       "              colsample_bytree=None, early_stopping_rounds=None,\n",
       "              enable_categorical=False, eval_metric=None, feature_types=None,\n",
       "              gamma=None, gpu_id=None, grow_policy=None, importance_type=None,\n",
       "              interaction_constraints=None, learning_rate=None, max_bin=None,\n",
       "              max_cat_threshold=None, max_cat_to_onehot=None,\n",
       "              max_delta_step=None, max_depth=None, max_leaves=None,\n",
       "              min_child_weight=None, missing=nan, monotone_constraints=None,\n",
       "              n_estimators=100, n_jobs=None, num_parallel_tree=None,\n",
       "              predictor=None, random_state=None, ...)</pre></div></div></div></div></div>"
      ],
      "text/plain": [
       "XGBClassifier(base_score=None, booster=None, callbacks=None,\n",
       "              colsample_bylevel=None, colsample_bynode=None,\n",
       "              colsample_bytree=None, early_stopping_rounds=None,\n",
       "              enable_categorical=False, eval_metric=None, feature_types=None,\n",
       "              gamma=None, gpu_id=None, grow_policy=None, importance_type=None,\n",
       "              interaction_constraints=None, learning_rate=None, max_bin=None,\n",
       "              max_cat_threshold=None, max_cat_to_onehot=None,\n",
       "              max_delta_step=None, max_depth=None, max_leaves=None,\n",
       "              min_child_weight=None, missing=nan, monotone_constraints=None,\n",
       "              n_estimators=100, n_jobs=None, num_parallel_tree=None,\n",
       "              predictor=None, random_state=None, ...)"
      ]
     },
     "execution_count": 57,
     "metadata": {},
     "output_type": "execute_result"
    }
   ],
   "source": [
    "# Train the meta-model on the combined feature matrix and the target values\n",
    "meta_model = XGBClassifier()\n",
    "meta_model.fit(Xval_meta, yval)"
   ]
  },
  {
   "cell_type": "code",
   "execution_count": 58,
   "id": "2Od4PHCz0nPL",
   "metadata": {
    "colab": {
     "base_uri": "https://localhost:8080/"
    },
    "id": "2Od4PHCz0nPL",
    "outputId": "1e701a01-31b1-463d-8dff-4d63b31161c3"
   },
   "outputs": [
    {
     "data": {
      "text/plain": [
       "array([0, 0, 0, 0, 0, 0, 0, 0, 0, 0, 0, 0, 0, 0, 0, 1, 1, 1, 1, 1, 1, 1,\n",
       "       1, 1, 1, 1, 1, 1, 1, 1, 1, 1, 1, 1, 1, 1, 1, 1, 1, 1, 1, 1, 0, 0,\n",
       "       0, 0, 0, 0, 0, 0, 0, 0, 0, 0, 1, 1, 0, 0, 0, 1, 1, 1, 1, 1, 1, 1,\n",
       "       1, 1, 1, 1, 1, 1, 1, 1, 1, 1, 1, 1, 1, 1, 1, 1, 0, 0, 0, 0, 0, 0,\n",
       "       0, 0, 0, 1, 1, 0, 0, 0, 1, 1, 1, 1, 1, 1, 1, 1, 1, 1, 1, 1, 1, 1,\n",
       "       1, 1, 1, 1, 1, 1, 1, 1, 1, 1, 1, 1, 1, 1, 1, 1, 1, 1, 1, 1, 1, 1,\n",
       "       0, 0, 0, 1, 1, 1, 0, 1, 1, 1, 1, 1, 1, 1, 1, 1, 1, 1, 1, 1, 0, 1,\n",
       "       0, 0, 0, 0, 0, 0, 0, 0, 0, 0, 0, 0, 0, 0, 0, 0, 0, 0, 0, 0, 0, 1,\n",
       "       1, 1, 1, 1, 1, 1, 1, 1, 1, 0, 0, 0, 0, 0, 0, 0, 0, 0, 0, 0, 0, 0,\n",
       "       0, 0, 0, 0, 1, 1, 1, 1, 1, 1, 1, 1, 1, 0, 0, 0, 0, 0, 0, 0, 0, 0,\n",
       "       0, 1, 1, 1, 1, 1, 1, 1, 1, 1, 1, 1, 1, 1, 1, 1, 1, 1, 1, 1])"
      ]
     },
     "execution_count": 58,
     "metadata": {},
     "output_type": "execute_result"
    }
   ],
   "source": [
    "probabilities = meta_model.predict_proba(Xval_meta)[:, 1]  # Get probabilities for the positive class\n",
    "# Get probability estimates for the positive class\n",
    "probabilities = meta_model.predict_proba(Xval_meta)[:, 1]\n",
    "\n",
    "# Apply the threshold of 0.35 to determine class predictions\n",
    "predictions = (probabilities >= 0.5).astype(int)\n",
    "\n",
    "predictions"
   ]
  },
  {
   "cell_type": "code",
   "execution_count": 59,
   "id": "-x9G6rAi1hLR",
   "metadata": {
    "colab": {
     "base_uri": "https://localhost:8080/"
    },
    "id": "-x9G6rAi1hLR",
    "outputId": "4e6348c2-b46e-44b6-9af0-67f5ea9afa74"
   },
   "outputs": [
    {
     "data": {
      "text/plain": [
       "1.0"
      ]
     },
     "execution_count": 59,
     "metadata": {},
     "output_type": "execute_result"
    }
   ],
   "source": [
    "balanced_accuracy_score(predictions, yval)"
   ]
  },
  {
   "cell_type": "code",
   "execution_count": 60,
   "id": "8bca6d60",
   "metadata": {
    "id": "8bca6d60"
   },
   "outputs": [],
   "source": [
    "import matplotlib.pyplot as plt\n",
    "import seaborn as sns"
   ]
  },
  {
   "cell_type": "code",
   "execution_count": 61,
   "id": "ac8a1132",
   "metadata": {
    "id": "ac8a1132"
   },
   "outputs": [],
   "source": [
    "#Make predictions on test set and combine for meta model\n",
    "\n",
    "SVM_Pred2 = SVM.predict_proba(Xtest)#[:, 1]\n",
    "KNN_Pred2 = KNN.predict_proba(Xtest)#[:, 1]\n",
    "LR_Pred2 = LR.predict_proba(Xtest)#[:, 1]\n",
    "forest_Pred2 = forest.predict_proba(Xtest)#[:, 1]\n",
    "\n",
    "Xtest_meta = np.column_stack((SVM_Pred2, KNN_Pred2, LR_Pred2, forest_Pred2))"
   ]
  },
  {
   "cell_type": "code",
   "execution_count": 62,
   "id": "6fbc7440",
   "metadata": {
    "id": "6fbc7440"
   },
   "outputs": [],
   "source": [
    "y_pred = meta_model.predict(Xtest_meta)"
   ]
  },
  {
   "cell_type": "code",
   "execution_count": 63,
   "id": "98d7554a",
   "metadata": {
    "colab": {
     "base_uri": "https://localhost:8080/"
    },
    "id": "98d7554a",
    "outputId": "f165332e-2a28-45ca-f663-2386305e748e"
   },
   "outputs": [
    {
     "name": "stdout",
     "output_type": "stream",
     "text": [
      "Train Accuracy: 1.0, Test Accuracy: 0.6674800354924579\n"
     ]
    }
   ],
   "source": [
    "acc_train = balanced_accuracy_score(yval, meta_model.predict(Xval_meta))\n",
    "acc_test = balanced_accuracy_score(ytest, y_pred)\n",
    "\n",
    "print(f'Train Accuracy: {acc_train}, Test Accuracy: {acc_test}')"
   ]
  },
  {
   "cell_type": "code",
   "execution_count": 64,
   "id": "6002dc91",
   "metadata": {
    "colab": {
     "base_uri": "https://localhost:8080/",
     "height": 472
    },
    "id": "6002dc91",
    "outputId": "f74bc6ba-5f2a-4965-e0ca-f5e0453ce265"
   },
   "outputs": [
    {
     "data": {
      "image/png": "[encoded data removed]",
      "text/plain": [
       "<Figure size 640x480 with 2 Axes>"
      ]
     },
     "metadata": {},
     "output_type": "display_data"
    }
   ],
   "source": [
    "disp = ConfusionMatrixDisplay.from_estimator(\n",
    "        meta_model,\n",
    "        Xtest_meta,\n",
    "        ytest,\n",
    "        display_labels=meta_model.classes_,\n",
    "        cmap=plt.cm.Blues)\n",
    "disp.ax_.set_title('Confusion matrix')\n",
    "plt.show()"
   ]
  },
  {
   "cell_type": "code",
   "execution_count": 65,
   "id": "52e7cf16",
   "metadata": {
    "colab": {
     "base_uri": "https://localhost:8080/"
    },
    "id": "52e7cf16",
    "outputId": "1a7c81fe-614b-49f0-8c03-b471b38a38eb"
   },
   "outputs": [
    {
     "name": "stdout",
     "output_type": "stream",
     "text": [
      "              precision    recall  f1-score   support\n",
      "\n",
      "           0       0.81      0.53      0.64       147\n",
      "           1       0.52      0.80      0.63        92\n",
      "\n",
      "    accuracy                           0.64       239\n",
      "   macro avg       0.66      0.67      0.64       239\n",
      "weighted avg       0.70      0.64      0.64       239\n",
      "\n"
     ]
    }
   ],
   "source": [
    "print(classification_report(ytest, y_pred))"
   ]
  },
  {
   "cell_type": "code",
   "execution_count": 66,
   "id": "f46f04bf",
   "metadata": {
    "colab": {
     "base_uri": "https://localhost:8080/",
     "height": 472
    },
    "id": "f46f04bf",
    "outputId": "0567835e-244e-46fe-8630-a2f55992c440"
   },
   "outputs": [
    {
     "data": {
      "image/png": "[encoded data removed]",
      "text/plain": [
       "<Figure size 640x480 with 1 Axes>"
      ]
     },
     "metadata": {},
     "output_type": "display_data"
    }
   ],
   "source": [
    "disp_roc = RocCurveDisplay.from_estimator(\n",
    "        meta_model,\n",
    "        Xtest_meta,\n",
    "        ytest,\n",
    "        name='Meta Model')\n",
    "disp_roc.ax_.set_title('ROC Curve')\n",
    "plt.plot([0,1], [0,1], linestyle='--')\n",
    "plt.show()"
   ]
  },
  {
   "cell_type": "code",
   "execution_count": 67,
   "id": "9A-98f4ea8C3",
   "metadata": {
    "colab": {
     "base_uri": "https://localhost:8080/"
    },
    "id": "9A-98f4ea8C3",
    "outputId": "3a62c2fc-d99c-46dc-981a-c3a180a83403"
   },
   "outputs": [
    {
     "name": "stdout",
     "output_type": "stream",
     "text": [
      "XGBClassifier(base_score=None, booster=None, callbacks=None,\n",
      "              colsample_bylevel=None, colsample_bynode=None,\n",
      "              colsample_bytree=None, early_stopping_rounds=None,\n",
      "              enable_categorical=False, eval_metric=None, feature_types=None,\n",
      "              gamma=None, gpu_id=None, grow_policy=None, importance_type=None,\n",
      "              interaction_constraints=None, learning_rate=None, max_bin=None,\n",
      "              max_cat_threshold=None, max_cat_to_onehot=None,\n",
      "              max_delta_step=None, max_depth=None, max_leaves=None,\n",
      "              min_child_weight=None, missing=nan, monotone_constraints=None,\n",
      "              n_estimators=100, n_jobs=None, num_parallel_tree=None,\n",
      "              predictor=None, random_state=None, ...)\n",
      "Accuracy: 0.6359832635983264\n",
      "Precision: 0.5174825174825175\n",
      "Recall: 0.8043478260869565\n",
      "F1 Score: 0.6297872340425532\n",
      "ROC AUC Score: 0.6828970718722271\n",
      "\n",
      "Confusion Matrix:\n",
      " [[78 69]\n",
      " [18 74]]\n",
      "\n",
      "Classification Report:\n",
      "               precision    recall  f1-score   support\n",
      "\n",
      "           0       0.81      0.53      0.64       147\n",
      "           1       0.52      0.80      0.63        92\n",
      "\n",
      "    accuracy                           0.64       239\n",
      "   macro avg       0.66      0.67      0.64       239\n",
      "weighted avg       0.70      0.64      0.64       239\n",
      "\n"
     ]
    }
   ],
   "source": [
    "evaluate_model(meta_model, Xtest_meta, ytest)"
   ]
  },
  {
   "cell_type": "code",
   "execution_count": 68,
   "id": "31f8a83b",
   "metadata": {
    "id": "31f8a83b"
   },
   "outputs": [],
   "source": [
    "from sklearn.model_selection import GridSearchCV"
   ]
  },
  {
   "cell_type": "code",
   "execution_count": 69,
   "id": "cc3e6c0c",
   "metadata": {
    "colab": {
     "base_uri": "https://localhost:8080/"
    },
    "id": "cc3e6c0c",
    "outputId": "60757bc9-d043-4a59-ef4b-0a7a589e6a9e"
   },
   "outputs": [
    {
     "data": {
      "text/plain": [
       "{'C': 1.0,\n",
       " 'break_ties': False,\n",
       " 'cache_size': 200,\n",
       " 'class_weight': 'balanced',\n",
       " 'coef0': 0.0,\n",
       " 'decision_function_shape': 'ovr',\n",
       " 'degree': 3,\n",
       " 'gamma': 'scale',\n",
       " 'kernel': 'rbf',\n",
       " 'max_iter': -1,\n",
       " 'probability': True,\n",
       " 'random_state': 42,\n",
       " 'shrinking': True,\n",
       " 'tol': 0.001,\n",
       " 'verbose': False}"
      ]
     },
     "execution_count": 69,
     "metadata": {},
     "output_type": "execute_result"
    }
   ],
   "source": [
    "SVM.get_params()"
   ]
  },
  {
   "cell_type": "code",
   "execution_count": 70,
   "id": "630e8578",
   "metadata": {
    "colab": {
     "base_uri": "https://localhost:8080/",
     "height": 135
    },
    "id": "630e8578",
    "outputId": "b29777af-d6a5-4fb0-f73d-6fc43d9c4b51"
   },
   "outputs": [
    {
     "name": "stdout",
     "output_type": "stream",
     "text": [
      "Fitting 5 folds for each of 10 candidates, totalling 50 fits\n"
     ]
    },
    {
     "data": {
      "text/html": [
       "<style>#sk-container-id-5 {color: black;background-color: white;}#sk-container-id-5 pre{padding: 0;}#sk-container-id-5 div.sk-toggleable {background-color: white;}#sk-container-id-5 label.sk-toggleable__label {cursor: pointer;display: block;width: 100%;margin-bottom: 0;padding: 0.3em;box-sizing: border-box;text-align: center;}#sk-container-id-5 label.sk-toggleable__label-arrow:before {content: \"▸\";float: left;margin-right: 0.25em;color: #696969;}#sk-container-id-5 label.sk-toggleable__label-arrow:hover:before {color: black;}#sk-container-id-5 div.sk-estimator:hover label.sk-toggleable__label-arrow:before {color: black;}#sk-container-id-5 div.sk-toggleable__content {max-height: 0;max-width: 0;overflow: hidden;text-align: left;background-color: #f0f8ff;}#sk-container-id-5 div.sk-toggleable__content pre {margin: 0.2em;color: black;border-radius: 0.25em;background-color: #f0f8ff;}#sk-container-id-5 input.sk-toggleable__control:checked~div.sk-toggleable__content {max-height: 200px;max-width: 100%;overflow: auto;}#sk-container-id-5 input.sk-toggleable__control:checked~label.sk-toggleable__label-arrow:before {content: \"▾\";}#sk-container-id-5 div.sk-estimator input.sk-toggleable__control:checked~label.sk-toggleable__label {background-color: #d4ebff;}#sk-container-id-5 div.sk-label input.sk-toggleable__control:checked~label.sk-toggleable__label {background-color: #d4ebff;}#sk-container-id-5 input.sk-hidden--visually {border: 0;clip: rect(1px 1px 1px 1px);clip: rect(1px, 1px, 1px, 1px);height: 1px;margin: -1px;overflow: hidden;padding: 0;position: absolute;width: 1px;}#sk-container-id-5 div.sk-estimator {font-family: monospace;background-color: #f0f8ff;border: 1px dotted black;border-radius: 0.25em;box-sizing: border-box;margin-bottom: 0.5em;}#sk-container-id-5 div.sk-estimator:hover {background-color: #d4ebff;}#sk-container-id-5 div.sk-parallel-item::after {content: \"\";width: 100%;border-bottom: 1px solid gray;flex-grow: 1;}#sk-container-id-5 div.sk-label:hover label.sk-toggleable__label {background-color: #d4ebff;}#sk-container-id-5 div.sk-serial::before {content: \"\";position: absolute;border-left: 1px solid gray;box-sizing: border-box;top: 0;bottom: 0;left: 50%;z-index: 0;}#sk-container-id-5 div.sk-serial {display: flex;flex-direction: column;align-items: center;background-color: white;padding-right: 0.2em;padding-left: 0.2em;position: relative;}#sk-container-id-5 div.sk-item {position: relative;z-index: 1;}#sk-container-id-5 div.sk-parallel {display: flex;align-items: stretch;justify-content: center;background-color: white;position: relative;}#sk-container-id-5 div.sk-item::before, #sk-container-id-5 div.sk-parallel-item::before {content: \"\";position: absolute;border-left: 1px solid gray;box-sizing: border-box;top: 0;bottom: 0;left: 50%;z-index: -1;}#sk-container-id-5 div.sk-parallel-item {display: flex;flex-direction: column;z-index: 1;position: relative;background-color: white;}#sk-container-id-5 div.sk-parallel-item:first-child::after {align-self: flex-end;width: 50%;}#sk-container-id-5 div.sk-parallel-item:last-child::after {align-self: flex-start;width: 50%;}#sk-container-id-5 div.sk-parallel-item:only-child::after {width: 0;}#sk-container-id-5 div.sk-dashed-wrapped {border: 1px dashed gray;margin: 0 0.4em 0.5em 0.4em;box-sizing: border-box;padding-bottom: 0.4em;background-color: white;}#sk-container-id-5 div.sk-label label {font-family: monospace;font-weight: bold;display: inline-block;line-height: 1.2em;}#sk-container-id-5 div.sk-label-container {text-align: center;}#sk-container-id-5 div.sk-container {/* jupyter's `normalize.less` sets `[hidden] { display: none; }` but bootstrap.min.css set `[hidden] { display: none !important; }` so we also need the `!important` here to be able to override the default hidden behavior on the sphinx rendered scikit-learn.org. See: https://github.com/scikit-learn/scikit-learn/issues/21755 */display: inline-block !important;position: relative;}#sk-container-id-5 div.sk-text-repr-fallback {display: none;}</style><div id=\"sk-container-id-5\" class=\"sk-top-container\"><div class=\"sk-text-repr-fallback\"><pre>RandomizedSearchCV(estimator=SVC(class_weight=&#x27;balanced&#x27;, probability=True,\n",
       "                                 random_state=42),\n",
       "                   n_jobs=-1,\n",
       "                   param_distributions={&#x27;C&#x27;: [0.1, 1, 10, 100, 1000],\n",
       "                                        &#x27;gamma&#x27;: [1, 0.1, 0.01, 0.001, 0.0001],\n",
       "                                        &#x27;kernel&#x27;: [&#x27;rbf&#x27;]},\n",
       "                   random_state=42, scoring=&#x27;f1&#x27;, verbose=2)</pre><b>In a Jupyter environment, please rerun this cell to show the HTML representation or trust the notebook. <br />On GitHub, the HTML representation is unable to render, please try loading this page with nbviewer.org.</b></div><div class=\"sk-container\" hidden><div class=\"sk-item sk-dashed-wrapped\"><div class=\"sk-label-container\"><div class=\"sk-label sk-toggleable\"><input class=\"sk-toggleable__control sk-hidden--visually\" id=\"sk-estimator-id-5\" type=\"checkbox\" ><label for=\"sk-estimator-id-5\" class=\"sk-toggleable__label sk-toggleable__label-arrow\">RandomizedSearchCV</label><div class=\"sk-toggleable__content\"><pre>RandomizedSearchCV(estimator=SVC(class_weight=&#x27;balanced&#x27;, probability=True,\n",
       "                                 random_state=42),\n",
       "                   n_jobs=-1,\n",
       "                   param_distributions={&#x27;C&#x27;: [0.1, 1, 10, 100, 1000],\n",
       "                                        &#x27;gamma&#x27;: [1, 0.1, 0.01, 0.001, 0.0001],\n",
       "                                        &#x27;kernel&#x27;: [&#x27;rbf&#x27;]},\n",
       "                   random_state=42, scoring=&#x27;f1&#x27;, verbose=2)</pre></div></div></div><div class=\"sk-parallel\"><div class=\"sk-parallel-item\"><div class=\"sk-item\"><div class=\"sk-label-container\"><div class=\"sk-label sk-toggleable\"><input class=\"sk-toggleable__control sk-hidden--visually\" id=\"sk-estimator-id-6\" type=\"checkbox\" ><label for=\"sk-estimator-id-6\" class=\"sk-toggleable__label sk-toggleable__label-arrow\">estimator: SVC</label><div class=\"sk-toggleable__content\"><pre>SVC(class_weight=&#x27;balanced&#x27;, probability=True, random_state=42)</pre></div></div></div><div class=\"sk-serial\"><div class=\"sk-item\"><div class=\"sk-estimator sk-toggleable\"><input class=\"sk-toggleable__control sk-hidden--visually\" id=\"sk-estimator-id-7\" type=\"checkbox\" ><label for=\"sk-estimator-id-7\" class=\"sk-toggleable__label sk-toggleable__label-arrow\">SVC</label><div class=\"sk-toggleable__content\"><pre>SVC(class_weight=&#x27;balanced&#x27;, probability=True, random_state=42)</pre></div></div></div></div></div></div></div></div></div></div>"
      ],
      "text/plain": [
       "RandomizedSearchCV(estimator=SVC(class_weight='balanced', probability=True,\n",
       "                                 random_state=42),\n",
       "                   n_jobs=-1,\n",
       "                   param_distributions={'C': [0.1, 1, 10, 100, 1000],\n",
       "                                        'gamma': [1, 0.1, 0.01, 0.001, 0.0001],\n",
       "                                        'kernel': ['rbf']},\n",
       "                   random_state=42, scoring='f1', verbose=2)"
      ]
     },
     "execution_count": 70,
     "metadata": {},
     "output_type": "execute_result"
    }
   ],
   "source": [
    "#Tune SVM Model\n",
    "param_grid = {'C': [0.1, 1, 10, 100, 1000],\n",
    "              'gamma': [1, 0.1, 0.01, 0.001, 0.0001],\n",
    "              'kernel': ['rbf']}\n",
    "\n",
    "rs = RandomizedSearchCV(SVM, param_grid, scoring='f1', verbose=2, random_state=42, n_jobs=-1)\n",
    "rs.fit(Xtrain,ytrain)"
   ]
  },
  {
   "cell_type": "code",
   "execution_count": 71,
   "id": "7e61dbcd",
   "metadata": {
    "colab": {
     "base_uri": "https://localhost:8080/"
    },
    "id": "7e61dbcd",
    "outputId": "68d56b6b-6dff-4a65-c94c-41009fac35ac"
   },
   "outputs": [
    {
     "data": {
      "text/plain": [
       "{'kernel': 'rbf', 'gamma': 0.001, 'C': 1}"
      ]
     },
     "execution_count": 71,
     "metadata": {},
     "output_type": "execute_result"
    }
   ],
   "source": [
    "rs.best_params_"
   ]
  },
  {
   "cell_type": "code",
   "execution_count": 72,
   "id": "34eeb27b",
   "metadata": {
    "colab": {
     "base_uri": "https://localhost:8080/"
    },
    "id": "34eeb27b",
    "outputId": "4f6736a0-102f-4bb8-b4cc-3676b9a14fdf"
   },
   "outputs": [
    {
     "data": {
      "text/plain": [
       "{'algorithm': 'auto',\n",
       " 'leaf_size': 30,\n",
       " 'metric': 'minkowski',\n",
       " 'metric_params': None,\n",
       " 'n_jobs': None,\n",
       " 'n_neighbors': 5,\n",
       " 'p': 2,\n",
       " 'weights': 'uniform'}"
      ]
     },
     "execution_count": 72,
     "metadata": {},
     "output_type": "execute_result"
    }
   ],
   "source": [
    "KNN.get_params()"
   ]
  },
  {
   "cell_type": "code",
   "execution_count": 73,
   "id": "cf8b931d",
   "metadata": {
    "colab": {
     "base_uri": "https://localhost:8080/",
     "height": 135
    },
    "id": "cf8b931d",
    "outputId": "df507bc4-b642-4fcd-cb74-b4f822eb2b51"
   },
   "outputs": [
    {
     "name": "stdout",
     "output_type": "stream",
     "text": [
      "Fitting 5 folds for each of 10 candidates, totalling 50 fits\n"
     ]
    },
    {
     "data": {
      "text/html": [
       "<style>#sk-container-id-6 {color: black;background-color: white;}#sk-container-id-6 pre{padding: 0;}#sk-container-id-6 div.sk-toggleable {background-color: white;}#sk-container-id-6 label.sk-toggleable__label {cursor: pointer;display: block;width: 100%;margin-bottom: 0;padding: 0.3em;box-sizing: border-box;text-align: center;}#sk-container-id-6 label.sk-toggleable__label-arrow:before {content: \"▸\";float: left;margin-right: 0.25em;color: #696969;}#sk-container-id-6 label.sk-toggleable__label-arrow:hover:before {color: black;}#sk-container-id-6 div.sk-estimator:hover label.sk-toggleable__label-arrow:before {color: black;}#sk-container-id-6 div.sk-toggleable__content {max-height: 0;max-width: 0;overflow: hidden;text-align: left;background-color: #f0f8ff;}#sk-container-id-6 div.sk-toggleable__content pre {margin: 0.2em;color: black;border-radius: 0.25em;background-color: #f0f8ff;}#sk-container-id-6 input.sk-toggleable__control:checked~div.sk-toggleable__content {max-height: 200px;max-width: 100%;overflow: auto;}#sk-container-id-6 input.sk-toggleable__control:checked~label.sk-toggleable__label-arrow:before {content: \"▾\";}#sk-container-id-6 div.sk-estimator input.sk-toggleable__control:checked~label.sk-toggleable__label {background-color: #d4ebff;}#sk-container-id-6 div.sk-label input.sk-toggleable__control:checked~label.sk-toggleable__label {background-color: #d4ebff;}#sk-container-id-6 input.sk-hidden--visually {border: 0;clip: rect(1px 1px 1px 1px);clip: rect(1px, 1px, 1px, 1px);height: 1px;margin: -1px;overflow: hidden;padding: 0;position: absolute;width: 1px;}#sk-container-id-6 div.sk-estimator {font-family: monospace;background-color: #f0f8ff;border: 1px dotted black;border-radius: 0.25em;box-sizing: border-box;margin-bottom: 0.5em;}#sk-container-id-6 div.sk-estimator:hover {background-color: #d4ebff;}#sk-container-id-6 div.sk-parallel-item::after {content: \"\";width: 100%;border-bottom: 1px solid gray;flex-grow: 1;}#sk-container-id-6 div.sk-label:hover label.sk-toggleable__label {background-color: #d4ebff;}#sk-container-id-6 div.sk-serial::before {content: \"\";position: absolute;border-left: 1px solid gray;box-sizing: border-box;top: 0;bottom: 0;left: 50%;z-index: 0;}#sk-container-id-6 div.sk-serial {display: flex;flex-direction: column;align-items: center;background-color: white;padding-right: 0.2em;padding-left: 0.2em;position: relative;}#sk-container-id-6 div.sk-item {position: relative;z-index: 1;}#sk-container-id-6 div.sk-parallel {display: flex;align-items: stretch;justify-content: center;background-color: white;position: relative;}#sk-container-id-6 div.sk-item::before, #sk-container-id-6 div.sk-parallel-item::before {content: \"\";position: absolute;border-left: 1px solid gray;box-sizing: border-box;top: 0;bottom: 0;left: 50%;z-index: -1;}#sk-container-id-6 div.sk-parallel-item {display: flex;flex-direction: column;z-index: 1;position: relative;background-color: white;}#sk-container-id-6 div.sk-parallel-item:first-child::after {align-self: flex-end;width: 50%;}#sk-container-id-6 div.sk-parallel-item:last-child::after {align-self: flex-start;width: 50%;}#sk-container-id-6 div.sk-parallel-item:only-child::after {width: 0;}#sk-container-id-6 div.sk-dashed-wrapped {border: 1px dashed gray;margin: 0 0.4em 0.5em 0.4em;box-sizing: border-box;padding-bottom: 0.4em;background-color: white;}#sk-container-id-6 div.sk-label label {font-family: monospace;font-weight: bold;display: inline-block;line-height: 1.2em;}#sk-container-id-6 div.sk-label-container {text-align: center;}#sk-container-id-6 div.sk-container {/* jupyter's `normalize.less` sets `[hidden] { display: none; }` but bootstrap.min.css set `[hidden] { display: none !important; }` so we also need the `!important` here to be able to override the default hidden behavior on the sphinx rendered scikit-learn.org. See: https://github.com/scikit-learn/scikit-learn/issues/21755 */display: inline-block !important;position: relative;}#sk-container-id-6 div.sk-text-repr-fallback {display: none;}</style><div id=\"sk-container-id-6\" class=\"sk-top-container\"><div class=\"sk-text-repr-fallback\"><pre>RandomizedSearchCV(estimator=KNeighborsClassifier(), n_jobs=-1,\n",
       "                   param_distributions={&#x27;leaf_size&#x27;: [10, 20, 30, 40, 50, 60,\n",
       "                                                      70],\n",
       "                                        &#x27;metric&#x27;: [&#x27;minkowski&#x27;, &#x27;euclidean&#x27;,\n",
       "                                                   &#x27;manhattan&#x27;],\n",
       "                                        &#x27;n_neighbors&#x27;: array([ 1,  2,  3,  4,  5,  6,  7,  8,  9, 10, 11, 12, 13, 14, 15, 16, 17,\n",
       "       18, 19, 20, 21, 22, 23, 24, 25, 26, 27, 28, 29, 30, 31, 32, 33, 34,\n",
       "       35, 36, 37, 38, 39, 40, 41, 42, 43, 44, 45, 46, 47, 48, 49, 50]),\n",
       "                                        &#x27;weights&#x27;: [&#x27;uniform&#x27;, &#x27;distance&#x27;]},\n",
       "                   random_state=42, scoring=&#x27;f1&#x27;, verbose=2)</pre><b>In a Jupyter environment, please rerun this cell to show the HTML representation or trust the notebook. <br />On GitHub, the HTML representation is unable to render, please try loading this page with nbviewer.org.</b></div><div class=\"sk-container\" hidden><div class=\"sk-item sk-dashed-wrapped\"><div class=\"sk-label-container\"><div class=\"sk-label sk-toggleable\"><input class=\"sk-toggleable__control sk-hidden--visually\" id=\"sk-estimator-id-8\" type=\"checkbox\" ><label for=\"sk-estimator-id-8\" class=\"sk-toggleable__label sk-toggleable__label-arrow\">RandomizedSearchCV</label><div class=\"sk-toggleable__content\"><pre>RandomizedSearchCV(estimator=KNeighborsClassifier(), n_jobs=-1,\n",
       "                   param_distributions={&#x27;leaf_size&#x27;: [10, 20, 30, 40, 50, 60,\n",
       "                                                      70],\n",
       "                                        &#x27;metric&#x27;: [&#x27;minkowski&#x27;, &#x27;euclidean&#x27;,\n",
       "                                                   &#x27;manhattan&#x27;],\n",
       "                                        &#x27;n_neighbors&#x27;: array([ 1,  2,  3,  4,  5,  6,  7,  8,  9, 10, 11, 12, 13, 14, 15, 16, 17,\n",
       "       18, 19, 20, 21, 22, 23, 24, 25, 26, 27, 28, 29, 30, 31, 32, 33, 34,\n",
       "       35, 36, 37, 38, 39, 40, 41, 42, 43, 44, 45, 46, 47, 48, 49, 50]),\n",
       "                                        &#x27;weights&#x27;: [&#x27;uniform&#x27;, &#x27;distance&#x27;]},\n",
       "                   random_state=42, scoring=&#x27;f1&#x27;, verbose=2)</pre></div></div></div><div class=\"sk-parallel\"><div class=\"sk-parallel-item\"><div class=\"sk-item\"><div class=\"sk-label-container\"><div class=\"sk-label sk-toggleable\"><input class=\"sk-toggleable__control sk-hidden--visually\" id=\"sk-estimator-id-9\" type=\"checkbox\" ><label for=\"sk-estimator-id-9\" class=\"sk-toggleable__label sk-toggleable__label-arrow\">estimator: KNeighborsClassifier</label><div class=\"sk-toggleable__content\"><pre>KNeighborsClassifier()</pre></div></div></div><div class=\"sk-serial\"><div class=\"sk-item\"><div class=\"sk-estimator sk-toggleable\"><input class=\"sk-toggleable__control sk-hidden--visually\" id=\"sk-estimator-id-10\" type=\"checkbox\" ><label for=\"sk-estimator-id-10\" class=\"sk-toggleable__label sk-toggleable__label-arrow\">KNeighborsClassifier</label><div class=\"sk-toggleable__content\"><pre>KNeighborsClassifier()</pre></div></div></div></div></div></div></div></div></div></div>"
      ],
      "text/plain": [
       "RandomizedSearchCV(estimator=KNeighborsClassifier(), n_jobs=-1,\n",
       "                   param_distributions={'leaf_size': [10, 20, 30, 40, 50, 60,\n",
       "                                                      70],\n",
       "                                        'metric': ['minkowski', 'euclidean',\n",
       "                                                   'manhattan'],\n",
       "                                        'n_neighbors': array([ 1,  2,  3,  4,  5,  6,  7,  8,  9, 10, 11, 12, 13, 14, 15, 16, 17,\n",
       "       18, 19, 20, 21, 22, 23, 24, 25, 26, 27, 28, 29, 30, 31, 32, 33, 34,\n",
       "       35, 36, 37, 38, 39, 40, 41, 42, 43, 44, 45, 46, 47, 48, 49, 50]),\n",
       "                                        'weights': ['uniform', 'distance']},\n",
       "                   random_state=42, scoring='f1', verbose=2)"
      ]
     },
     "execution_count": 73,
     "metadata": {},
     "output_type": "execute_result"
    }
   ],
   "source": [
    "#Tune KNN Model\n",
    "param_grid = {'leaf_size': [10, 20, 30, 40, 50,60,70],\n",
    "              'n_neighbors': np.arange(1,51,1),\n",
    "              'weights' : ['uniform','distance'],\n",
    "               'metric' : ['minkowski','euclidean','manhattan']}\n",
    "\n",
    "rs2 = RandomizedSearchCV(KNN, param_grid, scoring='f1', verbose=2, random_state=42, n_jobs=-1)\n",
    "rs2.fit(Xtrain,ytrain)"
   ]
  },
  {
   "cell_type": "code",
   "execution_count": 74,
   "id": "2ec2a0aa",
   "metadata": {
    "colab": {
     "base_uri": "https://localhost:8080/"
    },
    "id": "2ec2a0aa",
    "outputId": "bcb1bfd3-5bdb-4061-ab54-982175e824eb"
   },
   "outputs": [
    {
     "data": {
      "text/plain": [
       "{'weights': 'uniform',\n",
       " 'n_neighbors': 48,\n",
       " 'metric': 'minkowski',\n",
       " 'leaf_size': 50}"
      ]
     },
     "execution_count": 74,
     "metadata": {},
     "output_type": "execute_result"
    }
   ],
   "source": [
    "rs2.best_params_"
   ]
  },
  {
   "cell_type": "code",
   "execution_count": 75,
   "id": "73bff824",
   "metadata": {
    "colab": {
     "base_uri": "https://localhost:8080/"
    },
    "id": "73bff824",
    "outputId": "3970237a-dafb-4c33-830a-f0b08151c8d3"
   },
   "outputs": [
    {
     "data": {
      "text/plain": [
       "{'C': 1.0,\n",
       " 'class_weight': 'balanced',\n",
       " 'dual': False,\n",
       " 'fit_intercept': True,\n",
       " 'intercept_scaling': 1,\n",
       " 'l1_ratio': None,\n",
       " 'max_iter': 1000,\n",
       " 'multi_class': 'auto',\n",
       " 'n_jobs': -1,\n",
       " 'penalty': 'l2',\n",
       " 'random_state': 42,\n",
       " 'solver': 'lbfgs',\n",
       " 'tol': 0.0001,\n",
       " 'verbose': 0,\n",
       " 'warm_start': False}"
      ]
     },
     "execution_count": 75,
     "metadata": {},
     "output_type": "execute_result"
    }
   ],
   "source": [
    "LR.get_params()"
   ]
  },
  {
   "cell_type": "code",
   "execution_count": 76,
   "id": "1fb40dc0",
   "metadata": {
    "colab": {
     "base_uri": "https://localhost:8080/",
     "height": 1000
    },
    "id": "1fb40dc0",
    "outputId": "592d968f-4155-4095-d458-899e79c18286"
   },
   "outputs": [
    {
     "name": "stdout",
     "output_type": "stream",
     "text": [
      "Fitting 5 folds for each of 10 candidates, totalling 50 fits\n"
     ]
    },
    {
     "name": "stderr",
     "output_type": "stream",
     "text": [
      "/opt/anaconda3/lib/python3.9/site-packages/sklearn/linear_model/_logistic.py:1173: FutureWarning: `penalty='none'`has been deprecated in 1.2 and will be removed in 1.4. To keep the past behaviour, set `penalty=None`.\n",
      "  warnings.warn(\n",
      "/opt/anaconda3/lib/python3.9/site-packages/sklearn/linear_model/_logistic.py:1181: UserWarning: Setting penalty=None will ignore the C and l1_ratio parameters\n",
      "  warnings.warn(\n",
      "/opt/anaconda3/lib/python3.9/site-packages/sklearn/linear_model/_logistic.py:1173: FutureWarning: `penalty='none'`has been deprecated in 1.2 and will be removed in 1.4. To keep the past behaviour, set `penalty=None`.\n",
      "  warnings.warn(\n",
      "/opt/anaconda3/lib/python3.9/site-packages/sklearn/linear_model/_logistic.py:1181: UserWarning: Setting penalty=None will ignore the C and l1_ratio parameters\n",
      "  warnings.warn(\n",
      "/opt/anaconda3/lib/python3.9/site-packages/sklearn/linear_model/_logistic.py:1173: FutureWarning: `penalty='none'`has been deprecated in 1.2 and will be removed in 1.4. To keep the past behaviour, set `penalty=None`.\n",
      "  warnings.warn(\n",
      "/opt/anaconda3/lib/python3.9/site-packages/sklearn/linear_model/_logistic.py:1181: UserWarning: Setting penalty=None will ignore the C and l1_ratio parameters\n",
      "  warnings.warn(\n",
      "/opt/anaconda3/lib/python3.9/site-packages/scipy/optimize/linesearch.py:478: LineSearchWarning: The line search algorithm did not converge\n",
      "  warn('The line search algorithm did not converge', LineSearchWarning)\n",
      "/opt/anaconda3/lib/python3.9/site-packages/scipy/optimize/linesearch.py:327: LineSearchWarning: The line search algorithm did not converge\n",
      "  warn('The line search algorithm did not converge', LineSearchWarning)\n",
      "/opt/anaconda3/lib/python3.9/site-packages/scipy/optimize/linesearch.py:478: LineSearchWarning: The line search algorithm did not converge\n",
      "  warn('The line search algorithm did not converge', LineSearchWarning)\n",
      "/opt/anaconda3/lib/python3.9/site-packages/scipy/optimize/linesearch.py:327: LineSearchWarning: The line search algorithm did not converge\n",
      "  warn('The line search algorithm did not converge', LineSearchWarning)\n",
      "/opt/anaconda3/lib/python3.9/site-packages/sklearn/linear_model/_sag.py:350: ConvergenceWarning: The max_iter was reached which means the coef_ did not converge\n",
      "  warnings.warn(\n",
      "/opt/anaconda3/lib/python3.9/site-packages/sklearn/linear_model/_sag.py:350: ConvergenceWarning: The max_iter was reached which means the coef_ did not converge\n",
      "  warnings.warn(\n",
      "/opt/anaconda3/lib/python3.9/site-packages/sklearn/linear_model/_logistic.py:1173: FutureWarning: `penalty='none'`has been deprecated in 1.2 and will be removed in 1.4. To keep the past behaviour, set `penalty=None`.\n",
      "  warnings.warn(\n",
      "/opt/anaconda3/lib/python3.9/site-packages/sklearn/linear_model/_logistic.py:1181: UserWarning: Setting penalty=None will ignore the C and l1_ratio parameters\n",
      "  warnings.warn(\n",
      "/opt/anaconda3/lib/python3.9/site-packages/sklearn/linear_model/_logistic.py:1173: FutureWarning: `penalty='none'`has been deprecated in 1.2 and will be removed in 1.4. To keep the past behaviour, set `penalty=None`.\n",
      "  warnings.warn(\n",
      "/opt/anaconda3/lib/python3.9/site-packages/sklearn/linear_model/_logistic.py:1181: UserWarning: Setting penalty=None will ignore the C and l1_ratio parameters\n",
      "  warnings.warn(\n",
      "/opt/anaconda3/lib/python3.9/site-packages/sklearn/linear_model/_sag.py:350: ConvergenceWarning: The max_iter was reached which means the coef_ did not converge\n",
      "  warnings.warn(\n",
      "/opt/anaconda3/lib/python3.9/site-packages/scipy/optimize/linesearch.py:478: LineSearchWarning: The line search algorithm did not converge\n",
      "  warn('The line search algorithm did not converge', LineSearchWarning)\n",
      "/opt/anaconda3/lib/python3.9/site-packages/scipy/optimize/linesearch.py:327: LineSearchWarning: The line search algorithm did not converge\n",
      "  warn('The line search algorithm did not converge', LineSearchWarning)\n",
      "/opt/anaconda3/lib/python3.9/site-packages/scipy/optimize/linesearch.py:478: LineSearchWarning: The line search algorithm did not converge\n",
      "  warn('The line search algorithm did not converge', LineSearchWarning)\n",
      "/opt/anaconda3/lib/python3.9/site-packages/scipy/optimize/linesearch.py:327: LineSearchWarning: The line search algorithm did not converge\n",
      "  warn('The line search algorithm did not converge', LineSearchWarning)\n",
      "/opt/anaconda3/lib/python3.9/site-packages/sklearn/utils/optimize.py:210: ConvergenceWarning: newton-cg failed to converge. Increase the number of iterations.\n",
      "  warnings.warn(\n",
      "/opt/anaconda3/lib/python3.9/site-packages/sklearn/utils/optimize.py:210: ConvergenceWarning: newton-cg failed to converge. Increase the number of iterations.\n",
      "  warnings.warn(\n",
      "/opt/anaconda3/lib/python3.9/site-packages/sklearn/linear_model/_logistic.py:1173: FutureWarning: `penalty='none'`has been deprecated in 1.2 and will be removed in 1.4. To keep the past behaviour, set `penalty=None`.\n",
      "  warnings.warn(\n",
      "/opt/anaconda3/lib/python3.9/site-packages/sklearn/linear_model/_logistic.py:1181: UserWarning: Setting penalty=None will ignore the C and l1_ratio parameters\n",
      "  warnings.warn(\n",
      "/opt/anaconda3/lib/python3.9/site-packages/sklearn/linear_model/_logistic.py:1173: FutureWarning: `penalty='none'`has been deprecated in 1.2 and will be removed in 1.4. To keep the past behaviour, set `penalty=None`.\n",
      "  warnings.warn(\n",
      "/opt/anaconda3/lib/python3.9/site-packages/sklearn/linear_model/_logistic.py:1181: UserWarning: Setting penalty=None will ignore the C and l1_ratio parameters\n",
      "  warnings.warn(\n",
      "/opt/anaconda3/lib/python3.9/site-packages/sklearn/linear_model/_logistic.py:1173: FutureWarning: `penalty='none'`has been deprecated in 1.2 and will be removed in 1.4. To keep the past behaviour, set `penalty=None`.\n",
      "  warnings.warn(\n",
      "/opt/anaconda3/lib/python3.9/site-packages/sklearn/linear_model/_logistic.py:1181: UserWarning: Setting penalty=None will ignore the C and l1_ratio parameters\n",
      "  warnings.warn(\n",
      "/opt/anaconda3/lib/python3.9/site-packages/sklearn/linear_model/_sag.py:350: ConvergenceWarning: The max_iter was reached which means the coef_ did not converge\n",
      "  warnings.warn(\n",
      "/opt/anaconda3/lib/python3.9/site-packages/sklearn/linear_model/_logistic.py:1173: FutureWarning: `penalty='none'`has been deprecated in 1.2 and will be removed in 1.4. To keep the past behaviour, set `penalty=None`.\n",
      "  warnings.warn(\n",
      "/opt/anaconda3/lib/python3.9/site-packages/sklearn/linear_model/_logistic.py:1181: UserWarning: Setting penalty=None will ignore the C and l1_ratio parameters\n",
      "  warnings.warn(\n",
      "/opt/anaconda3/lib/python3.9/site-packages/sklearn/linear_model/_sag.py:350: ConvergenceWarning: The max_iter was reached which means the coef_ did not converge\n",
      "  warnings.warn(\n",
      "/opt/anaconda3/lib/python3.9/site-packages/sklearn/utils/optimize.py:210: ConvergenceWarning: newton-cg failed to converge. Increase the number of iterations.\n",
      "  warnings.warn(\n",
      "/opt/anaconda3/lib/python3.9/site-packages/sklearn/utils/optimize.py:210: ConvergenceWarning: newton-cg failed to converge. Increase the number of iterations.\n",
      "  warnings.warn(\n",
      "/opt/anaconda3/lib/python3.9/site-packages/sklearn/linear_model/_logistic.py:1173: FutureWarning: `penalty='none'`has been deprecated in 1.2 and will be removed in 1.4. To keep the past behaviour, set `penalty=None`.\n",
      "  warnings.warn(\n",
      "/opt/anaconda3/lib/python3.9/site-packages/sklearn/linear_model/_logistic.py:1181: UserWarning: Setting penalty=None will ignore the C and l1_ratio parameters\n",
      "  warnings.warn(\n",
      "/opt/anaconda3/lib/python3.9/site-packages/sklearn/utils/optimize.py:210: ConvergenceWarning: newton-cg failed to converge. Increase the number of iterations.\n",
      "  warnings.warn(\n",
      "/opt/anaconda3/lib/python3.9/site-packages/scipy/optimize/linesearch.py:478: LineSearchWarning: The line search algorithm did not converge\n",
      "  warn('The line search algorithm did not converge', LineSearchWarning)\n",
      "/opt/anaconda3/lib/python3.9/site-packages/scipy/optimize/linesearch.py:327: LineSearchWarning: The line search algorithm did not converge\n",
      "  warn('The line search algorithm did not converge', LineSearchWarning)\n",
      "/opt/anaconda3/lib/python3.9/site-packages/sklearn/linear_model/_sag.py:350: ConvergenceWarning: The max_iter was reached which means the coef_ did not converge\n",
      "  warnings.warn(\n",
      "/opt/anaconda3/lib/python3.9/site-packages/scipy/optimize/linesearch.py:478: LineSearchWarning: The line search algorithm did not converge\n",
      "  warn('The line search algorithm did not converge', LineSearchWarning)\n",
      "/opt/anaconda3/lib/python3.9/site-packages/scipy/optimize/linesearch.py:327: LineSearchWarning: The line search algorithm did not converge\n",
      "  warn('The line search algorithm did not converge', LineSearchWarning)\n",
      "/opt/anaconda3/lib/python3.9/site-packages/sklearn/linear_model/_sag.py:350: ConvergenceWarning: The max_iter was reached which means the coef_ did not converge\n",
      "  warnings.warn(\n",
      "/opt/anaconda3/lib/python3.9/site-packages/sklearn/linear_model/_sag.py:350: ConvergenceWarning: The max_iter was reached which means the coef_ did not converge\n",
      "  warnings.warn(\n",
      "/opt/anaconda3/lib/python3.9/site-packages/sklearn/linear_model/_sag.py:350: ConvergenceWarning: The max_iter was reached which means the coef_ did not converge\n",
      "  warnings.warn(\n",
      "/opt/anaconda3/lib/python3.9/site-packages/sklearn/linear_model/_sag.py:350: ConvergenceWarning: The max_iter was reached which means the coef_ did not converge\n",
      "  warnings.warn(\n",
      "/opt/anaconda3/lib/python3.9/site-packages/sklearn/linear_model/_logistic.py:1173: FutureWarning: `penalty='none'`has been deprecated in 1.2 and will be removed in 1.4. To keep the past behaviour, set `penalty=None`.\n",
      "  warnings.warn(\n",
      "/opt/anaconda3/lib/python3.9/site-packages/sklearn/linear_model/_logistic.py:1181: UserWarning: Setting penalty=None will ignore the C and l1_ratio parameters\n",
      "  warnings.warn(\n",
      "/opt/anaconda3/lib/python3.9/site-packages/sklearn/linear_model/_logistic.py:1173: FutureWarning: `penalty='none'`has been deprecated in 1.2 and will be removed in 1.4. To keep the past behaviour, set `penalty=None`.\n",
      "  warnings.warn(\n",
      "/opt/anaconda3/lib/python3.9/site-packages/sklearn/linear_model/_logistic.py:1181: UserWarning: Setting penalty=None will ignore the C and l1_ratio parameters\n",
      "  warnings.warn(\n",
      "/opt/anaconda3/lib/python3.9/site-packages/sklearn/linear_model/_logistic.py:1173: FutureWarning: `penalty='none'`has been deprecated in 1.2 and will be removed in 1.4. To keep the past behaviour, set `penalty=None`.\n",
      "  warnings.warn(\n",
      "/opt/anaconda3/lib/python3.9/site-packages/sklearn/linear_model/_logistic.py:1181: UserWarning: Setting penalty=None will ignore the C and l1_ratio parameters\n",
      "  warnings.warn(\n",
      "/opt/anaconda3/lib/python3.9/site-packages/scipy/optimize/linesearch.py:478: LineSearchWarning: The line search algorithm did not converge\n",
      "  warn('The line search algorithm did not converge', LineSearchWarning)\n",
      "/opt/anaconda3/lib/python3.9/site-packages/scipy/optimize/linesearch.py:327: LineSearchWarning: The line search algorithm did not converge\n",
      "  warn('The line search algorithm did not converge', LineSearchWarning)\n",
      "/opt/anaconda3/lib/python3.9/site-packages/scipy/optimize/linesearch.py:478: LineSearchWarning: The line search algorithm did not converge\n",
      "  warn('The line search algorithm did not converge', LineSearchWarning)\n",
      "/opt/anaconda3/lib/python3.9/site-packages/scipy/optimize/linesearch.py:327: LineSearchWarning: The line search algorithm did not converge\n",
      "  warn('The line search algorithm did not converge', LineSearchWarning)\n",
      "/opt/anaconda3/lib/python3.9/site-packages/scipy/optimize/linesearch.py:437: LineSearchWarning: Rounding errors prevent the line search from converging\n",
      "  warn(msg, LineSearchWarning)\n",
      "/opt/anaconda3/lib/python3.9/site-packages/sklearn/utils/optimize.py:203: UserWarning: Line Search failed\n",
      "  warnings.warn(\"Line Search failed\")\n",
      "/opt/anaconda3/lib/python3.9/site-packages/scipy/optimize/linesearch.py:478: LineSearchWarning: The line search algorithm did not converge\n",
      "  warn('The line search algorithm did not converge', LineSearchWarning)\n",
      "/opt/anaconda3/lib/python3.9/site-packages/scipy/optimize/linesearch.py:327: LineSearchWarning: The line search algorithm did not converge\n",
      "  warn('The line search algorithm did not converge', LineSearchWarning)\n",
      "/opt/anaconda3/lib/python3.9/site-packages/sklearn/linear_model/_logistic.py:1173: FutureWarning: `penalty='none'`has been deprecated in 1.2 and will be removed in 1.4. To keep the past behaviour, set `penalty=None`.\n",
      "  warnings.warn(\n",
      "/opt/anaconda3/lib/python3.9/site-packages/sklearn/linear_model/_logistic.py:1181: UserWarning: Setting penalty=None will ignore the C and l1_ratio parameters\n",
      "  warnings.warn(\n",
      "/opt/anaconda3/lib/python3.9/site-packages/scipy/optimize/linesearch.py:437: LineSearchWarning: Rounding errors prevent the line search from converging\n",
      "  warn(msg, LineSearchWarning)\n",
      "/opt/anaconda3/lib/python3.9/site-packages/sklearn/utils/optimize.py:203: UserWarning: Line Search failed\n",
      "  warnings.warn(\"Line Search failed\")\n",
      "/opt/anaconda3/lib/python3.9/site-packages/sklearn/linear_model/_logistic.py:1173: FutureWarning: `penalty='none'`has been deprecated in 1.2 and will be removed in 1.4. To keep the past behaviour, set `penalty=None`.\n",
      "  warnings.warn(\n",
      "/opt/anaconda3/lib/python3.9/site-packages/sklearn/linear_model/_logistic.py:1181: UserWarning: Setting penalty=None will ignore the C and l1_ratio parameters\n",
      "  warnings.warn(\n",
      "/opt/anaconda3/lib/python3.9/site-packages/scipy/optimize/linesearch.py:437: LineSearchWarning: Rounding errors prevent the line search from converging\n",
      "  warn(msg, LineSearchWarning)\n",
      "/opt/anaconda3/lib/python3.9/site-packages/sklearn/utils/optimize.py:203: UserWarning: Line Search failed\n",
      "  warnings.warn(\"Line Search failed\")\n",
      "/opt/anaconda3/lib/python3.9/site-packages/sklearn/linear_model/_sag.py:350: ConvergenceWarning: The max_iter was reached which means the coef_ did not converge\n",
      "  warnings.warn(\n",
      "/opt/anaconda3/lib/python3.9/site-packages/sklearn/linear_model/_sag.py:350: ConvergenceWarning: The max_iter was reached which means the coef_ did not converge\n",
      "  warnings.warn(\n",
      "/opt/anaconda3/lib/python3.9/site-packages/sklearn/linear_model/_sag.py:350: ConvergenceWarning: The max_iter was reached which means the coef_ did not converge\n",
      "  warnings.warn(\n"
     ]
    },
    {
     "name": "stderr",
     "output_type": "stream",
     "text": [
      "/opt/anaconda3/lib/python3.9/site-packages/sklearn/utils/optimize.py:203: UserWarning: Line Search failed\n",
      "  warnings.warn(\"Line Search failed\")\n",
      "/opt/anaconda3/lib/python3.9/site-packages/sklearn/linear_model/_sag.py:350: ConvergenceWarning: The max_iter was reached which means the coef_ did not converge\n",
      "  warnings.warn(\n",
      "/opt/anaconda3/lib/python3.9/site-packages/sklearn/linear_model/_sag.py:350: ConvergenceWarning: The max_iter was reached which means the coef_ did not converge\n",
      "  warnings.warn(\n",
      "/opt/anaconda3/lib/python3.9/site-packages/scipy/optimize/linesearch.py:437: LineSearchWarning: Rounding errors prevent the line search from converging\n",
      "  warn(msg, LineSearchWarning)\n",
      "/opt/anaconda3/lib/python3.9/site-packages/sklearn/utils/optimize.py:203: UserWarning: Line Search failed\n",
      "  warnings.warn(\"Line Search failed\")\n",
      "/opt/anaconda3/lib/python3.9/site-packages/sklearn/model_selection/_validation.py:378: FitFailedWarning: \n",
      "20 fits failed out of a total of 50.\n",
      "The score on these train-test partitions for these parameters will be set to nan.\n",
      "If these failures are not expected, you can try to debug them by setting error_score='raise'.\n",
      "\n",
      "Below are more details about the failures:\n",
      "--------------------------------------------------------------------------------\n",
      "5 fits failed with the following error:\n",
      "Traceback (most recent call last):\n",
      "  File \"/opt/anaconda3/lib/python3.9/site-packages/sklearn/model_selection/_validation.py\", line 686, in _fit_and_score\n",
      "    estimator.fit(X_train, y_train, **fit_params)\n",
      "  File \"/opt/anaconda3/lib/python3.9/site-packages/sklearn/linear_model/_logistic.py\", line 1162, in fit\n",
      "    solver = _check_solver(self.solver, self.penalty, self.dual)\n",
      "  File \"/opt/anaconda3/lib/python3.9/site-packages/sklearn/linear_model/_logistic.py\", line 54, in _check_solver\n",
      "    raise ValueError(\n",
      "ValueError: Solver lbfgs supports only 'l2' or 'none' penalties, got l1 penalty.\n",
      "\n",
      "--------------------------------------------------------------------------------\n",
      "5 fits failed with the following error:\n",
      "Traceback (most recent call last):\n",
      "  File \"/opt/anaconda3/lib/python3.9/site-packages/sklearn/model_selection/_validation.py\", line 686, in _fit_and_score\n",
      "    estimator.fit(X_train, y_train, **fit_params)\n",
      "  File \"/opt/anaconda3/lib/python3.9/site-packages/sklearn/linear_model/_logistic.py\", line 1291, in fit\n",
      "    fold_coefs_ = Parallel(n_jobs=self.n_jobs, verbose=self.verbose, prefer=prefer)(\n",
      "  File \"/opt/anaconda3/lib/python3.9/site-packages/sklearn/utils/parallel.py\", line 63, in __call__\n",
      "    return super().__call__(iterable_with_config)\n",
      "  File \"/opt/anaconda3/lib/python3.9/site-packages/joblib/parallel.py\", line 1098, in __call__\n",
      "    self.retrieve()\n",
      "  File \"/opt/anaconda3/lib/python3.9/site-packages/joblib/parallel.py\", line 975, in retrieve\n",
      "    self._output.extend(job.get(timeout=self.timeout))\n",
      "  File \"/opt/anaconda3/lib/python3.9/multiprocessing/pool.py\", line 771, in get\n",
      "    raise self._value\n",
      "  File \"/opt/anaconda3/lib/python3.9/multiprocessing/pool.py\", line 125, in worker\n",
      "    result = (True, func(*args, **kwds))\n",
      "  File \"/opt/anaconda3/lib/python3.9/site-packages/joblib/_parallel_backends.py\", line 620, in __call__\n",
      "    return self.func(*args, **kwargs)\n",
      "  File \"/opt/anaconda3/lib/python3.9/site-packages/joblib/parallel.py\", line 288, in __call__\n",
      "    return [func(*args, **kwargs)\n",
      "  File \"/opt/anaconda3/lib/python3.9/site-packages/joblib/parallel.py\", line 288, in <listcomp>\n",
      "    return [func(*args, **kwargs)\n",
      "  File \"/opt/anaconda3/lib/python3.9/site-packages/sklearn/utils/parallel.py\", line 123, in __call__\n",
      "    return self.function(*args, **kwargs)\n",
      "  File \"/opt/anaconda3/lib/python3.9/site-packages/sklearn/linear_model/_logistic.py\", line 521, in _logistic_regression_path\n",
      "    alpha = (1.0 / C) * (1 - l1_ratio)\n",
      "TypeError: unsupported operand type(s) for -: 'int' and 'NoneType'\n",
      "\n",
      "--------------------------------------------------------------------------------\n",
      "5 fits failed with the following error:\n",
      "Traceback (most recent call last):\n",
      "  File \"/opt/anaconda3/lib/python3.9/site-packages/sklearn/model_selection/_validation.py\", line 686, in _fit_and_score\n",
      "    estimator.fit(X_train, y_train, **fit_params)\n",
      "  File \"/opt/anaconda3/lib/python3.9/site-packages/sklearn/linear_model/_logistic.py\", line 1162, in fit\n",
      "    solver = _check_solver(self.solver, self.penalty, self.dual)\n",
      "  File \"/opt/anaconda3/lib/python3.9/site-packages/sklearn/linear_model/_logistic.py\", line 54, in _check_solver\n",
      "    raise ValueError(\n",
      "ValueError: Solver lbfgs supports only 'l2' or 'none' penalties, got elasticnet penalty.\n",
      "\n",
      "--------------------------------------------------------------------------------\n",
      "5 fits failed with the following error:\n",
      "Traceback (most recent call last):\n",
      "  File \"/opt/anaconda3/lib/python3.9/site-packages/sklearn/model_selection/_validation.py\", line 686, in _fit_and_score\n",
      "    estimator.fit(X_train, y_train, **fit_params)\n",
      "  File \"/opt/anaconda3/lib/python3.9/site-packages/sklearn/linear_model/_logistic.py\", line 1162, in fit\n",
      "    solver = _check_solver(self.solver, self.penalty, self.dual)\n",
      "  File \"/opt/anaconda3/lib/python3.9/site-packages/sklearn/linear_model/_logistic.py\", line 54, in _check_solver\n",
      "    raise ValueError(\n",
      "ValueError: Solver newton-cg supports only 'l2' or 'none' penalties, got l1 penalty.\n",
      "\n",
      "  warnings.warn(some_fits_failed_message, FitFailedWarning)\n",
      "/opt/anaconda3/lib/python3.9/site-packages/sklearn/model_selection/_search.py:952: UserWarning: One or more of the test scores are non-finite: [0.48874342 0.61195472        nan        nan        nan 0.52546945\n",
      " 0.61195472        nan 0.53490746 0.53312085]\n",
      "  warnings.warn(\n",
      "/opt/anaconda3/lib/python3.9/site-packages/sklearn/linear_model/_logistic.py:1173: FutureWarning: `penalty='none'`has been deprecated in 1.2 and will be removed in 1.4. To keep the past behaviour, set `penalty=None`.\n",
      "  warnings.warn(\n",
      "/opt/anaconda3/lib/python3.9/site-packages/sklearn/linear_model/_logistic.py:1181: UserWarning: Setting penalty=None will ignore the C and l1_ratio parameters\n",
      "  warnings.warn(\n",
      "/opt/anaconda3/lib/python3.9/site-packages/sklearn/linear_model/_sag.py:350: ConvergenceWarning: The max_iter was reached which means the coef_ did not converge\n",
      "  warnings.warn(\n"
     ]
    },
    {
     "data": {
      "text/html": [
       "<style>#sk-container-id-7 {color: black;background-color: white;}#sk-container-id-7 pre{padding: 0;}#sk-container-id-7 div.sk-toggleable {background-color: white;}#sk-container-id-7 label.sk-toggleable__label {cursor: pointer;display: block;width: 100%;margin-bottom: 0;padding: 0.3em;box-sizing: border-box;text-align: center;}#sk-container-id-7 label.sk-toggleable__label-arrow:before {content: \"▸\";float: left;margin-right: 0.25em;color: #696969;}#sk-container-id-7 label.sk-toggleable__label-arrow:hover:before {color: black;}#sk-container-id-7 div.sk-estimator:hover label.sk-toggleable__label-arrow:before {color: black;}#sk-container-id-7 div.sk-toggleable__content {max-height: 0;max-width: 0;overflow: hidden;text-align: left;background-color: #f0f8ff;}#sk-container-id-7 div.sk-toggleable__content pre {margin: 0.2em;color: black;border-radius: 0.25em;background-color: #f0f8ff;}#sk-container-id-7 input.sk-toggleable__control:checked~div.sk-toggleable__content {max-height: 200px;max-width: 100%;overflow: auto;}#sk-container-id-7 input.sk-toggleable__control:checked~label.sk-toggleable__label-arrow:before {content: \"▾\";}#sk-container-id-7 div.sk-estimator input.sk-toggleable__control:checked~label.sk-toggleable__label {background-color: #d4ebff;}#sk-container-id-7 div.sk-label input.sk-toggleable__control:checked~label.sk-toggleable__label {background-color: #d4ebff;}#sk-container-id-7 input.sk-hidden--visually {border: 0;clip: rect(1px 1px 1px 1px);clip: rect(1px, 1px, 1px, 1px);height: 1px;margin: -1px;overflow: hidden;padding: 0;position: absolute;width: 1px;}#sk-container-id-7 div.sk-estimator {font-family: monospace;background-color: #f0f8ff;border: 1px dotted black;border-radius: 0.25em;box-sizing: border-box;margin-bottom: 0.5em;}#sk-container-id-7 div.sk-estimator:hover {background-color: #d4ebff;}#sk-container-id-7 div.sk-parallel-item::after {content: \"\";width: 100%;border-bottom: 1px solid gray;flex-grow: 1;}#sk-container-id-7 div.sk-label:hover label.sk-toggleable__label {background-color: #d4ebff;}#sk-container-id-7 div.sk-serial::before {content: \"\";position: absolute;border-left: 1px solid gray;box-sizing: border-box;top: 0;bottom: 0;left: 50%;z-index: 0;}#sk-container-id-7 div.sk-serial {display: flex;flex-direction: column;align-items: center;background-color: white;padding-right: 0.2em;padding-left: 0.2em;position: relative;}#sk-container-id-7 div.sk-item {position: relative;z-index: 1;}#sk-container-id-7 div.sk-parallel {display: flex;align-items: stretch;justify-content: center;background-color: white;position: relative;}#sk-container-id-7 div.sk-item::before, #sk-container-id-7 div.sk-parallel-item::before {content: \"\";position: absolute;border-left: 1px solid gray;box-sizing: border-box;top: 0;bottom: 0;left: 50%;z-index: -1;}#sk-container-id-7 div.sk-parallel-item {display: flex;flex-direction: column;z-index: 1;position: relative;background-color: white;}#sk-container-id-7 div.sk-parallel-item:first-child::after {align-self: flex-end;width: 50%;}#sk-container-id-7 div.sk-parallel-item:last-child::after {align-self: flex-start;width: 50%;}#sk-container-id-7 div.sk-parallel-item:only-child::after {width: 0;}#sk-container-id-7 div.sk-dashed-wrapped {border: 1px dashed gray;margin: 0 0.4em 0.5em 0.4em;box-sizing: border-box;padding-bottom: 0.4em;background-color: white;}#sk-container-id-7 div.sk-label label {font-family: monospace;font-weight: bold;display: inline-block;line-height: 1.2em;}#sk-container-id-7 div.sk-label-container {text-align: center;}#sk-container-id-7 div.sk-container {/* jupyter's `normalize.less` sets `[hidden] { display: none; }` but bootstrap.min.css set `[hidden] { display: none !important; }` so we also need the `!important` here to be able to override the default hidden behavior on the sphinx rendered scikit-learn.org. See: https://github.com/scikit-learn/scikit-learn/issues/21755 */display: inline-block !important;position: relative;}#sk-container-id-7 div.sk-text-repr-fallback {display: none;}</style><div id=\"sk-container-id-7\" class=\"sk-top-container\"><div class=\"sk-text-repr-fallback\"><pre>RandomizedSearchCV(estimator=LogisticRegression(class_weight=&#x27;balanced&#x27;,\n",
       "                                                max_iter=1000, n_jobs=-1,\n",
       "                                                random_state=42),\n",
       "                   n_jobs=-1,\n",
       "                   param_distributions={&#x27;C&#x27;: array([1.00000000e-04, 2.63665090e-04, 6.95192796e-04, 1.83298071e-03,\n",
       "       4.83293024e-03, 1.27427499e-02, 3.35981829e-02, 8.85866790e-02,\n",
       "       2.33572147e-01, 6.15848211e-01, 1.62377674e+00, 4.28133240e+00,\n",
       "       1.12883789e+01, 2.97635144e+01, 7.84759970e+01, 2.06913808e+02,\n",
       "       5.45559478e+02, 1.43844989e+03, 3.79269019e+03, 1.00000000e+04]),\n",
       "                                        &#x27;max_iter&#x27;: [100, 1000, 2500, 5000],\n",
       "                                        &#x27;penalty&#x27;: [&#x27;l1&#x27;, &#x27;l2&#x27;, &#x27;elasticnet&#x27;,\n",
       "                                                    &#x27;none&#x27;],\n",
       "                                        &#x27;solver&#x27;: [&#x27;lbfgs&#x27;, &#x27;newton-cg&#x27;,\n",
       "                                                   &#x27;liblinear&#x27;, &#x27;sag&#x27;,\n",
       "                                                   &#x27;saga&#x27;]},\n",
       "                   random_state=42, scoring=&#x27;f1&#x27;, verbose=2)</pre><b>In a Jupyter environment, please rerun this cell to show the HTML representation or trust the notebook. <br />On GitHub, the HTML representation is unable to render, please try loading this page with nbviewer.org.</b></div><div class=\"sk-container\" hidden><div class=\"sk-item sk-dashed-wrapped\"><div class=\"sk-label-container\"><div class=\"sk-label sk-toggleable\"><input class=\"sk-toggleable__control sk-hidden--visually\" id=\"sk-estimator-id-11\" type=\"checkbox\" ><label for=\"sk-estimator-id-11\" class=\"sk-toggleable__label sk-toggleable__label-arrow\">RandomizedSearchCV</label><div class=\"sk-toggleable__content\"><pre>RandomizedSearchCV(estimator=LogisticRegression(class_weight=&#x27;balanced&#x27;,\n",
       "                                                max_iter=1000, n_jobs=-1,\n",
       "                                                random_state=42),\n",
       "                   n_jobs=-1,\n",
       "                   param_distributions={&#x27;C&#x27;: array([1.00000000e-04, 2.63665090e-04, 6.95192796e-04, 1.83298071e-03,\n",
       "       4.83293024e-03, 1.27427499e-02, 3.35981829e-02, 8.85866790e-02,\n",
       "       2.33572147e-01, 6.15848211e-01, 1.62377674e+00, 4.28133240e+00,\n",
       "       1.12883789e+01, 2.97635144e+01, 7.84759970e+01, 2.06913808e+02,\n",
       "       5.45559478e+02, 1.43844989e+03, 3.79269019e+03, 1.00000000e+04]),\n",
       "                                        &#x27;max_iter&#x27;: [100, 1000, 2500, 5000],\n",
       "                                        &#x27;penalty&#x27;: [&#x27;l1&#x27;, &#x27;l2&#x27;, &#x27;elasticnet&#x27;,\n",
       "                                                    &#x27;none&#x27;],\n",
       "                                        &#x27;solver&#x27;: [&#x27;lbfgs&#x27;, &#x27;newton-cg&#x27;,\n",
       "                                                   &#x27;liblinear&#x27;, &#x27;sag&#x27;,\n",
       "                                                   &#x27;saga&#x27;]},\n",
       "                   random_state=42, scoring=&#x27;f1&#x27;, verbose=2)</pre></div></div></div><div class=\"sk-parallel\"><div class=\"sk-parallel-item\"><div class=\"sk-item\"><div class=\"sk-label-container\"><div class=\"sk-label sk-toggleable\"><input class=\"sk-toggleable__control sk-hidden--visually\" id=\"sk-estimator-id-12\" type=\"checkbox\" ><label for=\"sk-estimator-id-12\" class=\"sk-toggleable__label sk-toggleable__label-arrow\">estimator: LogisticRegression</label><div class=\"sk-toggleable__content\"><pre>LogisticRegression(class_weight=&#x27;balanced&#x27;, max_iter=1000, n_jobs=-1,\n",
       "                   random_state=42)</pre></div></div></div><div class=\"sk-serial\"><div class=\"sk-item\"><div class=\"sk-estimator sk-toggleable\"><input class=\"sk-toggleable__control sk-hidden--visually\" id=\"sk-estimator-id-13\" type=\"checkbox\" ><label for=\"sk-estimator-id-13\" class=\"sk-toggleable__label sk-toggleable__label-arrow\">LogisticRegression</label><div class=\"sk-toggleable__content\"><pre>LogisticRegression(class_weight=&#x27;balanced&#x27;, max_iter=1000, n_jobs=-1,\n",
       "                   random_state=42)</pre></div></div></div></div></div></div></div></div></div></div>"
      ],
      "text/plain": [
       "RandomizedSearchCV(estimator=LogisticRegression(class_weight='balanced',\n",
       "                                                max_iter=1000, n_jobs=-1,\n",
       "                                                random_state=42),\n",
       "                   n_jobs=-1,\n",
       "                   param_distributions={'C': array([1.00000000e-04, 2.63665090e-04, 6.95192796e-04, 1.83298071e-03,\n",
       "       4.83293024e-03, 1.27427499e-02, 3.35981829e-02, 8.85866790e-02,\n",
       "       2.33572147e-01, 6.15848211e-01, 1.62377674e+00, 4.28133240e+00,\n",
       "       1.12883789e+01, 2.97635144e+01, 7.84759970e+01, 2.06913808e+02,\n",
       "       5.45559478e+02, 1.43844989e+03, 3.79269019e+03, 1.00000000e+04]),\n",
       "                                        'max_iter': [100, 1000, 2500, 5000],\n",
       "                                        'penalty': ['l1', 'l2', 'elasticnet',\n",
       "                                                    'none'],\n",
       "                                        'solver': ['lbfgs', 'newton-cg',\n",
       "                                                   'liblinear', 'sag',\n",
       "                                                   'saga']},\n",
       "                   random_state=42, scoring='f1', verbose=2)"
      ]
     },
     "execution_count": 76,
     "metadata": {},
     "output_type": "execute_result"
    }
   ],
   "source": [
    "#Tune Logistic Regression Model\n",
    "param_grid = {'penalty' : ['l1', 'l2', 'elasticnet', 'none'],\n",
    "    'C' : np.logspace(-4, 4, 20),\n",
    "    'solver' : ['lbfgs','newton-cg','liblinear','sag','saga'],\n",
    "    'max_iter' : [100, 1000,2500, 5000]}\n",
    "\n",
    "rs3 = RandomizedSearchCV(LR, param_grid, scoring='f1', verbose=2, random_state=42, n_jobs=-1)\n",
    "rs3.fit(Xtrain,ytrain)"
   ]
  },
  {
   "cell_type": "code",
   "execution_count": 77,
   "id": "79825111",
   "metadata": {
    "colab": {
     "base_uri": "https://localhost:8080/"
    },
    "id": "79825111",
    "outputId": "57510124-7d8e-479c-b7b2-3c2898f52a3e"
   },
   "outputs": [
    {
     "data": {
      "text/plain": [
       "{'solver': 'saga', 'penalty': 'none', 'max_iter': 100, 'C': 3792.690190732246}"
      ]
     },
     "execution_count": 77,
     "metadata": {},
     "output_type": "execute_result"
    }
   ],
   "source": [
    "rs3.best_params_"
   ]
  },
  {
   "cell_type": "code",
   "execution_count": 78,
   "id": "AHClZoFOVsrl",
   "metadata": {
    "colab": {
     "base_uri": "https://localhost:8080/"
    },
    "id": "AHClZoFOVsrl",
    "outputId": "8c39c3b1-baf9-4a68-b365-9e69c2c67cd2"
   },
   "outputs": [
    {
     "name": "stdout",
     "output_type": "stream",
     "text": [
      "Fitting 5 folds for each of 10 candidates, totalling 50 fits\n"
     ]
    },
    {
     "name": "stderr",
     "output_type": "stream",
     "text": [
      "/opt/anaconda3/lib/python3.9/site-packages/sklearn/ensemble/_forest.py:424: FutureWarning: `max_features='auto'` has been deprecated in 1.1 and will be removed in 1.3. To keep the past behaviour, explicitly set `max_features='sqrt'` or remove this parameter as it is also the default value for RandomForestClassifiers and ExtraTreesClassifiers.\n",
      "  warn(\n",
      "/opt/anaconda3/lib/python3.9/site-packages/sklearn/ensemble/_forest.py:424: FutureWarning: `max_features='auto'` has been deprecated in 1.1 and will be removed in 1.3. To keep the past behaviour, explicitly set `max_features='sqrt'` or remove this parameter as it is also the default value for RandomForestClassifiers and ExtraTreesClassifiers.\n",
      "  warn(\n",
      "/opt/anaconda3/lib/python3.9/site-packages/sklearn/ensemble/_forest.py:424: FutureWarning: `max_features='auto'` has been deprecated in 1.1 and will be removed in 1.3. To keep the past behaviour, explicitly set `max_features='sqrt'` or remove this parameter as it is also the default value for RandomForestClassifiers and ExtraTreesClassifiers.\n",
      "  warn(\n",
      "/opt/anaconda3/lib/python3.9/site-packages/sklearn/ensemble/_forest.py:424: FutureWarning: `max_features='auto'` has been deprecated in 1.1 and will be removed in 1.3. To keep the past behaviour, explicitly set `max_features='sqrt'` or remove this parameter as it is also the default value for RandomForestClassifiers and ExtraTreesClassifiers.\n",
      "  warn(\n",
      "/opt/anaconda3/lib/python3.9/site-packages/sklearn/ensemble/_forest.py:424: FutureWarning: `max_features='auto'` has been deprecated in 1.1 and will be removed in 1.3. To keep the past behaviour, explicitly set `max_features='sqrt'` or remove this parameter as it is also the default value for RandomForestClassifiers and ExtraTreesClassifiers.\n",
      "  warn(\n",
      "/opt/anaconda3/lib/python3.9/site-packages/sklearn/ensemble/_forest.py:424: FutureWarning: `max_features='auto'` has been deprecated in 1.1 and will be removed in 1.3. To keep the past behaviour, explicitly set `max_features='sqrt'` or remove this parameter as it is also the default value for RandomForestClassifiers and ExtraTreesClassifiers.\n",
      "  warn(\n",
      "/opt/anaconda3/lib/python3.9/site-packages/sklearn/ensemble/_forest.py:424: FutureWarning: `max_features='auto'` has been deprecated in 1.1 and will be removed in 1.3. To keep the past behaviour, explicitly set `max_features='sqrt'` or remove this parameter as it is also the default value for RandomForestClassifiers and ExtraTreesClassifiers.\n",
      "  warn(\n",
      "/opt/anaconda3/lib/python3.9/site-packages/sklearn/ensemble/_forest.py:424: FutureWarning: `max_features='auto'` has been deprecated in 1.1 and will be removed in 1.3. To keep the past behaviour, explicitly set `max_features='sqrt'` or remove this parameter as it is also the default value for RandomForestClassifiers and ExtraTreesClassifiers.\n",
      "  warn(\n",
      "/opt/anaconda3/lib/python3.9/site-packages/sklearn/ensemble/_forest.py:424: FutureWarning: `max_features='auto'` has been deprecated in 1.1 and will be removed in 1.3. To keep the past behaviour, explicitly set `max_features='sqrt'` or remove this parameter as it is also the default value for RandomForestClassifiers and ExtraTreesClassifiers.\n",
      "  warn(\n",
      "/opt/anaconda3/lib/python3.9/site-packages/sklearn/ensemble/_forest.py:424: FutureWarning: `max_features='auto'` has been deprecated in 1.1 and will be removed in 1.3. To keep the past behaviour, explicitly set `max_features='sqrt'` or remove this parameter as it is also the default value for RandomForestClassifiers and ExtraTreesClassifiers.\n",
      "  warn(\n",
      "/opt/anaconda3/lib/python3.9/site-packages/sklearn/ensemble/_forest.py:424: FutureWarning: `max_features='auto'` has been deprecated in 1.1 and will be removed in 1.3. To keep the past behaviour, explicitly set `max_features='sqrt'` or remove this parameter as it is also the default value for RandomForestClassifiers and ExtraTreesClassifiers.\n",
      "  warn(\n",
      "/opt/anaconda3/lib/python3.9/site-packages/sklearn/ensemble/_forest.py:424: FutureWarning: `max_features='auto'` has been deprecated in 1.1 and will be removed in 1.3. To keep the past behaviour, explicitly set `max_features='sqrt'` or remove this parameter as it is also the default value for RandomForestClassifiers and ExtraTreesClassifiers.\n",
      "  warn(\n",
      "/opt/anaconda3/lib/python3.9/site-packages/sklearn/ensemble/_forest.py:424: FutureWarning: `max_features='auto'` has been deprecated in 1.1 and will be removed in 1.3. To keep the past behaviour, explicitly set `max_features='sqrt'` or remove this parameter as it is also the default value for RandomForestClassifiers and ExtraTreesClassifiers.\n",
      "  warn(\n",
      "/opt/anaconda3/lib/python3.9/site-packages/sklearn/ensemble/_forest.py:424: FutureWarning: `max_features='auto'` has been deprecated in 1.1 and will be removed in 1.3. To keep the past behaviour, explicitly set `max_features='sqrt'` or remove this parameter as it is also the default value for RandomForestClassifiers and ExtraTreesClassifiers.\n",
      "  warn(\n",
      "/opt/anaconda3/lib/python3.9/site-packages/sklearn/ensemble/_forest.py:424: FutureWarning: `max_features='auto'` has been deprecated in 1.1 and will be removed in 1.3. To keep the past behaviour, explicitly set `max_features='sqrt'` or remove this parameter as it is also the default value for RandomForestClassifiers and ExtraTreesClassifiers.\n",
      "  warn(\n",
      "/opt/anaconda3/lib/python3.9/site-packages/sklearn/ensemble/_forest.py:424: FutureWarning: `max_features='auto'` has been deprecated in 1.1 and will be removed in 1.3. To keep the past behaviour, explicitly set `max_features='sqrt'` or remove this parameter as it is also the default value for RandomForestClassifiers and ExtraTreesClassifiers.\n",
      "  warn(\n"
     ]
    },
    {
     "name": "stdout",
     "output_type": "stream",
     "text": [
      "Best parameters: {'n_estimators': 100, 'min_samples_split': 10, 'min_samples_leaf': 2, 'max_features': 'auto', 'max_depth': 15, 'bootstrap': True}\n",
      "Best F1 score: 0.4490686469391016\n"
     ]
    }
   ],
   "source": [
    "param_grid_rf = {\n",
    "    'n_estimators': np.arange(100, 1001, 100),\n",
    "    'max_features': ['auto', 'sqrt', 'log2'],\n",
    "    'max_depth': [None] + list(np.arange(5, 51, 5)),\n",
    "    'min_samples_split': [2, 5, 10],\n",
    "    'min_samples_leaf': [1, 2, 4],\n",
    "    'bootstrap': [True, False]\n",
    "}\n",
    "\n",
    "# Initialize RandomizedSearchCV with Random Forest model and parameter grid\n",
    "rs4 = RandomizedSearchCV(forest, param_grid_rf, scoring='f1', verbose=2, random_state=42, n_jobs=-1)\n",
    "\n",
    "# Fit RandomizedSearchCV\n",
    "rs4.fit(Xtrain, ytrain)\n",
    "\n",
    "# You can check the best parameters and the best score after fitting\n",
    "print(\"Best parameters:\", rs4.best_params_)\n",
    "print(\"Best F1 score:\", rs4.best_score_)"
   ]
  },
  {
   "cell_type": "code",
   "execution_count": 79,
   "id": "285929f0",
   "metadata": {
    "id": "285929f0"
   },
   "outputs": [],
   "source": [
    "#Refit the models using the tuned parameters\n",
    "SVM = SVC(**rs.best_params_, probability=True)\n",
    "KNN= KNeighborsClassifier(**rs2.best_params_)\n",
    "LR = LogisticRegression(**rs3.best_params_)\n",
    "forest = RandomForestClassifier(**rs4.best_params_)"
   ]
  },
  {
   "cell_type": "code",
   "execution_count": 80,
   "id": "44e1deec",
   "metadata": {
    "colab": {
     "base_uri": "https://localhost:8080/"
    },
    "id": "44e1deec",
    "outputId": "096371ee-6e8f-4b79-9876-b728befe517d"
   },
   "outputs": [
    {
     "name": "stderr",
     "output_type": "stream",
     "text": [
      "/opt/anaconda3/lib/python3.9/site-packages/sklearn/linear_model/_logistic.py:1173: FutureWarning: `penalty='none'`has been deprecated in 1.2 and will be removed in 1.4. To keep the past behaviour, set `penalty=None`.\n",
      "  warnings.warn(\n",
      "/opt/anaconda3/lib/python3.9/site-packages/sklearn/linear_model/_logistic.py:1181: UserWarning: Setting penalty=None will ignore the C and l1_ratio parameters\n",
      "  warnings.warn(\n",
      "/opt/anaconda3/lib/python3.9/site-packages/sklearn/linear_model/_sag.py:350: ConvergenceWarning: The max_iter was reached which means the coef_ did not converge\n",
      "  warnings.warn(\n",
      "/opt/anaconda3/lib/python3.9/site-packages/sklearn/ensemble/_forest.py:424: FutureWarning: `max_features='auto'` has been deprecated in 1.1 and will be removed in 1.3. To keep the past behaviour, explicitly set `max_features='sqrt'` or remove this parameter as it is also the default value for RandomForestClassifiers and ExtraTreesClassifiers.\n",
      "  warn(\n"
     ]
    }
   ],
   "source": [
    "#Retrain tuned models and make predictions on validation set\n",
    "SVM.fit(Xtrain,ytrain)\n",
    "KNN.fit(Xtrain,ytrain)\n",
    "LR.fit(Xtrain,ytrain)\n",
    "forest.fit(Xtrain,ytrain)\n",
    "\n",
    "SVM_Pred = SVM.predict_proba(Xval)\n",
    "KNN_Pred = KNN.predict_proba(Xval)\n",
    "LR_Pred = LR.predict_proba(Xval)\n",
    "forest_Pred = forest.predict_proba(Xval)"
   ]
  },
  {
   "cell_type": "code",
   "execution_count": 81,
   "id": "20cdd726",
   "metadata": {
    "id": "20cdd726"
   },
   "outputs": [],
   "source": [
    "#Combine the predictions from the base models to use to train the meta model\n",
    "Xval_meta = np.column_stack((SVM_Pred, KNN_Pred, LR_Pred, forest_Pred))"
   ]
  },
  {
   "cell_type": "code",
   "execution_count": 82,
   "id": "b2b9fd1c",
   "metadata": {
    "colab": {
     "base_uri": "https://localhost:8080/"
    },
    "id": "b2b9fd1c",
    "outputId": "247c4b4b-2af4-4cb3-9b5b-28ec1144b696"
   },
   "outputs": [
    {
     "data": {
      "text/plain": [
       "{'objective': 'binary:logistic',\n",
       " 'use_label_encoder': None,\n",
       " 'base_score': None,\n",
       " 'booster': None,\n",
       " 'callbacks': None,\n",
       " 'colsample_bylevel': None,\n",
       " 'colsample_bynode': None,\n",
       " 'colsample_bytree': None,\n",
       " 'early_stopping_rounds': None,\n",
       " 'enable_categorical': False,\n",
       " 'eval_metric': None,\n",
       " 'feature_types': None,\n",
       " 'gamma': None,\n",
       " 'gpu_id': None,\n",
       " 'grow_policy': None,\n",
       " 'importance_type': None,\n",
       " 'interaction_constraints': None,\n",
       " 'learning_rate': None,\n",
       " 'max_bin': None,\n",
       " 'max_cat_threshold': None,\n",
       " 'max_cat_to_onehot': None,\n",
       " 'max_delta_step': None,\n",
       " 'max_depth': None,\n",
       " 'max_leaves': None,\n",
       " 'min_child_weight': None,\n",
       " 'missing': nan,\n",
       " 'monotone_constraints': None,\n",
       " 'n_estimators': 100,\n",
       " 'n_jobs': None,\n",
       " 'num_parallel_tree': None,\n",
       " 'predictor': None,\n",
       " 'random_state': None,\n",
       " 'reg_alpha': None,\n",
       " 'reg_lambda': None,\n",
       " 'sampling_method': None,\n",
       " 'scale_pos_weight': None,\n",
       " 'subsample': None,\n",
       " 'tree_method': None,\n",
       " 'validate_parameters': None,\n",
       " 'verbosity': None}"
      ]
     },
     "execution_count": 82,
     "metadata": {},
     "output_type": "execute_result"
    }
   ],
   "source": [
    "meta_model.get_params()"
   ]
  },
  {
   "cell_type": "code",
   "execution_count": 83,
   "id": "96976006",
   "metadata": {
    "colab": {
     "base_uri": "https://localhost:8080/",
     "height": 135
    },
    "id": "96976006",
    "outputId": "aa50a795-e677-4b84-ff48-17d442bb2f98"
   },
   "outputs": [
    {
     "name": "stdout",
     "output_type": "stream",
     "text": [
      "Fitting 5 folds for each of 10 candidates, totalling 50 fits\n"
     ]
    },
    {
     "data": {
      "text/html": [
       "<style>#sk-container-id-8 {color: black;background-color: white;}#sk-container-id-8 pre{padding: 0;}#sk-container-id-8 div.sk-toggleable {background-color: white;}#sk-container-id-8 label.sk-toggleable__label {cursor: pointer;display: block;width: 100%;margin-bottom: 0;padding: 0.3em;box-sizing: border-box;text-align: center;}#sk-container-id-8 label.sk-toggleable__label-arrow:before {content: \"▸\";float: left;margin-right: 0.25em;color: #696969;}#sk-container-id-8 label.sk-toggleable__label-arrow:hover:before {color: black;}#sk-container-id-8 div.sk-estimator:hover label.sk-toggleable__label-arrow:before {color: black;}#sk-container-id-8 div.sk-toggleable__content {max-height: 0;max-width: 0;overflow: hidden;text-align: left;background-color: #f0f8ff;}#sk-container-id-8 div.sk-toggleable__content pre {margin: 0.2em;color: black;border-radius: 0.25em;background-color: #f0f8ff;}#sk-container-id-8 input.sk-toggleable__control:checked~div.sk-toggleable__content {max-height: 200px;max-width: 100%;overflow: auto;}#sk-container-id-8 input.sk-toggleable__control:checked~label.sk-toggleable__label-arrow:before {content: \"▾\";}#sk-container-id-8 div.sk-estimator input.sk-toggleable__control:checked~label.sk-toggleable__label {background-color: #d4ebff;}#sk-container-id-8 div.sk-label input.sk-toggleable__control:checked~label.sk-toggleable__label {background-color: #d4ebff;}#sk-container-id-8 input.sk-hidden--visually {border: 0;clip: rect(1px 1px 1px 1px);clip: rect(1px, 1px, 1px, 1px);height: 1px;margin: -1px;overflow: hidden;padding: 0;position: absolute;width: 1px;}#sk-container-id-8 div.sk-estimator {font-family: monospace;background-color: #f0f8ff;border: 1px dotted black;border-radius: 0.25em;box-sizing: border-box;margin-bottom: 0.5em;}#sk-container-id-8 div.sk-estimator:hover {background-color: #d4ebff;}#sk-container-id-8 div.sk-parallel-item::after {content: \"\";width: 100%;border-bottom: 1px solid gray;flex-grow: 1;}#sk-container-id-8 div.sk-label:hover label.sk-toggleable__label {background-color: #d4ebff;}#sk-container-id-8 div.sk-serial::before {content: \"\";position: absolute;border-left: 1px solid gray;box-sizing: border-box;top: 0;bottom: 0;left: 50%;z-index: 0;}#sk-container-id-8 div.sk-serial {display: flex;flex-direction: column;align-items: center;background-color: white;padding-right: 0.2em;padding-left: 0.2em;position: relative;}#sk-container-id-8 div.sk-item {position: relative;z-index: 1;}#sk-container-id-8 div.sk-parallel {display: flex;align-items: stretch;justify-content: center;background-color: white;position: relative;}#sk-container-id-8 div.sk-item::before, #sk-container-id-8 div.sk-parallel-item::before {content: \"\";position: absolute;border-left: 1px solid gray;box-sizing: border-box;top: 0;bottom: 0;left: 50%;z-index: -1;}#sk-container-id-8 div.sk-parallel-item {display: flex;flex-direction: column;z-index: 1;position: relative;background-color: white;}#sk-container-id-8 div.sk-parallel-item:first-child::after {align-self: flex-end;width: 50%;}#sk-container-id-8 div.sk-parallel-item:last-child::after {align-self: flex-start;width: 50%;}#sk-container-id-8 div.sk-parallel-item:only-child::after {width: 0;}#sk-container-id-8 div.sk-dashed-wrapped {border: 1px dashed gray;margin: 0 0.4em 0.5em 0.4em;box-sizing: border-box;padding-bottom: 0.4em;background-color: white;}#sk-container-id-8 div.sk-label label {font-family: monospace;font-weight: bold;display: inline-block;line-height: 1.2em;}#sk-container-id-8 div.sk-label-container {text-align: center;}#sk-container-id-8 div.sk-container {/* jupyter's `normalize.less` sets `[hidden] { display: none; }` but bootstrap.min.css set `[hidden] { display: none !important; }` so we also need the `!important` here to be able to override the default hidden behavior on the sphinx rendered scikit-learn.org. See: https://github.com/scikit-learn/scikit-learn/issues/21755 */display: inline-block !important;position: relative;}#sk-container-id-8 div.sk-text-repr-fallback {display: none;}</style><div id=\"sk-container-id-8\" class=\"sk-top-container\"><div class=\"sk-text-repr-fallback\"><pre>RandomizedSearchCV(estimator=XGBClassifier(base_score=None, booster=None,\n",
       "                                           callbacks=None,\n",
       "                                           colsample_bylevel=None,\n",
       "                                           colsample_bynode=None,\n",
       "                                           colsample_bytree=None,\n",
       "                                           early_stopping_rounds=None,\n",
       "                                           enable_categorical=False,\n",
       "                                           eval_metric=None, feature_types=None,\n",
       "                                           gamma=None, gpu_id=None,\n",
       "                                           grow_policy=None,\n",
       "                                           importance_type=None,\n",
       "                                           interaction_constraints=None,\n",
       "                                           learning_rate=None...\n",
       "                                           monotone_constraints=None,\n",
       "                                           n_estimators=100, n_jobs=None,\n",
       "                                           num_parallel_tree=None,\n",
       "                                           predictor=None, random_state=None, ...),\n",
       "                   n_jobs=-1,\n",
       "                   param_distributions={&#x27;colsample_bytree&#x27;: [0.3, 0.4, 0.5,\n",
       "                                                             0.7],\n",
       "                                        &#x27;gamma&#x27;: [0.0, 0.1, 0.2, 0.3, 0.4],\n",
       "                                        &#x27;learning_rate&#x27;: [0.05, 0.1, 0.15, 0.2,\n",
       "                                                          0.25, 0.3],\n",
       "                                        &#x27;max_depth&#x27;: [3, 4, 5, 6, 8, 10, 12,\n",
       "                                                      15],\n",
       "                                        &#x27;min_child_weight&#x27;: [1, 3, 5, 7]},\n",
       "                   random_state=42, scoring=&#x27;f1&#x27;, verbose=2)</pre><b>In a Jupyter environment, please rerun this cell to show the HTML representation or trust the notebook. <br />On GitHub, the HTML representation is unable to render, please try loading this page with nbviewer.org.</b></div><div class=\"sk-container\" hidden><div class=\"sk-item sk-dashed-wrapped\"><div class=\"sk-label-container\"><div class=\"sk-label sk-toggleable\"><input class=\"sk-toggleable__control sk-hidden--visually\" id=\"sk-estimator-id-14\" type=\"checkbox\" ><label for=\"sk-estimator-id-14\" class=\"sk-toggleable__label sk-toggleable__label-arrow\">RandomizedSearchCV</label><div class=\"sk-toggleable__content\"><pre>RandomizedSearchCV(estimator=XGBClassifier(base_score=None, booster=None,\n",
       "                                           callbacks=None,\n",
       "                                           colsample_bylevel=None,\n",
       "                                           colsample_bynode=None,\n",
       "                                           colsample_bytree=None,\n",
       "                                           early_stopping_rounds=None,\n",
       "                                           enable_categorical=False,\n",
       "                                           eval_metric=None, feature_types=None,\n",
       "                                           gamma=None, gpu_id=None,\n",
       "                                           grow_policy=None,\n",
       "                                           importance_type=None,\n",
       "                                           interaction_constraints=None,\n",
       "                                           learning_rate=None...\n",
       "                                           monotone_constraints=None,\n",
       "                                           n_estimators=100, n_jobs=None,\n",
       "                                           num_parallel_tree=None,\n",
       "                                           predictor=None, random_state=None, ...),\n",
       "                   n_jobs=-1,\n",
       "                   param_distributions={&#x27;colsample_bytree&#x27;: [0.3, 0.4, 0.5,\n",
       "                                                             0.7],\n",
       "                                        &#x27;gamma&#x27;: [0.0, 0.1, 0.2, 0.3, 0.4],\n",
       "                                        &#x27;learning_rate&#x27;: [0.05, 0.1, 0.15, 0.2,\n",
       "                                                          0.25, 0.3],\n",
       "                                        &#x27;max_depth&#x27;: [3, 4, 5, 6, 8, 10, 12,\n",
       "                                                      15],\n",
       "                                        &#x27;min_child_weight&#x27;: [1, 3, 5, 7]},\n",
       "                   random_state=42, scoring=&#x27;f1&#x27;, verbose=2)</pre></div></div></div><div class=\"sk-parallel\"><div class=\"sk-parallel-item\"><div class=\"sk-item\"><div class=\"sk-label-container\"><div class=\"sk-label sk-toggleable\"><input class=\"sk-toggleable__control sk-hidden--visually\" id=\"sk-estimator-id-15\" type=\"checkbox\" ><label for=\"sk-estimator-id-15\" class=\"sk-toggleable__label sk-toggleable__label-arrow\">estimator: XGBClassifier</label><div class=\"sk-toggleable__content\"><pre>XGBClassifier(base_score=None, booster=None, callbacks=None,\n",
       "              colsample_bylevel=None, colsample_bynode=None,\n",
       "              colsample_bytree=None, early_stopping_rounds=None,\n",
       "              enable_categorical=False, eval_metric=None, feature_types=None,\n",
       "              gamma=None, gpu_id=None, grow_policy=None, importance_type=None,\n",
       "              interaction_constraints=None, learning_rate=None, max_bin=None,\n",
       "              max_cat_threshold=None, max_cat_to_onehot=None,\n",
       "              max_delta_step=None, max_depth=None, max_leaves=None,\n",
       "              min_child_weight=None, missing=nan, monotone_constraints=None,\n",
       "              n_estimators=100, n_jobs=None, num_parallel_tree=None,\n",
       "              predictor=None, random_state=None, ...)</pre></div></div></div><div class=\"sk-serial\"><div class=\"sk-item\"><div class=\"sk-estimator sk-toggleable\"><input class=\"sk-toggleable__control sk-hidden--visually\" id=\"sk-estimator-id-16\" type=\"checkbox\" ><label for=\"sk-estimator-id-16\" class=\"sk-toggleable__label sk-toggleable__label-arrow\">XGBClassifier</label><div class=\"sk-toggleable__content\"><pre>XGBClassifier(base_score=None, booster=None, callbacks=None,\n",
       "              colsample_bylevel=None, colsample_bynode=None,\n",
       "              colsample_bytree=None, early_stopping_rounds=None,\n",
       "              enable_categorical=False, eval_metric=None, feature_types=None,\n",
       "              gamma=None, gpu_id=None, grow_policy=None, importance_type=None,\n",
       "              interaction_constraints=None, learning_rate=None, max_bin=None,\n",
       "              max_cat_threshold=None, max_cat_to_onehot=None,\n",
       "              max_delta_step=None, max_depth=None, max_leaves=None,\n",
       "              min_child_weight=None, missing=nan, monotone_constraints=None,\n",
       "              n_estimators=100, n_jobs=None, num_parallel_tree=None,\n",
       "              predictor=None, random_state=None, ...)</pre></div></div></div></div></div></div></div></div></div></div>"
      ],
      "text/plain": [
       "RandomizedSearchCV(estimator=XGBClassifier(base_score=None, booster=None,\n",
       "                                           callbacks=None,\n",
       "                                           colsample_bylevel=None,\n",
       "                                           colsample_bynode=None,\n",
       "                                           colsample_bytree=None,\n",
       "                                           early_stopping_rounds=None,\n",
       "                                           enable_categorical=False,\n",
       "                                           eval_metric=None, feature_types=None,\n",
       "                                           gamma=None, gpu_id=None,\n",
       "                                           grow_policy=None,\n",
       "                                           importance_type=None,\n",
       "                                           interaction_constraints=None,\n",
       "                                           learning_rate=None...\n",
       "                                           monotone_constraints=None,\n",
       "                                           n_estimators=100, n_jobs=None,\n",
       "                                           num_parallel_tree=None,\n",
       "                                           predictor=None, random_state=None, ...),\n",
       "                   n_jobs=-1,\n",
       "                   param_distributions={'colsample_bytree': [0.3, 0.4, 0.5,\n",
       "                                                             0.7],\n",
       "                                        'gamma': [0.0, 0.1, 0.2, 0.3, 0.4],\n",
       "                                        'learning_rate': [0.05, 0.1, 0.15, 0.2,\n",
       "                                                          0.25, 0.3],\n",
       "                                        'max_depth': [3, 4, 5, 6, 8, 10, 12,\n",
       "                                                      15],\n",
       "                                        'min_child_weight': [1, 3, 5, 7]},\n",
       "                   random_state=42, scoring='f1', verbose=2)"
      ]
     },
     "execution_count": 83,
     "metadata": {},
     "output_type": "execute_result"
    }
   ],
   "source": [
    "#Tune the meta model\n",
    "param_grid = {'learning_rate': [0.05, 0.10, 0.15, 0.20, 0.25, 0.30],\n",
    "            'max_depth': [3, 4, 5, 6, 8, 10, 12, 15],\n",
    "            'min_child_weight': [1, 3, 5, 7],\n",
    "            'gamma': [0.0, 0.1, 0.2 , 0.3, 0.4],\n",
    "            'colsample_bytree': [0.3, 0.4, 0.5 , 0.7]}\n",
    "\n",
    "rs5 = RandomizedSearchCV(meta_model, param_grid, scoring='f1', verbose=2, random_state=42, n_jobs=-1)\n",
    "rs5.fit(Xval_meta,yval)"
   ]
  },
  {
   "cell_type": "code",
   "execution_count": 84,
   "id": "8823288a",
   "metadata": {
    "colab": {
     "base_uri": "https://localhost:8080/",
     "height": 248
    },
    "id": "8823288a",
    "outputId": "2f00cf16-7aa3-4768-caeb-8ca13cfa6609"
   },
   "outputs": [
    {
     "data": {
      "text/html": [
       "<style>#sk-container-id-9 {color: black;background-color: white;}#sk-container-id-9 pre{padding: 0;}#sk-container-id-9 div.sk-toggleable {background-color: white;}#sk-container-id-9 label.sk-toggleable__label {cursor: pointer;display: block;width: 100%;margin-bottom: 0;padding: 0.3em;box-sizing: border-box;text-align: center;}#sk-container-id-9 label.sk-toggleable__label-arrow:before {content: \"▸\";float: left;margin-right: 0.25em;color: #696969;}#sk-container-id-9 label.sk-toggleable__label-arrow:hover:before {color: black;}#sk-container-id-9 div.sk-estimator:hover label.sk-toggleable__label-arrow:before {color: black;}#sk-container-id-9 div.sk-toggleable__content {max-height: 0;max-width: 0;overflow: hidden;text-align: left;background-color: #f0f8ff;}#sk-container-id-9 div.sk-toggleable__content pre {margin: 0.2em;color: black;border-radius: 0.25em;background-color: #f0f8ff;}#sk-container-id-9 input.sk-toggleable__control:checked~div.sk-toggleable__content {max-height: 200px;max-width: 100%;overflow: auto;}#sk-container-id-9 input.sk-toggleable__control:checked~label.sk-toggleable__label-arrow:before {content: \"▾\";}#sk-container-id-9 div.sk-estimator input.sk-toggleable__control:checked~label.sk-toggleable__label {background-color: #d4ebff;}#sk-container-id-9 div.sk-label input.sk-toggleable__control:checked~label.sk-toggleable__label {background-color: #d4ebff;}#sk-container-id-9 input.sk-hidden--visually {border: 0;clip: rect(1px 1px 1px 1px);clip: rect(1px, 1px, 1px, 1px);height: 1px;margin: -1px;overflow: hidden;padding: 0;position: absolute;width: 1px;}#sk-container-id-9 div.sk-estimator {font-family: monospace;background-color: #f0f8ff;border: 1px dotted black;border-radius: 0.25em;box-sizing: border-box;margin-bottom: 0.5em;}#sk-container-id-9 div.sk-estimator:hover {background-color: #d4ebff;}#sk-container-id-9 div.sk-parallel-item::after {content: \"\";width: 100%;border-bottom: 1px solid gray;flex-grow: 1;}#sk-container-id-9 div.sk-label:hover label.sk-toggleable__label {background-color: #d4ebff;}#sk-container-id-9 div.sk-serial::before {content: \"\";position: absolute;border-left: 1px solid gray;box-sizing: border-box;top: 0;bottom: 0;left: 50%;z-index: 0;}#sk-container-id-9 div.sk-serial {display: flex;flex-direction: column;align-items: center;background-color: white;padding-right: 0.2em;padding-left: 0.2em;position: relative;}#sk-container-id-9 div.sk-item {position: relative;z-index: 1;}#sk-container-id-9 div.sk-parallel {display: flex;align-items: stretch;justify-content: center;background-color: white;position: relative;}#sk-container-id-9 div.sk-item::before, #sk-container-id-9 div.sk-parallel-item::before {content: \"\";position: absolute;border-left: 1px solid gray;box-sizing: border-box;top: 0;bottom: 0;left: 50%;z-index: -1;}#sk-container-id-9 div.sk-parallel-item {display: flex;flex-direction: column;z-index: 1;position: relative;background-color: white;}#sk-container-id-9 div.sk-parallel-item:first-child::after {align-self: flex-end;width: 50%;}#sk-container-id-9 div.sk-parallel-item:last-child::after {align-self: flex-start;width: 50%;}#sk-container-id-9 div.sk-parallel-item:only-child::after {width: 0;}#sk-container-id-9 div.sk-dashed-wrapped {border: 1px dashed gray;margin: 0 0.4em 0.5em 0.4em;box-sizing: border-box;padding-bottom: 0.4em;background-color: white;}#sk-container-id-9 div.sk-label label {font-family: monospace;font-weight: bold;display: inline-block;line-height: 1.2em;}#sk-container-id-9 div.sk-label-container {text-align: center;}#sk-container-id-9 div.sk-container {/* jupyter's `normalize.less` sets `[hidden] { display: none; }` but bootstrap.min.css set `[hidden] { display: none !important; }` so we also need the `!important` here to be able to override the default hidden behavior on the sphinx rendered scikit-learn.org. See: https://github.com/scikit-learn/scikit-learn/issues/21755 */display: inline-block !important;position: relative;}#sk-container-id-9 div.sk-text-repr-fallback {display: none;}</style><div id=\"sk-container-id-9\" class=\"sk-top-container\"><div class=\"sk-text-repr-fallback\"><pre>XGBClassifier(base_score=None, booster=None, callbacks=None,\n",
       "              colsample_bylevel=None, colsample_bynode=None,\n",
       "              colsample_bytree=0.7, early_stopping_rounds=None,\n",
       "              enable_categorical=False, eval_metric=None, feature_types=None,\n",
       "              gamma=0.3, gpu_id=None, grow_policy=None, importance_type=None,\n",
       "              interaction_constraints=None, learning_rate=0.1, max_bin=None,\n",
       "              max_cat_threshold=None, max_cat_to_onehot=None,\n",
       "              max_delta_step=None, max_depth=8, max_leaves=None,\n",
       "              min_child_weight=7, missing=nan, monotone_constraints=None,\n",
       "              n_estimators=100, n_jobs=None, num_parallel_tree=None,\n",
       "              predictor=None, random_state=None, ...)</pre><b>In a Jupyter environment, please rerun this cell to show the HTML representation or trust the notebook. <br />On GitHub, the HTML representation is unable to render, please try loading this page with nbviewer.org.</b></div><div class=\"sk-container\" hidden><div class=\"sk-item\"><div class=\"sk-estimator sk-toggleable\"><input class=\"sk-toggleable__control sk-hidden--visually\" id=\"sk-estimator-id-17\" type=\"checkbox\" checked><label for=\"sk-estimator-id-17\" class=\"sk-toggleable__label sk-toggleable__label-arrow\">XGBClassifier</label><div class=\"sk-toggleable__content\"><pre>XGBClassifier(base_score=None, booster=None, callbacks=None,\n",
       "              colsample_bylevel=None, colsample_bynode=None,\n",
       "              colsample_bytree=0.7, early_stopping_rounds=None,\n",
       "              enable_categorical=False, eval_metric=None, feature_types=None,\n",
       "              gamma=0.3, gpu_id=None, grow_policy=None, importance_type=None,\n",
       "              interaction_constraints=None, learning_rate=0.1, max_bin=None,\n",
       "              max_cat_threshold=None, max_cat_to_onehot=None,\n",
       "              max_delta_step=None, max_depth=8, max_leaves=None,\n",
       "              min_child_weight=7, missing=nan, monotone_constraints=None,\n",
       "              n_estimators=100, n_jobs=None, num_parallel_tree=None,\n",
       "              predictor=None, random_state=None, ...)</pre></div></div></div></div></div>"
      ],
      "text/plain": [
       "XGBClassifier(base_score=None, booster=None, callbacks=None,\n",
       "              colsample_bylevel=None, colsample_bynode=None,\n",
       "              colsample_bytree=0.7, early_stopping_rounds=None,\n",
       "              enable_categorical=False, eval_metric=None, feature_types=None,\n",
       "              gamma=0.3, gpu_id=None, grow_policy=None, importance_type=None,\n",
       "              interaction_constraints=None, learning_rate=0.1, max_bin=None,\n",
       "              max_cat_threshold=None, max_cat_to_onehot=None,\n",
       "              max_delta_step=None, max_depth=8, max_leaves=None,\n",
       "              min_child_weight=7, missing=nan, monotone_constraints=None,\n",
       "              n_estimators=100, n_jobs=None, num_parallel_tree=None,\n",
       "              predictor=None, random_state=None, ...)"
      ]
     },
     "execution_count": 84,
     "metadata": {},
     "output_type": "execute_result"
    }
   ],
   "source": [
    "meta_model = XGBClassifier(**rs5.best_params_)\n",
    "meta_model.fit(Xval_meta, yval)"
   ]
  },
  {
   "cell_type": "code",
   "execution_count": 85,
   "id": "a617f03e",
   "metadata": {
    "id": "a617f03e"
   },
   "outputs": [],
   "source": [
    "SVM_Pred2 = SVM.predict_proba(Xtest)\n",
    "KNN_Pred2 = KNN.predict_proba(Xtest)\n",
    "LR_Pred2 = LR.predict_proba(Xtest)\n",
    "forest_Pred2 = forest.predict_proba(Xtest)\n",
    "\n",
    "Xtest_meta = np.column_stack((SVM_Pred2, KNN_Pred2, LR_Pred2, forest_Pred2))"
   ]
  },
  {
   "cell_type": "code",
   "execution_count": 86,
   "id": "4373e062",
   "metadata": {
    "id": "4373e062"
   },
   "outputs": [],
   "source": [
    "y_pred = meta_model.predict(Xtest_meta)"
   ]
  },
  {
   "cell_type": "code",
   "execution_count": 87,
   "id": "aef2a2de",
   "metadata": {
    "colab": {
     "base_uri": "https://localhost:8080/"
    },
    "id": "aef2a2de",
    "outputId": "93a91c90-284c-49d4-91d6-fd8dd032b662"
   },
   "outputs": [
    {
     "name": "stdout",
     "output_type": "stream",
     "text": [
      "Train Accuracy: 0.8791666666666667, Test Accuracy: 0.6652719665271967\n"
     ]
    }
   ],
   "source": [
    "acc_train = accuracy_score(yval, meta_model.predict(Xval_meta))\n",
    "acc_test = accuracy_score(ytest, y_pred)\n",
    "\n",
    "print(f'Train Accuracy: {acc_train}, Test Accuracy: {acc_test}')"
   ]
  },
  {
   "cell_type": "code",
   "execution_count": 88,
   "id": "92a8b334",
   "metadata": {
    "colab": {
     "base_uri": "https://localhost:8080/",
     "height": 472
    },
    "id": "92a8b334",
    "outputId": "5e4a0b28-5991-4f30-dd61-3bde1cb68715"
   },
   "outputs": [
    {
     "data": {
      "image/png": "[encoded data removed]",
      "text/plain": [
       "<Figure size 640x480 with 2 Axes>"
      ]
     },
     "metadata": {},
     "output_type": "display_data"
    }
   ],
   "source": [
    "disp = ConfusionMatrixDisplay.from_estimator(\n",
    "        meta_model,\n",
    "        Xtest_meta,\n",
    "        ytest,\n",
    "        display_labels=meta_model.classes_,\n",
    "        cmap=plt.cm.Blues)\n",
    "disp.ax_.set_title('Confusion matrix')\n",
    "plt.show()"
   ]
  },
  {
   "cell_type": "code",
   "execution_count": 89,
   "id": "af517081",
   "metadata": {
    "colab": {
     "base_uri": "https://localhost:8080/",
     "height": 472
    },
    "id": "af517081",
    "outputId": "5ad21e32-adbe-43a2-95e1-8803cc2edb55"
   },
   "outputs": [
    {
     "data": {
      "image/png": "[encoded data removed]",
      "text/plain": [
       "<Figure size 640x480 with 1 Axes>"
      ]
     },
     "metadata": {},
     "output_type": "display_data"
    }
   ],
   "source": [
    "disp_roc = RocCurveDisplay.from_estimator(\n",
    "        meta_model,\n",
    "        Xtest_meta,\n",
    "        ytest,\n",
    "        name='Meta Model')\n",
    "disp_roc.ax_.set_title('ROC Curve')\n",
    "plt.plot([0,1], [0,1], linestyle='--')\n",
    "plt.show()"
   ]
  },
  {
   "cell_type": "code",
   "execution_count": 90,
   "id": "fb6ba892",
   "metadata": {
    "colab": {
     "base_uri": "https://localhost:8080/"
    },
    "id": "fb6ba892",
    "outputId": "d89c7e73-89b5-4b47-a313-ebd0c5face4e"
   },
   "outputs": [
    {
     "name": "stdout",
     "output_type": "stream",
     "text": [
      "XGBClassifier(base_score=None, booster=None, callbacks=None,\n",
      "              colsample_bylevel=None, colsample_bynode=None,\n",
      "              colsample_bytree=0.7, early_stopping_rounds=None,\n",
      "              enable_categorical=False, eval_metric=None, feature_types=None,\n",
      "              gamma=0.3, gpu_id=None, grow_policy=None, importance_type=None,\n",
      "              interaction_constraints=None, learning_rate=0.1, max_bin=None,\n",
      "              max_cat_threshold=None, max_cat_to_onehot=None,\n",
      "              max_delta_step=None, max_depth=8, max_leaves=None,\n",
      "              min_child_weight=7, missing=nan, monotone_constraints=None,\n",
      "              n_estimators=100, n_jobs=None, num_parallel_tree=None,\n",
      "              predictor=None, random_state=None, ...)\n",
      "Accuracy: 0.6652719665271967\n",
      "Precision: 0.5416666666666666\n",
      "Recall: 0.8478260869565217\n",
      "F1 Score: 0.6610169491525423\n",
      "ROC AUC Score: 0.7765454007690032\n",
      "\n",
      "Confusion Matrix:\n",
      " [[81 66]\n",
      " [14 78]]\n",
      "\n",
      "Classification Report:\n",
      "               precision    recall  f1-score   support\n",
      "\n",
      "           0       0.85      0.55      0.67       147\n",
      "           1       0.54      0.85      0.66        92\n",
      "\n",
      "    accuracy                           0.67       239\n",
      "   macro avg       0.70      0.70      0.67       239\n",
      "weighted avg       0.73      0.67      0.67       239\n",
      "\n"
     ]
    }
   ],
   "source": [
    "evaluate_model(meta_model, Xtest_meta, ytest)"
   ]
  },
  {
   "cell_type": "code",
   "execution_count": 101,
   "id": "tM2r2nZjbsXm",
   "metadata": {
    "id": "tM2r2nZjbsXm"
   },
   "outputs": [],
   "source": [
    "Backtesting = data.iloc[:239]"
   ]
  },
  {
   "cell_type": "code",
   "execution_count": 102,
   "id": "ebb77d24",
   "metadata": {},
   "outputs": [
    {
     "name": "stderr",
     "output_type": "stream",
     "text": [
      "/var/folders/n9/chxsdfg102q6fgpf3t0rq8q00000gn/T/ipykernel_20479/2522725253.py:1: SettingWithCopyWarning: \n",
      "A value is trying to be set on a copy of a slice from a DataFrame.\n",
      "Try using .loc[row_indexer,col_indexer] = value instead\n",
      "\n",
      "See the caveats in the documentation: https://pandas.pydata.org/pandas-docs/stable/user_guide/indexing.html#returning-a-view-versus-a-copy\n",
      "  Backtesting['Model'] = y_pred\n"
     ]
    }
   ],
   "source": [
    "Backtesting['Model'] = y_pred"
   ]
  },
  {
   "cell_type": "code",
   "execution_count": 107,
   "id": "71fd62ca",
   "metadata": {},
   "outputs": [
    {
     "name": "stderr",
     "output_type": "stream",
     "text": [
      "/var/folders/n9/chxsdfg102q6fgpf3t0rq8q00000gn/T/ipykernel_20479/3085208712.py:1: SettingWithCopyWarning: \n",
      "A value is trying to be set on a copy of a slice from a DataFrame.\n",
      "Try using .loc[row_indexer,col_indexer] = value instead\n",
      "\n",
      "See the caveats in the documentation: https://pandas.pydata.org/pandas-docs/stable/user_guide/indexing.html#returning-a-view-versus-a-copy\n",
      "  Backtesting['Close Price'] = df['Close']\n"
     ]
    }
   ],
   "source": [
    "Backtesting['Close Price'] = df['Close']"
   ]
  },
  {
   "cell_type": "code",
   "execution_count": 108,
   "id": "f596b896",
   "metadata": {},
   "outputs": [
    {
     "data": {
      "text/html": [
       "<div>\n",
       "<style scoped>\n",
       "    .dataframe tbody tr th:only-of-type {\n",
       "        vertical-align: middle;\n",
       "    }\n",
       "\n",
       "    .dataframe tbody tr th {\n",
       "        vertical-align: top;\n",
       "    }\n",
       "\n",
       "    .dataframe thead th {\n",
       "        text-align: right;\n",
       "    }\n",
       "</style>\n",
       "<table border=\"1\" class=\"dataframe\">\n",
       "  <thead>\n",
       "    <tr style=\"text-align: right;\">\n",
       "      <th></th>\n",
       "      <th>ABER_ZG_5_15</th>\n",
       "      <th>ABER_SG_5_15</th>\n",
       "      <th>ABER_XG_5_15</th>\n",
       "      <th>ABER_ATR_5_15</th>\n",
       "      <th>ACCBL_20</th>\n",
       "      <th>ACCBM_20</th>\n",
       "      <th>ACCBU_20</th>\n",
       "      <th>AD</th>\n",
       "      <th>ADOSC_3_10</th>\n",
       "      <th>ADX_14</th>\n",
       "      <th>...</th>\n",
       "      <th>VTXM_14</th>\n",
       "      <th>VWAP_D</th>\n",
       "      <th>VWMA_10</th>\n",
       "      <th>WCP</th>\n",
       "      <th>WILLR_14</th>\n",
       "      <th>WMA_10</th>\n",
       "      <th>ZL_EMA_10</th>\n",
       "      <th>ZS_30</th>\n",
       "      <th>Model</th>\n",
       "      <th>Close Price</th>\n",
       "    </tr>\n",
       "    <tr>\n",
       "      <th>Date</th>\n",
       "      <th></th>\n",
       "      <th></th>\n",
       "      <th></th>\n",
       "      <th></th>\n",
       "      <th></th>\n",
       "      <th></th>\n",
       "      <th></th>\n",
       "      <th></th>\n",
       "      <th></th>\n",
       "      <th></th>\n",
       "      <th></th>\n",
       "      <th></th>\n",
       "      <th></th>\n",
       "      <th></th>\n",
       "      <th></th>\n",
       "      <th></th>\n",
       "      <th></th>\n",
       "      <th></th>\n",
       "      <th></th>\n",
       "      <th></th>\n",
       "      <th></th>\n",
       "    </tr>\n",
       "  </thead>\n",
       "  <tbody>\n",
       "    <tr>\n",
       "      <th>2014-05-13</th>\n",
       "      <td>87.166001</td>\n",
       "      <td>88.416988</td>\n",
       "      <td>85.915014</td>\n",
       "      <td>1.250987</td>\n",
       "      <td>83.975365</td>\n",
       "      <td>86.9810</td>\n",
       "      <td>89.730368</td>\n",
       "      <td>1.585709e+08</td>\n",
       "      <td>2.594460e+07</td>\n",
       "      <td>17.134584</td>\n",
       "      <td>...</td>\n",
       "      <td>0.927781</td>\n",
       "      <td>88.340001</td>\n",
       "      <td>87.265404</td>\n",
       "      <td>88.327501</td>\n",
       "      <td>-9.142848</td>\n",
       "      <td>87.401819</td>\n",
       "      <td>87.678440</td>\n",
       "      <td>1.117167</td>\n",
       "      <td>1</td>\n",
       "      <td>88.290001</td>\n",
       "    </tr>\n",
       "    <tr>\n",
       "      <th>2014-05-14</th>\n",
       "      <td>87.474668</td>\n",
       "      <td>88.690922</td>\n",
       "      <td>86.258414</td>\n",
       "      <td>1.216254</td>\n",
       "      <td>84.342643</td>\n",
       "      <td>87.1200</td>\n",
       "      <td>89.715145</td>\n",
       "      <td>1.473245e+08</td>\n",
       "      <td>2.004845e+07</td>\n",
       "      <td>16.155232</td>\n",
       "      <td>...</td>\n",
       "      <td>0.979805</td>\n",
       "      <td>87.933334</td>\n",
       "      <td>87.291810</td>\n",
       "      <td>87.907501</td>\n",
       "      <td>-22.285679</td>\n",
       "      <td>87.486365</td>\n",
       "      <td>87.951451</td>\n",
       "      <td>0.825349</td>\n",
       "      <td>0</td>\n",
       "      <td>87.830002</td>\n",
       "    </tr>\n",
       "    <tr>\n",
       "      <th>2014-05-15</th>\n",
       "      <td>87.582668</td>\n",
       "      <td>88.809838</td>\n",
       "      <td>86.355497</td>\n",
       "      <td>1.227170</td>\n",
       "      <td>84.388542</td>\n",
       "      <td>87.1680</td>\n",
       "      <td>89.833541</td>\n",
       "      <td>1.360802e+08</td>\n",
       "      <td>1.223609e+07</td>\n",
       "      <td>16.094198</td>\n",
       "      <td>...</td>\n",
       "      <td>0.965239</td>\n",
       "      <td>87.226667</td>\n",
       "      <td>87.236773</td>\n",
       "      <td>87.205000</td>\n",
       "      <td>-42.000035</td>\n",
       "      <td>87.437455</td>\n",
       "      <td>87.865732</td>\n",
       "      <td>0.333878</td>\n",
       "      <td>0</td>\n",
       "      <td>87.139999</td>\n",
       "    </tr>\n",
       "    <tr>\n",
       "      <th>2014-05-16</th>\n",
       "      <td>87.756001</td>\n",
       "      <td>88.976027</td>\n",
       "      <td>86.535975</td>\n",
       "      <td>1.220026</td>\n",
       "      <td>84.427180</td>\n",
       "      <td>87.2435</td>\n",
       "      <td>89.902181</td>\n",
       "      <td>1.969193e+08</td>\n",
       "      <td>2.728565e+07</td>\n",
       "      <td>16.037539</td>\n",
       "      <td>...</td>\n",
       "      <td>0.972423</td>\n",
       "      <td>87.370000</td>\n",
       "      <td>87.286350</td>\n",
       "      <td>87.455000</td>\n",
       "      <td>-29.220811</td>\n",
       "      <td>87.501455</td>\n",
       "      <td>87.742871</td>\n",
       "      <td>0.933547</td>\n",
       "      <td>1</td>\n",
       "      <td>87.709999</td>\n",
       "    </tr>\n",
       "    <tr>\n",
       "      <th>2014-05-19</th>\n",
       "      <td>87.779334</td>\n",
       "      <td>88.995358</td>\n",
       "      <td>86.563310</td>\n",
       "      <td>1.216024</td>\n",
       "      <td>84.460538</td>\n",
       "      <td>87.3175</td>\n",
       "      <td>90.015538</td>\n",
       "      <td>2.212081e+08</td>\n",
       "      <td>3.869002e+07</td>\n",
       "      <td>15.263639</td>\n",
       "      <td>...</td>\n",
       "      <td>0.940832</td>\n",
       "      <td>88.026667</td>\n",
       "      <td>87.319668</td>\n",
       "      <td>88.100000</td>\n",
       "      <td>-9.415609</td>\n",
       "      <td>87.672364</td>\n",
       "      <td>87.853257</td>\n",
       "      <td>1.412997</td>\n",
       "      <td>0</td>\n",
       "      <td>88.320000</td>\n",
       "    </tr>\n",
       "    <tr>\n",
       "      <th>...</th>\n",
       "      <td>...</td>\n",
       "      <td>...</td>\n",
       "      <td>...</td>\n",
       "      <td>...</td>\n",
       "      <td>...</td>\n",
       "      <td>...</td>\n",
       "      <td>...</td>\n",
       "      <td>...</td>\n",
       "      <td>...</td>\n",
       "      <td>...</td>\n",
       "      <td>...</td>\n",
       "      <td>...</td>\n",
       "      <td>...</td>\n",
       "      <td>...</td>\n",
       "      <td>...</td>\n",
       "      <td>...</td>\n",
       "      <td>...</td>\n",
       "      <td>...</td>\n",
       "      <td>...</td>\n",
       "      <td>...</td>\n",
       "      <td>...</td>\n",
       "    </tr>\n",
       "    <tr>\n",
       "      <th>2015-04-17</th>\n",
       "      <td>107.289333</td>\n",
       "      <td>108.445742</td>\n",
       "      <td>106.132924</td>\n",
       "      <td>1.156409</td>\n",
       "      <td>104.080104</td>\n",
       "      <td>106.6515</td>\n",
       "      <td>109.360095</td>\n",
       "      <td>1.137623e+09</td>\n",
       "      <td>6.707728e+06</td>\n",
       "      <td>14.679566</td>\n",
       "      <td>...</td>\n",
       "      <td>0.870229</td>\n",
       "      <td>106.170001</td>\n",
       "      <td>106.821460</td>\n",
       "      <td>106.130001</td>\n",
       "      <td>-58.663232</td>\n",
       "      <td>107.138000</td>\n",
       "      <td>107.111384</td>\n",
       "      <td>-0.583429</td>\n",
       "      <td>0</td>\n",
       "      <td>106.010002</td>\n",
       "    </tr>\n",
       "    <tr>\n",
       "      <th>2015-04-20</th>\n",
       "      <td>107.200666</td>\n",
       "      <td>108.398648</td>\n",
       "      <td>106.002685</td>\n",
       "      <td>1.197981</td>\n",
       "      <td>103.907236</td>\n",
       "      <td>106.6050</td>\n",
       "      <td>109.369728</td>\n",
       "      <td>1.158042e+09</td>\n",
       "      <td>1.009960e+07</td>\n",
       "      <td>14.136894</td>\n",
       "      <td>...</td>\n",
       "      <td>0.848148</td>\n",
       "      <td>107.296666</td>\n",
       "      <td>107.001198</td>\n",
       "      <td>107.372499</td>\n",
       "      <td>-19.306896</td>\n",
       "      <td>107.253091</td>\n",
       "      <td>107.278405</td>\n",
       "      <td>0.841712</td>\n",
       "      <td>0</td>\n",
       "      <td>107.599998</td>\n",
       "    </tr>\n",
       "    <tr>\n",
       "      <th>2015-04-21</th>\n",
       "      <td>107.400000</td>\n",
       "      <td>108.572116</td>\n",
       "      <td>106.227884</td>\n",
       "      <td>1.172116</td>\n",
       "      <td>103.890731</td>\n",
       "      <td>106.5920</td>\n",
       "      <td>109.350724</td>\n",
       "      <td>1.147610e+09</td>\n",
       "      <td>7.249795e+06</td>\n",
       "      <td>13.141368</td>\n",
       "      <td>...</td>\n",
       "      <td>0.796845</td>\n",
       "      <td>108.133334</td>\n",
       "      <td>107.195980</td>\n",
       "      <td>108.115000</td>\n",
       "      <td>-8.599643</td>\n",
       "      <td>107.422363</td>\n",
       "      <td>107.460513</td>\n",
       "      <td>1.231077</td>\n",
       "      <td>1</td>\n",
       "      <td>108.059998</td>\n",
       "    </tr>\n",
       "    <tr>\n",
       "      <th>2015-04-22</th>\n",
       "      <td>107.526000</td>\n",
       "      <td>108.699309</td>\n",
       "      <td>106.352692</td>\n",
       "      <td>1.173309</td>\n",
       "      <td>103.848510</td>\n",
       "      <td>106.6280</td>\n",
       "      <td>109.381006</td>\n",
       "      <td>1.162557e+09</td>\n",
       "      <td>1.018057e+07</td>\n",
       "      <td>12.553873</td>\n",
       "      <td>...</td>\n",
       "      <td>0.704243</td>\n",
       "      <td>108.373334</td>\n",
       "      <td>107.386691</td>\n",
       "      <td>108.442501</td>\n",
       "      <td>-4.008911</td>\n",
       "      <td>107.657818</td>\n",
       "      <td>107.851329</td>\n",
       "      <td>1.612080</td>\n",
       "      <td>1</td>\n",
       "      <td>108.650002</td>\n",
       "    </tr>\n",
       "    <tr>\n",
       "      <th>2015-04-23</th>\n",
       "      <td>107.786001</td>\n",
       "      <td>108.967089</td>\n",
       "      <td>106.604912</td>\n",
       "      <td>1.181088</td>\n",
       "      <td>104.136657</td>\n",
       "      <td>106.8080</td>\n",
       "      <td>109.296653</td>\n",
       "      <td>1.169639e+09</td>\n",
       "      <td>1.270753e+07</td>\n",
       "      <td>12.553398</td>\n",
       "      <td>...</td>\n",
       "      <td>0.661585</td>\n",
       "      <td>108.956668</td>\n",
       "      <td>107.595096</td>\n",
       "      <td>108.982500</td>\n",
       "      <td>-9.405084</td>\n",
       "      <td>107.931272</td>\n",
       "      <td>108.625632</td>\n",
       "      <td>1.808147</td>\n",
       "      <td>0</td>\n",
       "      <td>109.059998</td>\n",
       "    </tr>\n",
       "  </tbody>\n",
       "</table>\n",
       "<p>239 rows × 163 columns</p>\n",
       "</div>"
      ],
      "text/plain": [
       "            ABER_ZG_5_15  ABER_SG_5_15  ABER_XG_5_15  ABER_ATR_5_15  \\\n",
       "Date                                                                  \n",
       "2014-05-13     87.166001     88.416988     85.915014       1.250987   \n",
       "2014-05-14     87.474668     88.690922     86.258414       1.216254   \n",
       "2014-05-15     87.582668     88.809838     86.355497       1.227170   \n",
       "2014-05-16     87.756001     88.976027     86.535975       1.220026   \n",
       "2014-05-19     87.779334     88.995358     86.563310       1.216024   \n",
       "...                  ...           ...           ...            ...   \n",
       "2015-04-17    107.289333    108.445742    106.132924       1.156409   \n",
       "2015-04-20    107.200666    108.398648    106.002685       1.197981   \n",
       "2015-04-21    107.400000    108.572116    106.227884       1.172116   \n",
       "2015-04-22    107.526000    108.699309    106.352692       1.173309   \n",
       "2015-04-23    107.786001    108.967089    106.604912       1.181088   \n",
       "\n",
       "              ACCBL_20  ACCBM_20    ACCBU_20            AD    ADOSC_3_10  \\\n",
       "Date                                                                       \n",
       "2014-05-13   83.975365   86.9810   89.730368  1.585709e+08  2.594460e+07   \n",
       "2014-05-14   84.342643   87.1200   89.715145  1.473245e+08  2.004845e+07   \n",
       "2014-05-15   84.388542   87.1680   89.833541  1.360802e+08  1.223609e+07   \n",
       "2014-05-16   84.427180   87.2435   89.902181  1.969193e+08  2.728565e+07   \n",
       "2014-05-19   84.460538   87.3175   90.015538  2.212081e+08  3.869002e+07   \n",
       "...                ...       ...         ...           ...           ...   \n",
       "2015-04-17  104.080104  106.6515  109.360095  1.137623e+09  6.707728e+06   \n",
       "2015-04-20  103.907236  106.6050  109.369728  1.158042e+09  1.009960e+07   \n",
       "2015-04-21  103.890731  106.5920  109.350724  1.147610e+09  7.249795e+06   \n",
       "2015-04-22  103.848510  106.6280  109.381006  1.162557e+09  1.018057e+07   \n",
       "2015-04-23  104.136657  106.8080  109.296653  1.169639e+09  1.270753e+07   \n",
       "\n",
       "               ADX_14  ...   VTXM_14      VWAP_D     VWMA_10         WCP  \\\n",
       "Date                   ...                                                 \n",
       "2014-05-13  17.134584  ...  0.927781   88.340001   87.265404   88.327501   \n",
       "2014-05-14  16.155232  ...  0.979805   87.933334   87.291810   87.907501   \n",
       "2014-05-15  16.094198  ...  0.965239   87.226667   87.236773   87.205000   \n",
       "2014-05-16  16.037539  ...  0.972423   87.370000   87.286350   87.455000   \n",
       "2014-05-19  15.263639  ...  0.940832   88.026667   87.319668   88.100000   \n",
       "...               ...  ...       ...         ...         ...         ...   \n",
       "2015-04-17  14.679566  ...  0.870229  106.170001  106.821460  106.130001   \n",
       "2015-04-20  14.136894  ...  0.848148  107.296666  107.001198  107.372499   \n",
       "2015-04-21  13.141368  ...  0.796845  108.133334  107.195980  108.115000   \n",
       "2015-04-22  12.553873  ...  0.704243  108.373334  107.386691  108.442501   \n",
       "2015-04-23  12.553398  ...  0.661585  108.956668  107.595096  108.982500   \n",
       "\n",
       "             WILLR_14      WMA_10   ZL_EMA_10     ZS_30  Model  Close Price  \n",
       "Date                                                                         \n",
       "2014-05-13  -9.142848   87.401819   87.678440  1.117167      1    88.290001  \n",
       "2014-05-14 -22.285679   87.486365   87.951451  0.825349      0    87.830002  \n",
       "2014-05-15 -42.000035   87.437455   87.865732  0.333878      0    87.139999  \n",
       "2014-05-16 -29.220811   87.501455   87.742871  0.933547      1    87.709999  \n",
       "2014-05-19  -9.415609   87.672364   87.853257  1.412997      0    88.320000  \n",
       "...               ...         ...         ...       ...    ...          ...  \n",
       "2015-04-17 -58.663232  107.138000  107.111384 -0.583429      0   106.010002  \n",
       "2015-04-20 -19.306896  107.253091  107.278405  0.841712      0   107.599998  \n",
       "2015-04-21  -8.599643  107.422363  107.460513  1.231077      1   108.059998  \n",
       "2015-04-22  -4.008911  107.657818  107.851329  1.612080      1   108.650002  \n",
       "2015-04-23  -9.405084  107.931272  108.625632  1.808147      0   109.059998  \n",
       "\n",
       "[239 rows x 163 columns]"
      ]
     },
     "execution_count": 108,
     "metadata": {},
     "output_type": "execute_result"
    }
   ],
   "source": [
    "Backtesting"
   ]
  },
  {
   "cell_type": "code",
   "execution_count": 125,
   "id": "2774b95d",
   "metadata": {},
   "outputs": [],
   "source": [
    "S = Backtesting.loc[Backtesting['Model'] == 1]"
   ]
  },
  {
   "cell_type": "code",
   "execution_count": 126,
   "id": "de2ec4f8",
   "metadata": {},
   "outputs": [
    {
     "data": {
      "text/html": [
       "<div>\n",
       "<style scoped>\n",
       "    .dataframe tbody tr th:only-of-type {\n",
       "        vertical-align: middle;\n",
       "    }\n",
       "\n",
       "    .dataframe tbody tr th {\n",
       "        vertical-align: top;\n",
       "    }\n",
       "\n",
       "    .dataframe thead th {\n",
       "        text-align: right;\n",
       "    }\n",
       "</style>\n",
       "<table border=\"1\" class=\"dataframe\">\n",
       "  <thead>\n",
       "    <tr style=\"text-align: right;\">\n",
       "      <th></th>\n",
       "      <th>ABER_ZG_5_15</th>\n",
       "      <th>ABER_SG_5_15</th>\n",
       "      <th>ABER_XG_5_15</th>\n",
       "      <th>ABER_ATR_5_15</th>\n",
       "      <th>ACCBL_20</th>\n",
       "      <th>ACCBM_20</th>\n",
       "      <th>ACCBU_20</th>\n",
       "      <th>AD</th>\n",
       "      <th>ADOSC_3_10</th>\n",
       "      <th>ADX_14</th>\n",
       "      <th>...</th>\n",
       "      <th>VTXM_14</th>\n",
       "      <th>VWAP_D</th>\n",
       "      <th>VWMA_10</th>\n",
       "      <th>WCP</th>\n",
       "      <th>WILLR_14</th>\n",
       "      <th>WMA_10</th>\n",
       "      <th>ZL_EMA_10</th>\n",
       "      <th>ZS_30</th>\n",
       "      <th>Model</th>\n",
       "      <th>Close Price</th>\n",
       "    </tr>\n",
       "    <tr>\n",
       "      <th>Date</th>\n",
       "      <th></th>\n",
       "      <th></th>\n",
       "      <th></th>\n",
       "      <th></th>\n",
       "      <th></th>\n",
       "      <th></th>\n",
       "      <th></th>\n",
       "      <th></th>\n",
       "      <th></th>\n",
       "      <th></th>\n",
       "      <th></th>\n",
       "      <th></th>\n",
       "      <th></th>\n",
       "      <th></th>\n",
       "      <th></th>\n",
       "      <th></th>\n",
       "      <th></th>\n",
       "      <th></th>\n",
       "      <th></th>\n",
       "      <th></th>\n",
       "      <th></th>\n",
       "    </tr>\n",
       "  </thead>\n",
       "  <tbody>\n",
       "    <tr>\n",
       "      <th>2014-05-13</th>\n",
       "      <td>87.166001</td>\n",
       "      <td>88.416988</td>\n",
       "      <td>85.915014</td>\n",
       "      <td>1.250987</td>\n",
       "      <td>83.975365</td>\n",
       "      <td>86.9810</td>\n",
       "      <td>89.730368</td>\n",
       "      <td>1.585709e+08</td>\n",
       "      <td>2.594460e+07</td>\n",
       "      <td>17.134584</td>\n",
       "      <td>...</td>\n",
       "      <td>0.927781</td>\n",
       "      <td>88.340001</td>\n",
       "      <td>87.265404</td>\n",
       "      <td>88.327501</td>\n",
       "      <td>-9.142848</td>\n",
       "      <td>87.401819</td>\n",
       "      <td>87.678440</td>\n",
       "      <td>1.117167</td>\n",
       "      <td>1</td>\n",
       "      <td>88.290001</td>\n",
       "    </tr>\n",
       "    <tr>\n",
       "      <th>2014-05-16</th>\n",
       "      <td>87.756001</td>\n",
       "      <td>88.976027</td>\n",
       "      <td>86.535975</td>\n",
       "      <td>1.220026</td>\n",
       "      <td>84.427180</td>\n",
       "      <td>87.2435</td>\n",
       "      <td>89.902181</td>\n",
       "      <td>1.969193e+08</td>\n",
       "      <td>2.728565e+07</td>\n",
       "      <td>16.037539</td>\n",
       "      <td>...</td>\n",
       "      <td>0.972423</td>\n",
       "      <td>87.370000</td>\n",
       "      <td>87.286350</td>\n",
       "      <td>87.455000</td>\n",
       "      <td>-29.220811</td>\n",
       "      <td>87.501455</td>\n",
       "      <td>87.742871</td>\n",
       "      <td>0.933547</td>\n",
       "      <td>1</td>\n",
       "      <td>87.709999</td>\n",
       "    </tr>\n",
       "    <tr>\n",
       "      <th>2014-05-27</th>\n",
       "      <td>89.247333</td>\n",
       "      <td>90.369406</td>\n",
       "      <td>88.125261</td>\n",
       "      <td>1.122073</td>\n",
       "      <td>85.312597</td>\n",
       "      <td>87.9380</td>\n",
       "      <td>90.282598</td>\n",
       "      <td>3.027974e+08</td>\n",
       "      <td>5.381826e+07</td>\n",
       "      <td>14.095907</td>\n",
       "      <td>...</td>\n",
       "      <td>0.819959</td>\n",
       "      <td>90.739998</td>\n",
       "      <td>88.391091</td>\n",
       "      <td>90.804998</td>\n",
       "      <td>-0.364238</td>\n",
       "      <td>89.099090</td>\n",
       "      <td>90.150345</td>\n",
       "      <td>2.815790</td>\n",
       "      <td>1</td>\n",
       "      <td>91.000000</td>\n",
       "    </tr>\n",
       "    <tr>\n",
       "      <th>2014-05-30</th>\n",
       "      <td>90.710000</td>\n",
       "      <td>91.726463</td>\n",
       "      <td>89.693536</td>\n",
       "      <td>1.016464</td>\n",
       "      <td>86.047535</td>\n",
       "      <td>88.4945</td>\n",
       "      <td>90.700032</td>\n",
       "      <td>3.297771e+08</td>\n",
       "      <td>4.881899e+07</td>\n",
       "      <td>17.077991</td>\n",
       "      <td>...</td>\n",
       "      <td>0.659437</td>\n",
       "      <td>91.196665</td>\n",
       "      <td>89.394344</td>\n",
       "      <td>91.224998</td>\n",
       "      <td>-2.874734</td>\n",
       "      <td>90.303636</td>\n",
       "      <td>91.398304</td>\n",
       "      <td>2.240411</td>\n",
       "      <td>1</td>\n",
       "      <td>91.309998</td>\n",
       "    </tr>\n",
       "    <tr>\n",
       "      <th>2014-06-02</th>\n",
       "      <td>91.003333</td>\n",
       "      <td>92.005366</td>\n",
       "      <td>90.001300</td>\n",
       "      <td>1.002033</td>\n",
       "      <td>86.218494</td>\n",
       "      <td>88.6810</td>\n",
       "      <td>90.863491</td>\n",
       "      <td>3.434615e+08</td>\n",
       "      <td>4.950034e+07</td>\n",
       "      <td>17.772598</td>\n",
       "      <td>...</td>\n",
       "      <td>0.732823</td>\n",
       "      <td>91.100001</td>\n",
       "      <td>89.937421</td>\n",
       "      <td>91.130001</td>\n",
       "      <td>-4.722710</td>\n",
       "      <td>90.592546</td>\n",
       "      <td>91.405885</td>\n",
       "      <td>1.973254</td>\n",
       "      <td>1</td>\n",
       "      <td>91.220001</td>\n",
       "    </tr>\n",
       "    <tr>\n",
       "      <th>...</th>\n",
       "      <td>...</td>\n",
       "      <td>...</td>\n",
       "      <td>...</td>\n",
       "      <td>...</td>\n",
       "      <td>...</td>\n",
       "      <td>...</td>\n",
       "      <td>...</td>\n",
       "      <td>...</td>\n",
       "      <td>...</td>\n",
       "      <td>...</td>\n",
       "      <td>...</td>\n",
       "      <td>...</td>\n",
       "      <td>...</td>\n",
       "      <td>...</td>\n",
       "      <td>...</td>\n",
       "      <td>...</td>\n",
       "      <td>...</td>\n",
       "      <td>...</td>\n",
       "      <td>...</td>\n",
       "      <td>...</td>\n",
       "      <td>...</td>\n",
       "    </tr>\n",
       "    <tr>\n",
       "      <th>2015-04-14</th>\n",
       "      <td>107.154667</td>\n",
       "      <td>108.300505</td>\n",
       "      <td>106.008828</td>\n",
       "      <td>1.145838</td>\n",
       "      <td>103.957438</td>\n",
       "      <td>106.7180</td>\n",
       "      <td>109.522430</td>\n",
       "      <td>1.142027e+09</td>\n",
       "      <td>1.149186e+07</td>\n",
       "      <td>16.180392</td>\n",
       "      <td>...</td>\n",
       "      <td>1.067091</td>\n",
       "      <td>107.136665</td>\n",
       "      <td>106.282909</td>\n",
       "      <td>107.144999</td>\n",
       "      <td>-29.227035</td>\n",
       "      <td>106.836546</td>\n",
       "      <td>107.544434</td>\n",
       "      <td>0.297626</td>\n",
       "      <td>1</td>\n",
       "      <td>107.169998</td>\n",
       "    </tr>\n",
       "    <tr>\n",
       "      <th>2015-04-15</th>\n",
       "      <td>107.419333</td>\n",
       "      <td>108.548782</td>\n",
       "      <td>106.289884</td>\n",
       "      <td>1.129449</td>\n",
       "      <td>104.028335</td>\n",
       "      <td>106.7665</td>\n",
       "      <td>109.560829</td>\n",
       "      <td>1.150197e+09</td>\n",
       "      <td>1.246792e+07</td>\n",
       "      <td>15.273543</td>\n",
       "      <td>...</td>\n",
       "      <td>1.000649</td>\n",
       "      <td>107.743332</td>\n",
       "      <td>106.521898</td>\n",
       "      <td>107.767498</td>\n",
       "      <td>-13.043502</td>\n",
       "      <td>107.100182</td>\n",
       "      <td>107.694536</td>\n",
       "      <td>0.903130</td>\n",
       "      <td>1</td>\n",
       "      <td>107.839996</td>\n",
       "    </tr>\n",
       "    <tr>\n",
       "      <th>2015-04-16</th>\n",
       "      <td>107.558000</td>\n",
       "      <td>108.644152</td>\n",
       "      <td>106.471847</td>\n",
       "      <td>1.086152</td>\n",
       "      <td>104.284302</td>\n",
       "      <td>106.7550</td>\n",
       "      <td>109.341793</td>\n",
       "      <td>1.153571e+09</td>\n",
       "      <td>1.280739e+07</td>\n",
       "      <td>14.431470</td>\n",
       "      <td>...</td>\n",
       "      <td>0.840610</td>\n",
       "      <td>107.656667</td>\n",
       "      <td>106.846157</td>\n",
       "      <td>107.665001</td>\n",
       "      <td>-17.079076</td>\n",
       "      <td>107.295818</td>\n",
       "      <td>107.682803</td>\n",
       "      <td>0.817538</td>\n",
       "      <td>1</td>\n",
       "      <td>107.690002</td>\n",
       "    </tr>\n",
       "    <tr>\n",
       "      <th>2015-04-21</th>\n",
       "      <td>107.400000</td>\n",
       "      <td>108.572116</td>\n",
       "      <td>106.227884</td>\n",
       "      <td>1.172116</td>\n",
       "      <td>103.890731</td>\n",
       "      <td>106.5920</td>\n",
       "      <td>109.350724</td>\n",
       "      <td>1.147610e+09</td>\n",
       "      <td>7.249795e+06</td>\n",
       "      <td>13.141368</td>\n",
       "      <td>...</td>\n",
       "      <td>0.796845</td>\n",
       "      <td>108.133334</td>\n",
       "      <td>107.195980</td>\n",
       "      <td>108.115000</td>\n",
       "      <td>-8.599643</td>\n",
       "      <td>107.422363</td>\n",
       "      <td>107.460513</td>\n",
       "      <td>1.231077</td>\n",
       "      <td>1</td>\n",
       "      <td>108.059998</td>\n",
       "    </tr>\n",
       "    <tr>\n",
       "      <th>2015-04-22</th>\n",
       "      <td>107.526000</td>\n",
       "      <td>108.699309</td>\n",
       "      <td>106.352692</td>\n",
       "      <td>1.173309</td>\n",
       "      <td>103.848510</td>\n",
       "      <td>106.6280</td>\n",
       "      <td>109.381006</td>\n",
       "      <td>1.162557e+09</td>\n",
       "      <td>1.018057e+07</td>\n",
       "      <td>12.553873</td>\n",
       "      <td>...</td>\n",
       "      <td>0.704243</td>\n",
       "      <td>108.373334</td>\n",
       "      <td>107.386691</td>\n",
       "      <td>108.442501</td>\n",
       "      <td>-4.008911</td>\n",
       "      <td>107.657818</td>\n",
       "      <td>107.851329</td>\n",
       "      <td>1.612080</td>\n",
       "      <td>1</td>\n",
       "      <td>108.650002</td>\n",
       "    </tr>\n",
       "  </tbody>\n",
       "</table>\n",
       "<p>144 rows × 163 columns</p>\n",
       "</div>"
      ],
      "text/plain": [
       "            ABER_ZG_5_15  ABER_SG_5_15  ABER_XG_5_15  ABER_ATR_5_15  \\\n",
       "Date                                                                  \n",
       "2014-05-13     87.166001     88.416988     85.915014       1.250987   \n",
       "2014-05-16     87.756001     88.976027     86.535975       1.220026   \n",
       "2014-05-27     89.247333     90.369406     88.125261       1.122073   \n",
       "2014-05-30     90.710000     91.726463     89.693536       1.016464   \n",
       "2014-06-02     91.003333     92.005366     90.001300       1.002033   \n",
       "...                  ...           ...           ...            ...   \n",
       "2015-04-14    107.154667    108.300505    106.008828       1.145838   \n",
       "2015-04-15    107.419333    108.548782    106.289884       1.129449   \n",
       "2015-04-16    107.558000    108.644152    106.471847       1.086152   \n",
       "2015-04-21    107.400000    108.572116    106.227884       1.172116   \n",
       "2015-04-22    107.526000    108.699309    106.352692       1.173309   \n",
       "\n",
       "              ACCBL_20  ACCBM_20    ACCBU_20            AD    ADOSC_3_10  \\\n",
       "Date                                                                       \n",
       "2014-05-13   83.975365   86.9810   89.730368  1.585709e+08  2.594460e+07   \n",
       "2014-05-16   84.427180   87.2435   89.902181  1.969193e+08  2.728565e+07   \n",
       "2014-05-27   85.312597   87.9380   90.282598  3.027974e+08  5.381826e+07   \n",
       "2014-05-30   86.047535   88.4945   90.700032  3.297771e+08  4.881899e+07   \n",
       "2014-06-02   86.218494   88.6810   90.863491  3.434615e+08  4.950034e+07   \n",
       "...                ...       ...         ...           ...           ...   \n",
       "2015-04-14  103.957438  106.7180  109.522430  1.142027e+09  1.149186e+07   \n",
       "2015-04-15  104.028335  106.7665  109.560829  1.150197e+09  1.246792e+07   \n",
       "2015-04-16  104.284302  106.7550  109.341793  1.153571e+09  1.280739e+07   \n",
       "2015-04-21  103.890731  106.5920  109.350724  1.147610e+09  7.249795e+06   \n",
       "2015-04-22  103.848510  106.6280  109.381006  1.162557e+09  1.018057e+07   \n",
       "\n",
       "               ADX_14  ...   VTXM_14      VWAP_D     VWMA_10         WCP  \\\n",
       "Date                   ...                                                 \n",
       "2014-05-13  17.134584  ...  0.927781   88.340001   87.265404   88.327501   \n",
       "2014-05-16  16.037539  ...  0.972423   87.370000   87.286350   87.455000   \n",
       "2014-05-27  14.095907  ...  0.819959   90.739998   88.391091   90.804998   \n",
       "2014-05-30  17.077991  ...  0.659437   91.196665   89.394344   91.224998   \n",
       "2014-06-02  17.772598  ...  0.732823   91.100001   89.937421   91.130001   \n",
       "...               ...  ...       ...         ...         ...         ...   \n",
       "2015-04-14  16.180392  ...  1.067091  107.136665  106.282909  107.144999   \n",
       "2015-04-15  15.273543  ...  1.000649  107.743332  106.521898  107.767498   \n",
       "2015-04-16  14.431470  ...  0.840610  107.656667  106.846157  107.665001   \n",
       "2015-04-21  13.141368  ...  0.796845  108.133334  107.195980  108.115000   \n",
       "2015-04-22  12.553873  ...  0.704243  108.373334  107.386691  108.442501   \n",
       "\n",
       "             WILLR_14      WMA_10   ZL_EMA_10     ZS_30  Model  Close Price  \n",
       "Date                                                                         \n",
       "2014-05-13  -9.142848   87.401819   87.678440  1.117167      1    88.290001  \n",
       "2014-05-16 -29.220811   87.501455   87.742871  0.933547      1    87.709999  \n",
       "2014-05-27  -0.364238   89.099090   90.150345  2.815790      1    91.000000  \n",
       "2014-05-30  -2.874734   90.303636   91.398304  2.240411      1    91.309998  \n",
       "2014-06-02  -4.722710   90.592546   91.405885  1.973254      1    91.220001  \n",
       "...               ...         ...         ...       ...    ...          ...  \n",
       "2015-04-14 -29.227035  106.836546  107.544434  0.297626      1   107.169998  \n",
       "2015-04-15 -13.043502  107.100182  107.694536  0.903130      1   107.839996  \n",
       "2015-04-16 -17.079076  107.295818  107.682803  0.817538      1   107.690002  \n",
       "2015-04-21  -8.599643  107.422363  107.460513  1.231077      1   108.059998  \n",
       "2015-04-22  -4.008911  107.657818  107.851329  1.612080      1   108.650002  \n",
       "\n",
       "[144 rows x 163 columns]"
      ]
     },
     "execution_count": 126,
     "metadata": {},
     "output_type": "execute_result"
    }
   ],
   "source": [
    "S"
   ]
  },
  {
   "cell_type": "code",
   "execution_count": 132,
   "id": "797babe2",
   "metadata": {},
   "outputs": [
    {
     "data": {
      "text/plain": [
       "0.11821496144681604"
      ]
     },
     "execution_count": 132,
     "metadata": {},
     "output_type": "execute_result"
    }
   ],
   "source": [
    "#Buying one share every day for the time period regardless of model output\n",
    "\n",
    "(Backtesting['Close Price'].sum() - (239*88.29))/Backtesting['Close Price'].sum()"
   ]
  },
  {
   "cell_type": "code",
   "execution_count": 135,
   "id": "870add37",
   "metadata": {},
   "outputs": [
    {
     "data": {
      "text/plain": [
       "0.12029260488527452"
      ]
     },
     "execution_count": 135,
     "metadata": {},
     "output_type": "execute_result"
    }
   ],
   "source": [
    "#Buying one share every day for the time period where Model returns a buy signal\n",
    "(S['Close Price'].sum() - (144*88.29))/S['Close Price'].sum()"
   ]
  },
  {
   "cell_type": "markdown",
   "id": "d9d5da93",
   "metadata": {},
   "source": [
    "Utilizing the model to buy shares and dollar cost average would return 12.03% during this time period while dollar cost averaging every day regardless would return 11.8%"
   ]
  },
  {
   "cell_type": "markdown",
   "id": "07c995a6",
   "metadata": {},
   "source": [
    "Utilizing the results of the model, we can preform backtesting using a trading strategy on QQQ to help illustrate its usefulness. In our example we will observe the QQQ ETF during the period of 2014-05-13 to 2015-04-23. During this time period if we were to purchase a share every dayin order to dollar cost average our position, our returns would come out to approximately 11.8%. On the contrary, had we only purchased a share when our model gave us a buy signal(class of 1), we would have a return of approximately 12.1%. This gives our model a slight .3%edge on returns during this time period by simply dollar cost averaging and buying shares when the model instructs. This 0.3% may seem very small to the naked eye, however this edge can be very significant for many large investors."
   ]
  },
  {
   "cell_type": "code",
   "execution_count": null,
   "id": "7e3666b3",
   "metadata": {},
   "outputs": [],
   "source": []
  }
 ],
 "metadata": {
  "colab": {
   "provenance": []
  },
  "kernelspec": {
   "display_name": "Python 3 (ipykernel)",
   "language": "python",
   "name": "python3"
  },
  "language_info": {
   "codemirror_mode": {
    "name": "ipython",
    "version": 3
   },
   "file_extension": ".py",
   "mimetype": "text/x-python",
   "name": "python",
   "nbconvert_exporter": "python",
   "pygments_lexer": "ipython3",
   "version": "3.9.18"
  },
  "varInspector": {
   "cols": {
    "lenName": 16,
    "lenType": 16,
    "lenVar": 40
   },
   "kernels_config": {
    "python": {
     "delete_cmd_postfix": "",
     "delete_cmd_prefix": "del ",
     "library": "var_list.py",
     "varRefreshCmd": "print(var_dic_list())"
    },
    "r": {
     "delete_cmd_postfix": ") ",
     "delete_cmd_prefix": "rm(",
     "library": "var_list.r",
     "varRefreshCmd": "cat(var_dic_list()) "
    }
   },
   "types_to_exclude": [
    "module",
    "function",
    "builtin_function_or_method",
    "instance",
    "_Feature"
   ],
   "window_display": false
  }
 },
 "nbformat": 4,
 "nbformat_minor": 5
}
